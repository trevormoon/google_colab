{
  "nbformat": 4,
  "nbformat_minor": 0,
  "metadata": {
    "colab": {
      "provenance": [],
      "authorship_tag": "ABX9TyMUeWVATPWt22zu3puMTCx1",
      "include_colab_link": true
    },
    "kernelspec": {
      "name": "python3",
      "display_name": "Python 3"
    },
    "language_info": {
      "name": "python"
    },
    "accelerator": "GPU",
    "gpuClass": "standard",
    "widgets": {
      "application/vnd.jupyter.widget-state+json": {
        "6e6b2f3adc3343208275de647180d51a": {
          "model_module": "@jupyter-widgets/controls",
          "model_name": "VBoxModel",
          "model_module_version": "1.5.0",
          "state": {
            "_dom_classes": [],
            "_model_module": "@jupyter-widgets/controls",
            "_model_module_version": "1.5.0",
            "_model_name": "VBoxModel",
            "_view_count": null,
            "_view_module": "@jupyter-widgets/controls",
            "_view_module_version": "1.5.0",
            "_view_name": "VBoxView",
            "box_style": "",
            "children": [
              "IPY_MODEL_b6072be008134909aa3ee947a776c696",
              "IPY_MODEL_7215ee99be9149bdb94dab7c60117ff4"
            ],
            "layout": "IPY_MODEL_408078ddc9db4e80be9e4eb7740382c5"
          }
        },
        "b6072be008134909aa3ee947a776c696": {
          "model_module": "@jupyter-widgets/controls",
          "model_name": "LabelModel",
          "model_module_version": "1.5.0",
          "state": {
            "_dom_classes": [],
            "_model_module": "@jupyter-widgets/controls",
            "_model_module_version": "1.5.0",
            "_model_name": "LabelModel",
            "_view_count": null,
            "_view_module": "@jupyter-widgets/controls",
            "_view_module_version": "1.5.0",
            "_view_name": "LabelView",
            "description": "",
            "description_tooltip": null,
            "layout": "IPY_MODEL_878a884c232a4f5482e9a7c20ecb3731",
            "placeholder": "​",
            "style": "IPY_MODEL_3d16fbef53ef4a93921d1d2144fd0a08",
            "value": "1.626 MB of 1.626 MB uploaded (0.034 MB deduped)\r"
          }
        },
        "7215ee99be9149bdb94dab7c60117ff4": {
          "model_module": "@jupyter-widgets/controls",
          "model_name": "FloatProgressModel",
          "model_module_version": "1.5.0",
          "state": {
            "_dom_classes": [],
            "_model_module": "@jupyter-widgets/controls",
            "_model_module_version": "1.5.0",
            "_model_name": "FloatProgressModel",
            "_view_count": null,
            "_view_module": "@jupyter-widgets/controls",
            "_view_module_version": "1.5.0",
            "_view_name": "ProgressView",
            "bar_style": "",
            "description": "",
            "description_tooltip": null,
            "layout": "IPY_MODEL_338cb1219a414d28bcfda101214ea3a6",
            "max": 1,
            "min": 0,
            "orientation": "horizontal",
            "style": "IPY_MODEL_d7f97dec149c4067963a63d4796abeec",
            "value": 1
          }
        },
        "408078ddc9db4e80be9e4eb7740382c5": {
          "model_module": "@jupyter-widgets/base",
          "model_name": "LayoutModel",
          "model_module_version": "1.2.0",
          "state": {
            "_model_module": "@jupyter-widgets/base",
            "_model_module_version": "1.2.0",
            "_model_name": "LayoutModel",
            "_view_count": null,
            "_view_module": "@jupyter-widgets/base",
            "_view_module_version": "1.2.0",
            "_view_name": "LayoutView",
            "align_content": null,
            "align_items": null,
            "align_self": null,
            "border": null,
            "bottom": null,
            "display": null,
            "flex": null,
            "flex_flow": null,
            "grid_area": null,
            "grid_auto_columns": null,
            "grid_auto_flow": null,
            "grid_auto_rows": null,
            "grid_column": null,
            "grid_gap": null,
            "grid_row": null,
            "grid_template_areas": null,
            "grid_template_columns": null,
            "grid_template_rows": null,
            "height": null,
            "justify_content": null,
            "justify_items": null,
            "left": null,
            "margin": null,
            "max_height": null,
            "max_width": null,
            "min_height": null,
            "min_width": null,
            "object_fit": null,
            "object_position": null,
            "order": null,
            "overflow": null,
            "overflow_x": null,
            "overflow_y": null,
            "padding": null,
            "right": null,
            "top": null,
            "visibility": null,
            "width": null
          }
        },
        "878a884c232a4f5482e9a7c20ecb3731": {
          "model_module": "@jupyter-widgets/base",
          "model_name": "LayoutModel",
          "model_module_version": "1.2.0",
          "state": {
            "_model_module": "@jupyter-widgets/base",
            "_model_module_version": "1.2.0",
            "_model_name": "LayoutModel",
            "_view_count": null,
            "_view_module": "@jupyter-widgets/base",
            "_view_module_version": "1.2.0",
            "_view_name": "LayoutView",
            "align_content": null,
            "align_items": null,
            "align_self": null,
            "border": null,
            "bottom": null,
            "display": null,
            "flex": null,
            "flex_flow": null,
            "grid_area": null,
            "grid_auto_columns": null,
            "grid_auto_flow": null,
            "grid_auto_rows": null,
            "grid_column": null,
            "grid_gap": null,
            "grid_row": null,
            "grid_template_areas": null,
            "grid_template_columns": null,
            "grid_template_rows": null,
            "height": null,
            "justify_content": null,
            "justify_items": null,
            "left": null,
            "margin": null,
            "max_height": null,
            "max_width": null,
            "min_height": null,
            "min_width": null,
            "object_fit": null,
            "object_position": null,
            "order": null,
            "overflow": null,
            "overflow_x": null,
            "overflow_y": null,
            "padding": null,
            "right": null,
            "top": null,
            "visibility": null,
            "width": null
          }
        },
        "3d16fbef53ef4a93921d1d2144fd0a08": {
          "model_module": "@jupyter-widgets/controls",
          "model_name": "DescriptionStyleModel",
          "model_module_version": "1.5.0",
          "state": {
            "_model_module": "@jupyter-widgets/controls",
            "_model_module_version": "1.5.0",
            "_model_name": "DescriptionStyleModel",
            "_view_count": null,
            "_view_module": "@jupyter-widgets/base",
            "_view_module_version": "1.2.0",
            "_view_name": "StyleView",
            "description_width": ""
          }
        },
        "338cb1219a414d28bcfda101214ea3a6": {
          "model_module": "@jupyter-widgets/base",
          "model_name": "LayoutModel",
          "model_module_version": "1.2.0",
          "state": {
            "_model_module": "@jupyter-widgets/base",
            "_model_module_version": "1.2.0",
            "_model_name": "LayoutModel",
            "_view_count": null,
            "_view_module": "@jupyter-widgets/base",
            "_view_module_version": "1.2.0",
            "_view_name": "LayoutView",
            "align_content": null,
            "align_items": null,
            "align_self": null,
            "border": null,
            "bottom": null,
            "display": null,
            "flex": null,
            "flex_flow": null,
            "grid_area": null,
            "grid_auto_columns": null,
            "grid_auto_flow": null,
            "grid_auto_rows": null,
            "grid_column": null,
            "grid_gap": null,
            "grid_row": null,
            "grid_template_areas": null,
            "grid_template_columns": null,
            "grid_template_rows": null,
            "height": null,
            "justify_content": null,
            "justify_items": null,
            "left": null,
            "margin": null,
            "max_height": null,
            "max_width": null,
            "min_height": null,
            "min_width": null,
            "object_fit": null,
            "object_position": null,
            "order": null,
            "overflow": null,
            "overflow_x": null,
            "overflow_y": null,
            "padding": null,
            "right": null,
            "top": null,
            "visibility": null,
            "width": null
          }
        },
        "d7f97dec149c4067963a63d4796abeec": {
          "model_module": "@jupyter-widgets/controls",
          "model_name": "ProgressStyleModel",
          "model_module_version": "1.5.0",
          "state": {
            "_model_module": "@jupyter-widgets/controls",
            "_model_module_version": "1.5.0",
            "_model_name": "ProgressStyleModel",
            "_view_count": null,
            "_view_module": "@jupyter-widgets/base",
            "_view_module_version": "1.2.0",
            "_view_name": "StyleView",
            "bar_color": null,
            "description_width": ""
          }
        },
        "e27ba202668e44878b4cb527c5b547cb": {
          "model_module": "@jupyter-widgets/controls",
          "model_name": "VBoxModel",
          "model_module_version": "1.5.0",
          "state": {
            "_dom_classes": [],
            "_model_module": "@jupyter-widgets/controls",
            "_model_module_version": "1.5.0",
            "_model_name": "VBoxModel",
            "_view_count": null,
            "_view_module": "@jupyter-widgets/controls",
            "_view_module_version": "1.5.0",
            "_view_name": "VBoxView",
            "box_style": "",
            "children": [
              "IPY_MODEL_59c715160f534cd3b93e1391892bb0db",
              "IPY_MODEL_647222f60e73467c9be8582e62edec83"
            ],
            "layout": "IPY_MODEL_e00567af0e9a4ddba626e6d1860bc6b5"
          }
        },
        "59c715160f534cd3b93e1391892bb0db": {
          "model_module": "@jupyter-widgets/controls",
          "model_name": "LabelModel",
          "model_module_version": "1.5.0",
          "state": {
            "_dom_classes": [],
            "_model_module": "@jupyter-widgets/controls",
            "_model_module_version": "1.5.0",
            "_model_name": "LabelModel",
            "_view_count": null,
            "_view_module": "@jupyter-widgets/controls",
            "_view_module_version": "1.5.0",
            "_view_name": "LabelView",
            "description": "",
            "description_tooltip": null,
            "layout": "IPY_MODEL_cb57f798c4ec4c9bafaa2bfac27bd2a3",
            "placeholder": "​",
            "style": "IPY_MODEL_610e17739d684bf2956c4a4e19cd0d7c",
            "value": "2.015 MB of 2.015 MB uploaded (0.046 MB deduped)\r"
          }
        },
        "647222f60e73467c9be8582e62edec83": {
          "model_module": "@jupyter-widgets/controls",
          "model_name": "FloatProgressModel",
          "model_module_version": "1.5.0",
          "state": {
            "_dom_classes": [],
            "_model_module": "@jupyter-widgets/controls",
            "_model_module_version": "1.5.0",
            "_model_name": "FloatProgressModel",
            "_view_count": null,
            "_view_module": "@jupyter-widgets/controls",
            "_view_module_version": "1.5.0",
            "_view_name": "ProgressView",
            "bar_style": "",
            "description": "",
            "description_tooltip": null,
            "layout": "IPY_MODEL_6185631595354914ac77f877f7e55c9b",
            "max": 1,
            "min": 0,
            "orientation": "horizontal",
            "style": "IPY_MODEL_e3607704ec8d4c7d99167f2bb1a44662",
            "value": 1
          }
        },
        "e00567af0e9a4ddba626e6d1860bc6b5": {
          "model_module": "@jupyter-widgets/base",
          "model_name": "LayoutModel",
          "model_module_version": "1.2.0",
          "state": {
            "_model_module": "@jupyter-widgets/base",
            "_model_module_version": "1.2.0",
            "_model_name": "LayoutModel",
            "_view_count": null,
            "_view_module": "@jupyter-widgets/base",
            "_view_module_version": "1.2.0",
            "_view_name": "LayoutView",
            "align_content": null,
            "align_items": null,
            "align_self": null,
            "border": null,
            "bottom": null,
            "display": null,
            "flex": null,
            "flex_flow": null,
            "grid_area": null,
            "grid_auto_columns": null,
            "grid_auto_flow": null,
            "grid_auto_rows": null,
            "grid_column": null,
            "grid_gap": null,
            "grid_row": null,
            "grid_template_areas": null,
            "grid_template_columns": null,
            "grid_template_rows": null,
            "height": null,
            "justify_content": null,
            "justify_items": null,
            "left": null,
            "margin": null,
            "max_height": null,
            "max_width": null,
            "min_height": null,
            "min_width": null,
            "object_fit": null,
            "object_position": null,
            "order": null,
            "overflow": null,
            "overflow_x": null,
            "overflow_y": null,
            "padding": null,
            "right": null,
            "top": null,
            "visibility": null,
            "width": null
          }
        },
        "cb57f798c4ec4c9bafaa2bfac27bd2a3": {
          "model_module": "@jupyter-widgets/base",
          "model_name": "LayoutModel",
          "model_module_version": "1.2.0",
          "state": {
            "_model_module": "@jupyter-widgets/base",
            "_model_module_version": "1.2.0",
            "_model_name": "LayoutModel",
            "_view_count": null,
            "_view_module": "@jupyter-widgets/base",
            "_view_module_version": "1.2.0",
            "_view_name": "LayoutView",
            "align_content": null,
            "align_items": null,
            "align_self": null,
            "border": null,
            "bottom": null,
            "display": null,
            "flex": null,
            "flex_flow": null,
            "grid_area": null,
            "grid_auto_columns": null,
            "grid_auto_flow": null,
            "grid_auto_rows": null,
            "grid_column": null,
            "grid_gap": null,
            "grid_row": null,
            "grid_template_areas": null,
            "grid_template_columns": null,
            "grid_template_rows": null,
            "height": null,
            "justify_content": null,
            "justify_items": null,
            "left": null,
            "margin": null,
            "max_height": null,
            "max_width": null,
            "min_height": null,
            "min_width": null,
            "object_fit": null,
            "object_position": null,
            "order": null,
            "overflow": null,
            "overflow_x": null,
            "overflow_y": null,
            "padding": null,
            "right": null,
            "top": null,
            "visibility": null,
            "width": null
          }
        },
        "610e17739d684bf2956c4a4e19cd0d7c": {
          "model_module": "@jupyter-widgets/controls",
          "model_name": "DescriptionStyleModel",
          "model_module_version": "1.5.0",
          "state": {
            "_model_module": "@jupyter-widgets/controls",
            "_model_module_version": "1.5.0",
            "_model_name": "DescriptionStyleModel",
            "_view_count": null,
            "_view_module": "@jupyter-widgets/base",
            "_view_module_version": "1.2.0",
            "_view_name": "StyleView",
            "description_width": ""
          }
        },
        "6185631595354914ac77f877f7e55c9b": {
          "model_module": "@jupyter-widgets/base",
          "model_name": "LayoutModel",
          "model_module_version": "1.2.0",
          "state": {
            "_model_module": "@jupyter-widgets/base",
            "_model_module_version": "1.2.0",
            "_model_name": "LayoutModel",
            "_view_count": null,
            "_view_module": "@jupyter-widgets/base",
            "_view_module_version": "1.2.0",
            "_view_name": "LayoutView",
            "align_content": null,
            "align_items": null,
            "align_self": null,
            "border": null,
            "bottom": null,
            "display": null,
            "flex": null,
            "flex_flow": null,
            "grid_area": null,
            "grid_auto_columns": null,
            "grid_auto_flow": null,
            "grid_auto_rows": null,
            "grid_column": null,
            "grid_gap": null,
            "grid_row": null,
            "grid_template_areas": null,
            "grid_template_columns": null,
            "grid_template_rows": null,
            "height": null,
            "justify_content": null,
            "justify_items": null,
            "left": null,
            "margin": null,
            "max_height": null,
            "max_width": null,
            "min_height": null,
            "min_width": null,
            "object_fit": null,
            "object_position": null,
            "order": null,
            "overflow": null,
            "overflow_x": null,
            "overflow_y": null,
            "padding": null,
            "right": null,
            "top": null,
            "visibility": null,
            "width": null
          }
        },
        "e3607704ec8d4c7d99167f2bb1a44662": {
          "model_module": "@jupyter-widgets/controls",
          "model_name": "ProgressStyleModel",
          "model_module_version": "1.5.0",
          "state": {
            "_model_module": "@jupyter-widgets/controls",
            "_model_module_version": "1.5.0",
            "_model_name": "ProgressStyleModel",
            "_view_count": null,
            "_view_module": "@jupyter-widgets/base",
            "_view_module_version": "1.2.0",
            "_view_name": "StyleView",
            "bar_color": null,
            "description_width": ""
          }
        },
        "2d333df153d74204b037d4776d2b8592": {
          "model_module": "@jupyter-widgets/controls",
          "model_name": "VBoxModel",
          "model_module_version": "1.5.0",
          "state": {
            "_dom_classes": [],
            "_model_module": "@jupyter-widgets/controls",
            "_model_module_version": "1.5.0",
            "_model_name": "VBoxModel",
            "_view_count": null,
            "_view_module": "@jupyter-widgets/controls",
            "_view_module_version": "1.5.0",
            "_view_name": "VBoxView",
            "box_style": "",
            "children": [
              "IPY_MODEL_9f0e2fe6e41542aa878aa25deed2e904",
              "IPY_MODEL_a8890a08c57840b5838fa256da41455d"
            ],
            "layout": "IPY_MODEL_2510ded1d61e43e092bc0f462f4c6be7"
          }
        },
        "9f0e2fe6e41542aa878aa25deed2e904": {
          "model_module": "@jupyter-widgets/controls",
          "model_name": "LabelModel",
          "model_module_version": "1.5.0",
          "state": {
            "_dom_classes": [],
            "_model_module": "@jupyter-widgets/controls",
            "_model_module_version": "1.5.0",
            "_model_name": "LabelModel",
            "_view_count": null,
            "_view_module": "@jupyter-widgets/controls",
            "_view_module_version": "1.5.0",
            "_view_name": "LabelView",
            "description": "",
            "description_tooltip": null,
            "layout": "IPY_MODEL_6071fc44ed2045da9436bc3cc6cceb1b",
            "placeholder": "​",
            "style": "IPY_MODEL_55ba951864cc434b9f8322aca03b183c",
            "value": "1.553 MB of 1.653 MB uploaded (0.034 MB deduped)\r"
          }
        },
        "a8890a08c57840b5838fa256da41455d": {
          "model_module": "@jupyter-widgets/controls",
          "model_name": "FloatProgressModel",
          "model_module_version": "1.5.0",
          "state": {
            "_dom_classes": [],
            "_model_module": "@jupyter-widgets/controls",
            "_model_module_version": "1.5.0",
            "_model_name": "FloatProgressModel",
            "_view_count": null,
            "_view_module": "@jupyter-widgets/controls",
            "_view_module_version": "1.5.0",
            "_view_name": "ProgressView",
            "bar_style": "",
            "description": "",
            "description_tooltip": null,
            "layout": "IPY_MODEL_72cf24b112cd41d9890eb71932fd42de",
            "max": 1,
            "min": 0,
            "orientation": "horizontal",
            "style": "IPY_MODEL_027d0d17634d4238a54c553857822072",
            "value": 0.9394637673632151
          }
        },
        "2510ded1d61e43e092bc0f462f4c6be7": {
          "model_module": "@jupyter-widgets/base",
          "model_name": "LayoutModel",
          "model_module_version": "1.2.0",
          "state": {
            "_model_module": "@jupyter-widgets/base",
            "_model_module_version": "1.2.0",
            "_model_name": "LayoutModel",
            "_view_count": null,
            "_view_module": "@jupyter-widgets/base",
            "_view_module_version": "1.2.0",
            "_view_name": "LayoutView",
            "align_content": null,
            "align_items": null,
            "align_self": null,
            "border": null,
            "bottom": null,
            "display": null,
            "flex": null,
            "flex_flow": null,
            "grid_area": null,
            "grid_auto_columns": null,
            "grid_auto_flow": null,
            "grid_auto_rows": null,
            "grid_column": null,
            "grid_gap": null,
            "grid_row": null,
            "grid_template_areas": null,
            "grid_template_columns": null,
            "grid_template_rows": null,
            "height": null,
            "justify_content": null,
            "justify_items": null,
            "left": null,
            "margin": null,
            "max_height": null,
            "max_width": null,
            "min_height": null,
            "min_width": null,
            "object_fit": null,
            "object_position": null,
            "order": null,
            "overflow": null,
            "overflow_x": null,
            "overflow_y": null,
            "padding": null,
            "right": null,
            "top": null,
            "visibility": null,
            "width": null
          }
        },
        "6071fc44ed2045da9436bc3cc6cceb1b": {
          "model_module": "@jupyter-widgets/base",
          "model_name": "LayoutModel",
          "model_module_version": "1.2.0",
          "state": {
            "_model_module": "@jupyter-widgets/base",
            "_model_module_version": "1.2.0",
            "_model_name": "LayoutModel",
            "_view_count": null,
            "_view_module": "@jupyter-widgets/base",
            "_view_module_version": "1.2.0",
            "_view_name": "LayoutView",
            "align_content": null,
            "align_items": null,
            "align_self": null,
            "border": null,
            "bottom": null,
            "display": null,
            "flex": null,
            "flex_flow": null,
            "grid_area": null,
            "grid_auto_columns": null,
            "grid_auto_flow": null,
            "grid_auto_rows": null,
            "grid_column": null,
            "grid_gap": null,
            "grid_row": null,
            "grid_template_areas": null,
            "grid_template_columns": null,
            "grid_template_rows": null,
            "height": null,
            "justify_content": null,
            "justify_items": null,
            "left": null,
            "margin": null,
            "max_height": null,
            "max_width": null,
            "min_height": null,
            "min_width": null,
            "object_fit": null,
            "object_position": null,
            "order": null,
            "overflow": null,
            "overflow_x": null,
            "overflow_y": null,
            "padding": null,
            "right": null,
            "top": null,
            "visibility": null,
            "width": null
          }
        },
        "55ba951864cc434b9f8322aca03b183c": {
          "model_module": "@jupyter-widgets/controls",
          "model_name": "DescriptionStyleModel",
          "model_module_version": "1.5.0",
          "state": {
            "_model_module": "@jupyter-widgets/controls",
            "_model_module_version": "1.5.0",
            "_model_name": "DescriptionStyleModel",
            "_view_count": null,
            "_view_module": "@jupyter-widgets/base",
            "_view_module_version": "1.2.0",
            "_view_name": "StyleView",
            "description_width": ""
          }
        },
        "72cf24b112cd41d9890eb71932fd42de": {
          "model_module": "@jupyter-widgets/base",
          "model_name": "LayoutModel",
          "model_module_version": "1.2.0",
          "state": {
            "_model_module": "@jupyter-widgets/base",
            "_model_module_version": "1.2.0",
            "_model_name": "LayoutModel",
            "_view_count": null,
            "_view_module": "@jupyter-widgets/base",
            "_view_module_version": "1.2.0",
            "_view_name": "LayoutView",
            "align_content": null,
            "align_items": null,
            "align_self": null,
            "border": null,
            "bottom": null,
            "display": null,
            "flex": null,
            "flex_flow": null,
            "grid_area": null,
            "grid_auto_columns": null,
            "grid_auto_flow": null,
            "grid_auto_rows": null,
            "grid_column": null,
            "grid_gap": null,
            "grid_row": null,
            "grid_template_areas": null,
            "grid_template_columns": null,
            "grid_template_rows": null,
            "height": null,
            "justify_content": null,
            "justify_items": null,
            "left": null,
            "margin": null,
            "max_height": null,
            "max_width": null,
            "min_height": null,
            "min_width": null,
            "object_fit": null,
            "object_position": null,
            "order": null,
            "overflow": null,
            "overflow_x": null,
            "overflow_y": null,
            "padding": null,
            "right": null,
            "top": null,
            "visibility": null,
            "width": null
          }
        },
        "027d0d17634d4238a54c553857822072": {
          "model_module": "@jupyter-widgets/controls",
          "model_name": "ProgressStyleModel",
          "model_module_version": "1.5.0",
          "state": {
            "_model_module": "@jupyter-widgets/controls",
            "_model_module_version": "1.5.0",
            "_model_name": "ProgressStyleModel",
            "_view_count": null,
            "_view_module": "@jupyter-widgets/base",
            "_view_module_version": "1.2.0",
            "_view_name": "StyleView",
            "bar_color": null,
            "description_width": ""
          }
        },
        "3e1ff2963f8e47389443ffac56542053": {
          "model_module": "@jupyter-widgets/controls",
          "model_name": "VBoxModel",
          "model_module_version": "1.5.0",
          "state": {
            "_dom_classes": [],
            "_model_module": "@jupyter-widgets/controls",
            "_model_module_version": "1.5.0",
            "_model_name": "VBoxModel",
            "_view_count": null,
            "_view_module": "@jupyter-widgets/controls",
            "_view_module_version": "1.5.0",
            "_view_name": "VBoxView",
            "box_style": "",
            "children": [
              "IPY_MODEL_786a83fa9a5240878e6b791acf43ab3e",
              "IPY_MODEL_99faf588427343708de2fa0dff516b18"
            ],
            "layout": "IPY_MODEL_799f6647ff71424987c47af6b0eedf0f"
          }
        },
        "786a83fa9a5240878e6b791acf43ab3e": {
          "model_module": "@jupyter-widgets/controls",
          "model_name": "LabelModel",
          "model_module_version": "1.5.0",
          "state": {
            "_dom_classes": [],
            "_model_module": "@jupyter-widgets/controls",
            "_model_module_version": "1.5.0",
            "_model_name": "LabelModel",
            "_view_count": null,
            "_view_module": "@jupyter-widgets/controls",
            "_view_module_version": "1.5.0",
            "_view_name": "LabelView",
            "description": "",
            "description_tooltip": null,
            "layout": "IPY_MODEL_7b6207a13cb149c99edd67db6264b129",
            "placeholder": "​",
            "style": "IPY_MODEL_3a6918b542c54ed1b76b1464199f77a0",
            "value": "1.916 MB of 1.916 MB uploaded (0.034 MB deduped)\r"
          }
        },
        "99faf588427343708de2fa0dff516b18": {
          "model_module": "@jupyter-widgets/controls",
          "model_name": "FloatProgressModel",
          "model_module_version": "1.5.0",
          "state": {
            "_dom_classes": [],
            "_model_module": "@jupyter-widgets/controls",
            "_model_module_version": "1.5.0",
            "_model_name": "FloatProgressModel",
            "_view_count": null,
            "_view_module": "@jupyter-widgets/controls",
            "_view_module_version": "1.5.0",
            "_view_name": "ProgressView",
            "bar_style": "",
            "description": "",
            "description_tooltip": null,
            "layout": "IPY_MODEL_ace8019e4807448291394b2bfe0cb1f5",
            "max": 1,
            "min": 0,
            "orientation": "horizontal",
            "style": "IPY_MODEL_39b1ca5bee3e43faaec5b0eec5d919a8",
            "value": 1
          }
        },
        "799f6647ff71424987c47af6b0eedf0f": {
          "model_module": "@jupyter-widgets/base",
          "model_name": "LayoutModel",
          "model_module_version": "1.2.0",
          "state": {
            "_model_module": "@jupyter-widgets/base",
            "_model_module_version": "1.2.0",
            "_model_name": "LayoutModel",
            "_view_count": null,
            "_view_module": "@jupyter-widgets/base",
            "_view_module_version": "1.2.0",
            "_view_name": "LayoutView",
            "align_content": null,
            "align_items": null,
            "align_self": null,
            "border": null,
            "bottom": null,
            "display": null,
            "flex": null,
            "flex_flow": null,
            "grid_area": null,
            "grid_auto_columns": null,
            "grid_auto_flow": null,
            "grid_auto_rows": null,
            "grid_column": null,
            "grid_gap": null,
            "grid_row": null,
            "grid_template_areas": null,
            "grid_template_columns": null,
            "grid_template_rows": null,
            "height": null,
            "justify_content": null,
            "justify_items": null,
            "left": null,
            "margin": null,
            "max_height": null,
            "max_width": null,
            "min_height": null,
            "min_width": null,
            "object_fit": null,
            "object_position": null,
            "order": null,
            "overflow": null,
            "overflow_x": null,
            "overflow_y": null,
            "padding": null,
            "right": null,
            "top": null,
            "visibility": null,
            "width": null
          }
        },
        "7b6207a13cb149c99edd67db6264b129": {
          "model_module": "@jupyter-widgets/base",
          "model_name": "LayoutModel",
          "model_module_version": "1.2.0",
          "state": {
            "_model_module": "@jupyter-widgets/base",
            "_model_module_version": "1.2.0",
            "_model_name": "LayoutModel",
            "_view_count": null,
            "_view_module": "@jupyter-widgets/base",
            "_view_module_version": "1.2.0",
            "_view_name": "LayoutView",
            "align_content": null,
            "align_items": null,
            "align_self": null,
            "border": null,
            "bottom": null,
            "display": null,
            "flex": null,
            "flex_flow": null,
            "grid_area": null,
            "grid_auto_columns": null,
            "grid_auto_flow": null,
            "grid_auto_rows": null,
            "grid_column": null,
            "grid_gap": null,
            "grid_row": null,
            "grid_template_areas": null,
            "grid_template_columns": null,
            "grid_template_rows": null,
            "height": null,
            "justify_content": null,
            "justify_items": null,
            "left": null,
            "margin": null,
            "max_height": null,
            "max_width": null,
            "min_height": null,
            "min_width": null,
            "object_fit": null,
            "object_position": null,
            "order": null,
            "overflow": null,
            "overflow_x": null,
            "overflow_y": null,
            "padding": null,
            "right": null,
            "top": null,
            "visibility": null,
            "width": null
          }
        },
        "3a6918b542c54ed1b76b1464199f77a0": {
          "model_module": "@jupyter-widgets/controls",
          "model_name": "DescriptionStyleModel",
          "model_module_version": "1.5.0",
          "state": {
            "_model_module": "@jupyter-widgets/controls",
            "_model_module_version": "1.5.0",
            "_model_name": "DescriptionStyleModel",
            "_view_count": null,
            "_view_module": "@jupyter-widgets/base",
            "_view_module_version": "1.2.0",
            "_view_name": "StyleView",
            "description_width": ""
          }
        },
        "ace8019e4807448291394b2bfe0cb1f5": {
          "model_module": "@jupyter-widgets/base",
          "model_name": "LayoutModel",
          "model_module_version": "1.2.0",
          "state": {
            "_model_module": "@jupyter-widgets/base",
            "_model_module_version": "1.2.0",
            "_model_name": "LayoutModel",
            "_view_count": null,
            "_view_module": "@jupyter-widgets/base",
            "_view_module_version": "1.2.0",
            "_view_name": "LayoutView",
            "align_content": null,
            "align_items": null,
            "align_self": null,
            "border": null,
            "bottom": null,
            "display": null,
            "flex": null,
            "flex_flow": null,
            "grid_area": null,
            "grid_auto_columns": null,
            "grid_auto_flow": null,
            "grid_auto_rows": null,
            "grid_column": null,
            "grid_gap": null,
            "grid_row": null,
            "grid_template_areas": null,
            "grid_template_columns": null,
            "grid_template_rows": null,
            "height": null,
            "justify_content": null,
            "justify_items": null,
            "left": null,
            "margin": null,
            "max_height": null,
            "max_width": null,
            "min_height": null,
            "min_width": null,
            "object_fit": null,
            "object_position": null,
            "order": null,
            "overflow": null,
            "overflow_x": null,
            "overflow_y": null,
            "padding": null,
            "right": null,
            "top": null,
            "visibility": null,
            "width": null
          }
        },
        "39b1ca5bee3e43faaec5b0eec5d919a8": {
          "model_module": "@jupyter-widgets/controls",
          "model_name": "ProgressStyleModel",
          "model_module_version": "1.5.0",
          "state": {
            "_model_module": "@jupyter-widgets/controls",
            "_model_module_version": "1.5.0",
            "_model_name": "ProgressStyleModel",
            "_view_count": null,
            "_view_module": "@jupyter-widgets/base",
            "_view_module_version": "1.2.0",
            "_view_name": "StyleView",
            "bar_color": null,
            "description_width": ""
          }
        },
        "b135224c329d44aab7b4c7c1e5907751": {
          "model_module": "@jupyter-widgets/controls",
          "model_name": "VBoxModel",
          "model_module_version": "1.5.0",
          "state": {
            "_dom_classes": [],
            "_model_module": "@jupyter-widgets/controls",
            "_model_module_version": "1.5.0",
            "_model_name": "VBoxModel",
            "_view_count": null,
            "_view_module": "@jupyter-widgets/controls",
            "_view_module_version": "1.5.0",
            "_view_name": "VBoxView",
            "box_style": "",
            "children": [
              "IPY_MODEL_a786bb4fecca49c89485a8631e1369d8",
              "IPY_MODEL_391dcdac90f542c6a3ac155ae40d41b7"
            ],
            "layout": "IPY_MODEL_39d8d966fe7a4c6bbcd5904130497009"
          }
        },
        "a786bb4fecca49c89485a8631e1369d8": {
          "model_module": "@jupyter-widgets/controls",
          "model_name": "LabelModel",
          "model_module_version": "1.5.0",
          "state": {
            "_dom_classes": [],
            "_model_module": "@jupyter-widgets/controls",
            "_model_module_version": "1.5.0",
            "_model_name": "LabelModel",
            "_view_count": null,
            "_view_module": "@jupyter-widgets/controls",
            "_view_module_version": "1.5.0",
            "_view_name": "LabelView",
            "description": "",
            "description_tooltip": null,
            "layout": "IPY_MODEL_1e582e0e34bf4e4c949dd75106ef3f6e",
            "placeholder": "​",
            "style": "IPY_MODEL_b41432cfb6a24876bad581eb1c898072",
            "value": "1.628 MB of 1.628 MB uploaded (0.034 MB deduped)\r"
          }
        },
        "391dcdac90f542c6a3ac155ae40d41b7": {
          "model_module": "@jupyter-widgets/controls",
          "model_name": "FloatProgressModel",
          "model_module_version": "1.5.0",
          "state": {
            "_dom_classes": [],
            "_model_module": "@jupyter-widgets/controls",
            "_model_module_version": "1.5.0",
            "_model_name": "FloatProgressModel",
            "_view_count": null,
            "_view_module": "@jupyter-widgets/controls",
            "_view_module_version": "1.5.0",
            "_view_name": "ProgressView",
            "bar_style": "",
            "description": "",
            "description_tooltip": null,
            "layout": "IPY_MODEL_b632dc5efa77478b9846f30d77ae6d6e",
            "max": 1,
            "min": 0,
            "orientation": "horizontal",
            "style": "IPY_MODEL_b8569f65df064bf19ac5c3f9e1aae74b",
            "value": 1
          }
        },
        "39d8d966fe7a4c6bbcd5904130497009": {
          "model_module": "@jupyter-widgets/base",
          "model_name": "LayoutModel",
          "model_module_version": "1.2.0",
          "state": {
            "_model_module": "@jupyter-widgets/base",
            "_model_module_version": "1.2.0",
            "_model_name": "LayoutModel",
            "_view_count": null,
            "_view_module": "@jupyter-widgets/base",
            "_view_module_version": "1.2.0",
            "_view_name": "LayoutView",
            "align_content": null,
            "align_items": null,
            "align_self": null,
            "border": null,
            "bottom": null,
            "display": null,
            "flex": null,
            "flex_flow": null,
            "grid_area": null,
            "grid_auto_columns": null,
            "grid_auto_flow": null,
            "grid_auto_rows": null,
            "grid_column": null,
            "grid_gap": null,
            "grid_row": null,
            "grid_template_areas": null,
            "grid_template_columns": null,
            "grid_template_rows": null,
            "height": null,
            "justify_content": null,
            "justify_items": null,
            "left": null,
            "margin": null,
            "max_height": null,
            "max_width": null,
            "min_height": null,
            "min_width": null,
            "object_fit": null,
            "object_position": null,
            "order": null,
            "overflow": null,
            "overflow_x": null,
            "overflow_y": null,
            "padding": null,
            "right": null,
            "top": null,
            "visibility": null,
            "width": null
          }
        },
        "1e582e0e34bf4e4c949dd75106ef3f6e": {
          "model_module": "@jupyter-widgets/base",
          "model_name": "LayoutModel",
          "model_module_version": "1.2.0",
          "state": {
            "_model_module": "@jupyter-widgets/base",
            "_model_module_version": "1.2.0",
            "_model_name": "LayoutModel",
            "_view_count": null,
            "_view_module": "@jupyter-widgets/base",
            "_view_module_version": "1.2.0",
            "_view_name": "LayoutView",
            "align_content": null,
            "align_items": null,
            "align_self": null,
            "border": null,
            "bottom": null,
            "display": null,
            "flex": null,
            "flex_flow": null,
            "grid_area": null,
            "grid_auto_columns": null,
            "grid_auto_flow": null,
            "grid_auto_rows": null,
            "grid_column": null,
            "grid_gap": null,
            "grid_row": null,
            "grid_template_areas": null,
            "grid_template_columns": null,
            "grid_template_rows": null,
            "height": null,
            "justify_content": null,
            "justify_items": null,
            "left": null,
            "margin": null,
            "max_height": null,
            "max_width": null,
            "min_height": null,
            "min_width": null,
            "object_fit": null,
            "object_position": null,
            "order": null,
            "overflow": null,
            "overflow_x": null,
            "overflow_y": null,
            "padding": null,
            "right": null,
            "top": null,
            "visibility": null,
            "width": null
          }
        },
        "b41432cfb6a24876bad581eb1c898072": {
          "model_module": "@jupyter-widgets/controls",
          "model_name": "DescriptionStyleModel",
          "model_module_version": "1.5.0",
          "state": {
            "_model_module": "@jupyter-widgets/controls",
            "_model_module_version": "1.5.0",
            "_model_name": "DescriptionStyleModel",
            "_view_count": null,
            "_view_module": "@jupyter-widgets/base",
            "_view_module_version": "1.2.0",
            "_view_name": "StyleView",
            "description_width": ""
          }
        },
        "b632dc5efa77478b9846f30d77ae6d6e": {
          "model_module": "@jupyter-widgets/base",
          "model_name": "LayoutModel",
          "model_module_version": "1.2.0",
          "state": {
            "_model_module": "@jupyter-widgets/base",
            "_model_module_version": "1.2.0",
            "_model_name": "LayoutModel",
            "_view_count": null,
            "_view_module": "@jupyter-widgets/base",
            "_view_module_version": "1.2.0",
            "_view_name": "LayoutView",
            "align_content": null,
            "align_items": null,
            "align_self": null,
            "border": null,
            "bottom": null,
            "display": null,
            "flex": null,
            "flex_flow": null,
            "grid_area": null,
            "grid_auto_columns": null,
            "grid_auto_flow": null,
            "grid_auto_rows": null,
            "grid_column": null,
            "grid_gap": null,
            "grid_row": null,
            "grid_template_areas": null,
            "grid_template_columns": null,
            "grid_template_rows": null,
            "height": null,
            "justify_content": null,
            "justify_items": null,
            "left": null,
            "margin": null,
            "max_height": null,
            "max_width": null,
            "min_height": null,
            "min_width": null,
            "object_fit": null,
            "object_position": null,
            "order": null,
            "overflow": null,
            "overflow_x": null,
            "overflow_y": null,
            "padding": null,
            "right": null,
            "top": null,
            "visibility": null,
            "width": null
          }
        },
        "b8569f65df064bf19ac5c3f9e1aae74b": {
          "model_module": "@jupyter-widgets/controls",
          "model_name": "ProgressStyleModel",
          "model_module_version": "1.5.0",
          "state": {
            "_model_module": "@jupyter-widgets/controls",
            "_model_module_version": "1.5.0",
            "_model_name": "ProgressStyleModel",
            "_view_count": null,
            "_view_module": "@jupyter-widgets/base",
            "_view_module_version": "1.2.0",
            "_view_name": "StyleView",
            "bar_color": null,
            "description_width": ""
          }
        },
        "c051c374c1e2421da4a9ddd769806422": {
          "model_module": "@jupyter-widgets/controls",
          "model_name": "VBoxModel",
          "model_module_version": "1.5.0",
          "state": {
            "_dom_classes": [],
            "_model_module": "@jupyter-widgets/controls",
            "_model_module_version": "1.5.0",
            "_model_name": "VBoxModel",
            "_view_count": null,
            "_view_module": "@jupyter-widgets/controls",
            "_view_module_version": "1.5.0",
            "_view_name": "VBoxView",
            "box_style": "",
            "children": [
              "IPY_MODEL_56cb41f736594f538d16f2640fcc9fdc",
              "IPY_MODEL_21344ea71ef8474aa966fd1859271909"
            ],
            "layout": "IPY_MODEL_fcc4342efaf046ceaf17119030145be6"
          }
        },
        "56cb41f736594f538d16f2640fcc9fdc": {
          "model_module": "@jupyter-widgets/controls",
          "model_name": "LabelModel",
          "model_module_version": "1.5.0",
          "state": {
            "_dom_classes": [],
            "_model_module": "@jupyter-widgets/controls",
            "_model_module_version": "1.5.0",
            "_model_name": "LabelModel",
            "_view_count": null,
            "_view_module": "@jupyter-widgets/controls",
            "_view_module_version": "1.5.0",
            "_view_name": "LabelView",
            "description": "",
            "description_tooltip": null,
            "layout": "IPY_MODEL_91539f26dd504d829942271e25feb714",
            "placeholder": "​",
            "style": "IPY_MODEL_3bd6e30d798d468192acbf8d35d29db3",
            "value": "2.016 MB of 2.016 MB uploaded (0.046 MB deduped)\r"
          }
        },
        "21344ea71ef8474aa966fd1859271909": {
          "model_module": "@jupyter-widgets/controls",
          "model_name": "FloatProgressModel",
          "model_module_version": "1.5.0",
          "state": {
            "_dom_classes": [],
            "_model_module": "@jupyter-widgets/controls",
            "_model_module_version": "1.5.0",
            "_model_name": "FloatProgressModel",
            "_view_count": null,
            "_view_module": "@jupyter-widgets/controls",
            "_view_module_version": "1.5.0",
            "_view_name": "ProgressView",
            "bar_style": "",
            "description": "",
            "description_tooltip": null,
            "layout": "IPY_MODEL_0b1ae240de4d4c5196b0e73abe941d74",
            "max": 1,
            "min": 0,
            "orientation": "horizontal",
            "style": "IPY_MODEL_397fe01a007d461db62db6433d66ae85",
            "value": 1
          }
        },
        "fcc4342efaf046ceaf17119030145be6": {
          "model_module": "@jupyter-widgets/base",
          "model_name": "LayoutModel",
          "model_module_version": "1.2.0",
          "state": {
            "_model_module": "@jupyter-widgets/base",
            "_model_module_version": "1.2.0",
            "_model_name": "LayoutModel",
            "_view_count": null,
            "_view_module": "@jupyter-widgets/base",
            "_view_module_version": "1.2.0",
            "_view_name": "LayoutView",
            "align_content": null,
            "align_items": null,
            "align_self": null,
            "border": null,
            "bottom": null,
            "display": null,
            "flex": null,
            "flex_flow": null,
            "grid_area": null,
            "grid_auto_columns": null,
            "grid_auto_flow": null,
            "grid_auto_rows": null,
            "grid_column": null,
            "grid_gap": null,
            "grid_row": null,
            "grid_template_areas": null,
            "grid_template_columns": null,
            "grid_template_rows": null,
            "height": null,
            "justify_content": null,
            "justify_items": null,
            "left": null,
            "margin": null,
            "max_height": null,
            "max_width": null,
            "min_height": null,
            "min_width": null,
            "object_fit": null,
            "object_position": null,
            "order": null,
            "overflow": null,
            "overflow_x": null,
            "overflow_y": null,
            "padding": null,
            "right": null,
            "top": null,
            "visibility": null,
            "width": null
          }
        },
        "91539f26dd504d829942271e25feb714": {
          "model_module": "@jupyter-widgets/base",
          "model_name": "LayoutModel",
          "model_module_version": "1.2.0",
          "state": {
            "_model_module": "@jupyter-widgets/base",
            "_model_module_version": "1.2.0",
            "_model_name": "LayoutModel",
            "_view_count": null,
            "_view_module": "@jupyter-widgets/base",
            "_view_module_version": "1.2.0",
            "_view_name": "LayoutView",
            "align_content": null,
            "align_items": null,
            "align_self": null,
            "border": null,
            "bottom": null,
            "display": null,
            "flex": null,
            "flex_flow": null,
            "grid_area": null,
            "grid_auto_columns": null,
            "grid_auto_flow": null,
            "grid_auto_rows": null,
            "grid_column": null,
            "grid_gap": null,
            "grid_row": null,
            "grid_template_areas": null,
            "grid_template_columns": null,
            "grid_template_rows": null,
            "height": null,
            "justify_content": null,
            "justify_items": null,
            "left": null,
            "margin": null,
            "max_height": null,
            "max_width": null,
            "min_height": null,
            "min_width": null,
            "object_fit": null,
            "object_position": null,
            "order": null,
            "overflow": null,
            "overflow_x": null,
            "overflow_y": null,
            "padding": null,
            "right": null,
            "top": null,
            "visibility": null,
            "width": null
          }
        },
        "3bd6e30d798d468192acbf8d35d29db3": {
          "model_module": "@jupyter-widgets/controls",
          "model_name": "DescriptionStyleModel",
          "model_module_version": "1.5.0",
          "state": {
            "_model_module": "@jupyter-widgets/controls",
            "_model_module_version": "1.5.0",
            "_model_name": "DescriptionStyleModel",
            "_view_count": null,
            "_view_module": "@jupyter-widgets/base",
            "_view_module_version": "1.2.0",
            "_view_name": "StyleView",
            "description_width": ""
          }
        },
        "0b1ae240de4d4c5196b0e73abe941d74": {
          "model_module": "@jupyter-widgets/base",
          "model_name": "LayoutModel",
          "model_module_version": "1.2.0",
          "state": {
            "_model_module": "@jupyter-widgets/base",
            "_model_module_version": "1.2.0",
            "_model_name": "LayoutModel",
            "_view_count": null,
            "_view_module": "@jupyter-widgets/base",
            "_view_module_version": "1.2.0",
            "_view_name": "LayoutView",
            "align_content": null,
            "align_items": null,
            "align_self": null,
            "border": null,
            "bottom": null,
            "display": null,
            "flex": null,
            "flex_flow": null,
            "grid_area": null,
            "grid_auto_columns": null,
            "grid_auto_flow": null,
            "grid_auto_rows": null,
            "grid_column": null,
            "grid_gap": null,
            "grid_row": null,
            "grid_template_areas": null,
            "grid_template_columns": null,
            "grid_template_rows": null,
            "height": null,
            "justify_content": null,
            "justify_items": null,
            "left": null,
            "margin": null,
            "max_height": null,
            "max_width": null,
            "min_height": null,
            "min_width": null,
            "object_fit": null,
            "object_position": null,
            "order": null,
            "overflow": null,
            "overflow_x": null,
            "overflow_y": null,
            "padding": null,
            "right": null,
            "top": null,
            "visibility": null,
            "width": null
          }
        },
        "397fe01a007d461db62db6433d66ae85": {
          "model_module": "@jupyter-widgets/controls",
          "model_name": "ProgressStyleModel",
          "model_module_version": "1.5.0",
          "state": {
            "_model_module": "@jupyter-widgets/controls",
            "_model_module_version": "1.5.0",
            "_model_name": "ProgressStyleModel",
            "_view_count": null,
            "_view_module": "@jupyter-widgets/base",
            "_view_module_version": "1.2.0",
            "_view_name": "StyleView",
            "bar_color": null,
            "description_width": ""
          }
        },
        "c682cef2b7d54e99a7411ba5e1c428f4": {
          "model_module": "@jupyter-widgets/controls",
          "model_name": "VBoxModel",
          "model_module_version": "1.5.0",
          "state": {
            "_dom_classes": [],
            "_model_module": "@jupyter-widgets/controls",
            "_model_module_version": "1.5.0",
            "_model_name": "VBoxModel",
            "_view_count": null,
            "_view_module": "@jupyter-widgets/controls",
            "_view_module_version": "1.5.0",
            "_view_name": "VBoxView",
            "box_style": "",
            "children": [
              "IPY_MODEL_af32280b7492475cae3d7e33dd3dc090",
              "IPY_MODEL_c508bc908583415184947ce9b83dda68"
            ],
            "layout": "IPY_MODEL_3341940f0ba04b329c07a153a3925136"
          }
        },
        "af32280b7492475cae3d7e33dd3dc090": {
          "model_module": "@jupyter-widgets/controls",
          "model_name": "LabelModel",
          "model_module_version": "1.5.0",
          "state": {
            "_dom_classes": [],
            "_model_module": "@jupyter-widgets/controls",
            "_model_module_version": "1.5.0",
            "_model_name": "LabelModel",
            "_view_count": null,
            "_view_module": "@jupyter-widgets/controls",
            "_view_module_version": "1.5.0",
            "_view_name": "LabelView",
            "description": "",
            "description_tooltip": null,
            "layout": "IPY_MODEL_baf81c75a49d417fa11292b9ad6da1c3",
            "placeholder": "​",
            "style": "IPY_MODEL_0f4035112006452993f67a0eff52949a",
            "value": "Waiting for wandb.init()...\r"
          }
        },
        "c508bc908583415184947ce9b83dda68": {
          "model_module": "@jupyter-widgets/controls",
          "model_name": "FloatProgressModel",
          "model_module_version": "1.5.0",
          "state": {
            "_dom_classes": [],
            "_model_module": "@jupyter-widgets/controls",
            "_model_module_version": "1.5.0",
            "_model_name": "FloatProgressModel",
            "_view_count": null,
            "_view_module": "@jupyter-widgets/controls",
            "_view_module_version": "1.5.0",
            "_view_name": "ProgressView",
            "bar_style": "",
            "description": "",
            "description_tooltip": null,
            "layout": "IPY_MODEL_4b5bef78b7bb44e0958c236be876640e",
            "max": 1,
            "min": 0,
            "orientation": "horizontal",
            "style": "IPY_MODEL_411760e473aa40b7ad411b7f0ee1a1b1",
            "value": 1
          }
        },
        "3341940f0ba04b329c07a153a3925136": {
          "model_module": "@jupyter-widgets/base",
          "model_name": "LayoutModel",
          "model_module_version": "1.2.0",
          "state": {
            "_model_module": "@jupyter-widgets/base",
            "_model_module_version": "1.2.0",
            "_model_name": "LayoutModel",
            "_view_count": null,
            "_view_module": "@jupyter-widgets/base",
            "_view_module_version": "1.2.0",
            "_view_name": "LayoutView",
            "align_content": null,
            "align_items": null,
            "align_self": null,
            "border": null,
            "bottom": null,
            "display": null,
            "flex": null,
            "flex_flow": null,
            "grid_area": null,
            "grid_auto_columns": null,
            "grid_auto_flow": null,
            "grid_auto_rows": null,
            "grid_column": null,
            "grid_gap": null,
            "grid_row": null,
            "grid_template_areas": null,
            "grid_template_columns": null,
            "grid_template_rows": null,
            "height": null,
            "justify_content": null,
            "justify_items": null,
            "left": null,
            "margin": null,
            "max_height": null,
            "max_width": null,
            "min_height": null,
            "min_width": null,
            "object_fit": null,
            "object_position": null,
            "order": null,
            "overflow": null,
            "overflow_x": null,
            "overflow_y": null,
            "padding": null,
            "right": null,
            "top": null,
            "visibility": null,
            "width": null
          }
        },
        "baf81c75a49d417fa11292b9ad6da1c3": {
          "model_module": "@jupyter-widgets/base",
          "model_name": "LayoutModel",
          "model_module_version": "1.2.0",
          "state": {
            "_model_module": "@jupyter-widgets/base",
            "_model_module_version": "1.2.0",
            "_model_name": "LayoutModel",
            "_view_count": null,
            "_view_module": "@jupyter-widgets/base",
            "_view_module_version": "1.2.0",
            "_view_name": "LayoutView",
            "align_content": null,
            "align_items": null,
            "align_self": null,
            "border": null,
            "bottom": null,
            "display": null,
            "flex": null,
            "flex_flow": null,
            "grid_area": null,
            "grid_auto_columns": null,
            "grid_auto_flow": null,
            "grid_auto_rows": null,
            "grid_column": null,
            "grid_gap": null,
            "grid_row": null,
            "grid_template_areas": null,
            "grid_template_columns": null,
            "grid_template_rows": null,
            "height": null,
            "justify_content": null,
            "justify_items": null,
            "left": null,
            "margin": null,
            "max_height": null,
            "max_width": null,
            "min_height": null,
            "min_width": null,
            "object_fit": null,
            "object_position": null,
            "order": null,
            "overflow": null,
            "overflow_x": null,
            "overflow_y": null,
            "padding": null,
            "right": null,
            "top": null,
            "visibility": null,
            "width": null
          }
        },
        "0f4035112006452993f67a0eff52949a": {
          "model_module": "@jupyter-widgets/controls",
          "model_name": "DescriptionStyleModel",
          "model_module_version": "1.5.0",
          "state": {
            "_model_module": "@jupyter-widgets/controls",
            "_model_module_version": "1.5.0",
            "_model_name": "DescriptionStyleModel",
            "_view_count": null,
            "_view_module": "@jupyter-widgets/base",
            "_view_module_version": "1.2.0",
            "_view_name": "StyleView",
            "description_width": ""
          }
        },
        "4b5bef78b7bb44e0958c236be876640e": {
          "model_module": "@jupyter-widgets/base",
          "model_name": "LayoutModel",
          "model_module_version": "1.2.0",
          "state": {
            "_model_module": "@jupyter-widgets/base",
            "_model_module_version": "1.2.0",
            "_model_name": "LayoutModel",
            "_view_count": null,
            "_view_module": "@jupyter-widgets/base",
            "_view_module_version": "1.2.0",
            "_view_name": "LayoutView",
            "align_content": null,
            "align_items": null,
            "align_self": null,
            "border": null,
            "bottom": null,
            "display": null,
            "flex": null,
            "flex_flow": null,
            "grid_area": null,
            "grid_auto_columns": null,
            "grid_auto_flow": null,
            "grid_auto_rows": null,
            "grid_column": null,
            "grid_gap": null,
            "grid_row": null,
            "grid_template_areas": null,
            "grid_template_columns": null,
            "grid_template_rows": null,
            "height": null,
            "justify_content": null,
            "justify_items": null,
            "left": null,
            "margin": null,
            "max_height": null,
            "max_width": null,
            "min_height": null,
            "min_width": null,
            "object_fit": null,
            "object_position": null,
            "order": null,
            "overflow": null,
            "overflow_x": null,
            "overflow_y": null,
            "padding": null,
            "right": null,
            "top": null,
            "visibility": null,
            "width": null
          }
        },
        "411760e473aa40b7ad411b7f0ee1a1b1": {
          "model_module": "@jupyter-widgets/controls",
          "model_name": "ProgressStyleModel",
          "model_module_version": "1.5.0",
          "state": {
            "_model_module": "@jupyter-widgets/controls",
            "_model_module_version": "1.5.0",
            "_model_name": "ProgressStyleModel",
            "_view_count": null,
            "_view_module": "@jupyter-widgets/base",
            "_view_module_version": "1.2.0",
            "_view_name": "StyleView",
            "bar_color": null,
            "description_width": ""
          }
        }
      }
    }
  },
  "cells": [
    {
      "cell_type": "markdown",
      "metadata": {
        "id": "view-in-github",
        "colab_type": "text"
      },
      "source": [
        "<a href=\"https://colab.research.google.com/github/trevormoon/google_colab/blob/main/Untitled2.ipynb\" target=\"_parent\"><img src=\"https://colab.research.google.com/assets/colab-badge.svg\" alt=\"Open In Colab\"/></a>"
      ]
    },
    {
      "cell_type": "code",
      "execution_count": 1,
      "metadata": {
        "colab": {
          "base_uri": "https://localhost:8080/"
        },
        "id": "20G-nkEKl2HZ",
        "outputId": "5c508a29-557a-4f5f-8584-ac8f6b0f69b8"
      },
      "outputs": [
        {
          "output_type": "stream",
          "name": "stdout",
          "text": [
            "Looking in indexes: https://pypi.org/simple, https://us-python.pkg.dev/colab-wheels/public/simple/\n",
            "Requirement already satisfied: wandb in /usr/local/lib/python3.10/dist-packages (0.15.1)\n",
            "Requirement already satisfied: pathtools in /usr/local/lib/python3.10/dist-packages (from wandb) (0.1.2)\n",
            "Requirement already satisfied: GitPython!=3.1.29,>=1.0.0 in /usr/local/lib/python3.10/dist-packages (from wandb) (3.1.31)\n",
            "Requirement already satisfied: setproctitle in /usr/local/lib/python3.10/dist-packages (from wandb) (1.3.2)\n",
            "Requirement already satisfied: appdirs>=1.4.3 in /usr/local/lib/python3.10/dist-packages (from wandb) (1.4.4)\n",
            "Requirement already satisfied: protobuf!=4.21.0,<5,>=3.19.0 in /usr/local/lib/python3.10/dist-packages (from wandb) (3.20.3)\n",
            "Requirement already satisfied: sentry-sdk>=1.0.0 in /usr/local/lib/python3.10/dist-packages (from wandb) (1.21.1)\n",
            "Requirement already satisfied: setuptools in /usr/local/lib/python3.10/dist-packages (from wandb) (67.7.2)\n",
            "Requirement already satisfied: PyYAML in /usr/local/lib/python3.10/dist-packages (from wandb) (6.0)\n",
            "Requirement already satisfied: requests<3,>=2.0.0 in /usr/local/lib/python3.10/dist-packages (from wandb) (2.27.1)\n",
            "Requirement already satisfied: psutil>=5.0.0 in /usr/local/lib/python3.10/dist-packages (from wandb) (5.9.5)\n",
            "Requirement already satisfied: Click!=8.0.0,>=7.0 in /usr/local/lib/python3.10/dist-packages (from wandb) (8.1.3)\n",
            "Requirement already satisfied: docker-pycreds>=0.4.0 in /usr/local/lib/python3.10/dist-packages (from wandb) (0.4.0)\n",
            "Requirement already satisfied: six>=1.4.0 in /usr/local/lib/python3.10/dist-packages (from docker-pycreds>=0.4.0->wandb) (1.16.0)\n",
            "Requirement already satisfied: gitdb<5,>=4.0.1 in /usr/local/lib/python3.10/dist-packages (from GitPython!=3.1.29,>=1.0.0->wandb) (4.0.10)\n",
            "Requirement already satisfied: idna<4,>=2.5 in /usr/local/lib/python3.10/dist-packages (from requests<3,>=2.0.0->wandb) (3.4)\n",
            "Requirement already satisfied: urllib3<1.27,>=1.21.1 in /usr/local/lib/python3.10/dist-packages (from requests<3,>=2.0.0->wandb) (1.26.15)\n",
            "Requirement already satisfied: certifi>=2017.4.17 in /usr/local/lib/python3.10/dist-packages (from requests<3,>=2.0.0->wandb) (2022.12.7)\n",
            "Requirement already satisfied: charset-normalizer~=2.0.0 in /usr/local/lib/python3.10/dist-packages (from requests<3,>=2.0.0->wandb) (2.0.12)\n",
            "Requirement already satisfied: smmap<6,>=3.0.1 in /usr/local/lib/python3.10/dist-packages (from gitdb<5,>=4.0.1->GitPython!=3.1.29,>=1.0.0->wandb) (5.0.0)\n",
            "Looking in indexes: https://pypi.org/simple, https://us-python.pkg.dev/colab-wheels/public/simple/\n",
            "Requirement already satisfied: config in /usr/local/lib/python3.10/dist-packages (0.5.1)\n"
          ]
        },
        {
          "output_type": "stream",
          "name": "stderr",
          "text": [
            "\u001b[34m\u001b[1mwandb\u001b[0m: Currently logged in as: \u001b[33mpilwookmoon\u001b[0m (\u001b[33masac\u001b[0m). Use \u001b[1m`wandb login --relogin`\u001b[0m to force relogin\n",
            "\u001b[34m\u001b[1mwandb\u001b[0m: \u001b[33mWARNING\u001b[0m If you're specifying your api key in code, ensure this code is not shared publicly.\n",
            "\u001b[34m\u001b[1mwandb\u001b[0m: \u001b[33mWARNING\u001b[0m Consider setting the WANDB_API_KEY environment variable, or running `wandb login` from the command line.\n",
            "\u001b[34m\u001b[1mwandb\u001b[0m: Appending key for api.wandb.ai to your netrc file: /root/.netrc\n"
          ]
        },
        {
          "output_type": "execute_result",
          "data": {
            "text/plain": [
              "True"
            ]
          },
          "metadata": {},
          "execution_count": 1
        }
      ],
      "source": [
        "!pip install wandb\n",
        "!pip install config\n",
        "import numpy as np\n",
        "import tensorflow as tf\n",
        "import pandas as pd\n",
        "import wandb\n",
        "import numpy as np\n",
        "import pandas as pd\n",
        "# from numpy import array\n",
        "from keras.models import Sequential\n",
        "from keras.layers import Dense, LSTM, Dropout\n",
        "from keras.callbacks import EarlyStopping, ModelCheckpoint,ReduceLROnPlateau\n",
        "from keras import optimizers\n",
        "import wandb\n",
        "import config\n",
        "from wandb.keras import WandbMetricsLogger, WandbModelCheckpoint, WandbEvalCallback\n",
        "from keras.datasets import fashion_mnist\n",
        "from keras.models import Sequential\n",
        "from keras.layers import Conv2D, MaxPooling2D, Dropout, Dense, Flatten\n",
        "from keras.utils import np_utils\n",
        "from keras.optimizers import SGD\n",
        "from keras.optimizers import RMSprop, SGD, Adam, Nadam\n",
        "from keras.callbacks import ReduceLROnPlateau, ModelCheckpoint, Callback, EarlyStopping\n",
        "from wandb.keras import WandbCallback\n",
        "from tensorflow.keras import layers\n",
        "from tensorflow.keras import initializers\n",
        "wandb.login(key=\"8f3ded9bc8af2fbd7e4e5b212d2c347e0247e6fd\")"
      ]
    },
    {
      "cell_type": "code",
      "source": [
        "data = pd.read_csv(\"lstm_data_modified.csv\")\n",
        "data.set_index(\"측정일시\",inplace=True)\n",
        "# 11010720 - 11011106\n",
        "# train_num=365*24*8\n",
        "# val_num=365*24*2\n",
        "# time_step=24\n",
        "# x_train = data.iloc[0:0+train_num,:]\n",
        "# y_train = data.iloc[0+time_step:0+time_step+train_num,:]\n",
        "# y_train=np.array(y_train)\n",
        "\n",
        "\n",
        "# x_val = data.iloc[0+train_num:0+train_num+val_num,:]\n",
        "# y_val = data.iloc[0+train_num+time_step:0+train_num+val_num+time_step:,:]\n",
        "# y_val=np.array(y_val)\n",
        "# tmp = []\n",
        "# for i in range(len(x_train)):\n",
        "#     tmp.append(data.iloc[i:i+24,:].values)\n",
        "# x_train = np.array(tmp)\n",
        "\n",
        "# print('x shape : ', x_train.shape) # (4,3)\n",
        "# print('y shape : ', y_train.shape) # (4,)\n",
        "\n",
        "# tmp = []\n",
        "# for i in range(len(x_val)-24):\n",
        "#     tmp.append(data.iloc[i:i+24,:].values)\n",
        "# x_val = np.array(tmp)\n",
        "\n",
        "# print('x shape : ', x_val.shape) # (4,3)\n",
        "# print('y shape : ', y_val.shape) # (4,)"
      ],
      "metadata": {
        "id": "XR6L55Gbmbh3"
      },
      "execution_count": 2,
      "outputs": []
    },
    {
      "cell_type": "code",
      "source": [
        "sweep_config = {\n",
        "    'method': \"grid\", #,'random' random\n",
        "    'metric': {\n",
        "      'name': 'accuracy',\n",
        "      'goal': 'maximize'   \n",
        "    },\n",
        "    'parameters': {\n",
        "        'epochs': {\n",
        "            'values': [1000]\n",
        "        },\n",
        "        'time_step': {\n",
        "            'values': [1,3,5]\n",
        "        },\n",
        "        'batch_size': {\n",
        "            'values': [32,64]\n",
        "        },\n",
        "        'dropout': {\n",
        "            'values': [0.1, 0.5]\n",
        "        },\n",
        "        'lstm_layer_size': {\n",
        "            'values': [16, 32]\n",
        "        },\n",
        "        'hidden_layer_size': {\n",
        "            'values': [16, 32]\n",
        "        },\n",
        "        'learning_rate': {\n",
        "            'values': [5e-2,1e-2,1e-3]\n",
        "        },\n",
        "        'optimizer': {\n",
        "            'values': ['adam']\n",
        "        },\n",
        "        'activation': {\n",
        "            'values': ['relu', 'tanh']\n",
        "        }\n",
        "    }\n",
        "}\n",
        "sweep_id = wandb.sweep(sweep_config,entity=\"PilwookMoon\", project=\"lstm_sweep_colab\")"
      ],
      "metadata": {
        "colab": {
          "base_uri": "https://localhost:8080/"
        },
        "id": "RfWx9w67m_5m",
        "outputId": "1b92b921-711e-431f-fd59-8bacf1b5e121"
      },
      "execution_count": 3,
      "outputs": [
        {
          "output_type": "stream",
          "name": "stdout",
          "text": [
            "Create sweep with ID: 9v59afe8\n",
            "Sweep URL: https://wandb.ai/pilwookmoon/lstm_sweep_colab/sweeps/9v59afe8\n"
          ]
        }
      ]
    },
    {
      "cell_type": "code",
      "source": [
        "def train():\n",
        "      # Default values for hyper-parameters we're going to sweep over\n",
        "  config_defaults = {\n",
        "  'epochs': 100,\n",
        "  'batch_size': 8,\n",
        "  'learning_rate': 1e-3,\n",
        "  'activation': 'relu',\n",
        "  'optimizer': 'adam',\n",
        "  'lstm_layer_size': 8,\n",
        "  'hidden_layer_size': 16,\n",
        "  'dropout': 0.05,\n",
        "  'layer_size': 25,\n",
        "  'momentum': 0.9,\n",
        "  'time_step':3,\n",
        "  }\n",
        "  wandb.init(config=config_defaults)\n",
        "  config = wandb.config\n",
        "  train_num=365*24*8\n",
        "  val_num=365*24*2\n",
        "  time_step=config.time_step\n",
        "  x_train = data.iloc[0:0+train_num,:]\n",
        "  y_train = data.iloc[0+time_step:0+time_step+train_num,:]\n",
        "  y_train=np.array(y_train)\n",
        "\n",
        "\n",
        "  x_val = data.iloc[0+train_num:0+train_num+val_num,:]\n",
        "  y_val = data.iloc[0+train_num+time_step:0+train_num+val_num+time_step:,:]\n",
        "  y_val=np.array(y_val)\n",
        "  tmp = []\n",
        "  for i in range(len(x_train)):\n",
        "      tmp.append(data.iloc[i:i+time_step,:].values)\n",
        "  x_train = np.array(tmp)\n",
        "\n",
        "  print('x shape : ', x_train.shape) # (4,3)\n",
        "  print('y shape : ', y_train.shape) # (4,)\n",
        "  initializer=tf.keras.initializers.HeNormal()\n",
        "  tmp = []\n",
        "  for i in range(len(x_val)):\n",
        "      tmp.append(data.iloc[i:i+time_step,:].values)\n",
        "  x_val = np.array(tmp)\n",
        "\n",
        "  print('x shape : ', x_val.shape) # (4,3)\n",
        "  print('y shape : ', y_val.shape) # (4,)\n",
        "  \n",
        "  model = Sequential()\n",
        "  model.add(LSTM(config.lstm_layer_size, activation =config.activation, input_shape=(config.time_step,25)))\n",
        "  # DENSE와 사용법 동일하나 input_shape=(열, 몇개씩잘라작업)\n",
        "  model.add(Dense(config.hidden_layer_size,activation=config.activation,kernel_initializer=initializer))\n",
        "  model.add(Dropout(config.dropout))\n",
        "  model.add(Dense(25))\n",
        "  # Define the optimizer\n",
        "  if config.optimizer=='sgd':\n",
        "    optimizer = SGD(lr=config.learning_rate, decay=1e-5, momentum=config.momentum, nesterov=True)\n",
        "  elif config.optimizer=='adam':\n",
        "    optimizer = Adam(lr=config.learning_rate, beta_1=0.9, beta_2=0.999, clipnorm=1.0)\n",
        "\n",
        "\n",
        "  model.compile(loss = \"mse\", optimizer = optimizer, metrics=['accuracy'])\n",
        "\n",
        "  model.fit(x_train, y_train, batch_size=config.batch_size,\n",
        "  epochs=config.epochs,\n",
        "  validation_data=(x_val, y_val),\n",
        "  callbacks=[WandbCallback(validation_data=(x_val, y_val)),WandbMetricsLogger(),\n",
        "    EarlyStopping(monitor='accuracy',mode=\"auto\",patience=30),ModelCheckpoint(filepath='best_model.h5',monitor='accuracy',save_best_only=True)])"
      ],
      "metadata": {
        "id": "bTmDJOMinAnR"
      },
      "execution_count": 4,
      "outputs": []
    },
    {
      "cell_type": "code",
      "source": [
        "with tf.device(\"/gpu:0\"):\n",
        "  wandb.agent(sweep_id, train)"
      ],
      "metadata": {
        "colab": {
          "base_uri": "https://localhost:8080/",
          "height": 1000,
          "referenced_widgets": [
            "6e6b2f3adc3343208275de647180d51a",
            "b6072be008134909aa3ee947a776c696",
            "7215ee99be9149bdb94dab7c60117ff4",
            "408078ddc9db4e80be9e4eb7740382c5",
            "878a884c232a4f5482e9a7c20ecb3731",
            "3d16fbef53ef4a93921d1d2144fd0a08",
            "338cb1219a414d28bcfda101214ea3a6",
            "d7f97dec149c4067963a63d4796abeec",
            "e27ba202668e44878b4cb527c5b547cb",
            "59c715160f534cd3b93e1391892bb0db",
            "647222f60e73467c9be8582e62edec83",
            "e00567af0e9a4ddba626e6d1860bc6b5",
            "cb57f798c4ec4c9bafaa2bfac27bd2a3",
            "610e17739d684bf2956c4a4e19cd0d7c",
            "6185631595354914ac77f877f7e55c9b",
            "e3607704ec8d4c7d99167f2bb1a44662",
            "2d333df153d74204b037d4776d2b8592",
            "9f0e2fe6e41542aa878aa25deed2e904",
            "a8890a08c57840b5838fa256da41455d",
            "2510ded1d61e43e092bc0f462f4c6be7",
            "6071fc44ed2045da9436bc3cc6cceb1b",
            "55ba951864cc434b9f8322aca03b183c",
            "72cf24b112cd41d9890eb71932fd42de",
            "027d0d17634d4238a54c553857822072",
            "3e1ff2963f8e47389443ffac56542053",
            "786a83fa9a5240878e6b791acf43ab3e",
            "99faf588427343708de2fa0dff516b18",
            "799f6647ff71424987c47af6b0eedf0f",
            "7b6207a13cb149c99edd67db6264b129",
            "3a6918b542c54ed1b76b1464199f77a0",
            "ace8019e4807448291394b2bfe0cb1f5",
            "39b1ca5bee3e43faaec5b0eec5d919a8",
            "b135224c329d44aab7b4c7c1e5907751",
            "a786bb4fecca49c89485a8631e1369d8",
            "391dcdac90f542c6a3ac155ae40d41b7",
            "39d8d966fe7a4c6bbcd5904130497009",
            "1e582e0e34bf4e4c949dd75106ef3f6e",
            "b41432cfb6a24876bad581eb1c898072",
            "b632dc5efa77478b9846f30d77ae6d6e",
            "b8569f65df064bf19ac5c3f9e1aae74b",
            "c051c374c1e2421da4a9ddd769806422",
            "56cb41f736594f538d16f2640fcc9fdc",
            "21344ea71ef8474aa966fd1859271909",
            "fcc4342efaf046ceaf17119030145be6",
            "91539f26dd504d829942271e25feb714",
            "3bd6e30d798d468192acbf8d35d29db3",
            "0b1ae240de4d4c5196b0e73abe941d74",
            "397fe01a007d461db62db6433d66ae85",
            "c682cef2b7d54e99a7411ba5e1c428f4",
            "af32280b7492475cae3d7e33dd3dc090",
            "c508bc908583415184947ce9b83dda68",
            "3341940f0ba04b329c07a153a3925136",
            "baf81c75a49d417fa11292b9ad6da1c3",
            "0f4035112006452993f67a0eff52949a",
            "4b5bef78b7bb44e0958c236be876640e",
            "411760e473aa40b7ad411b7f0ee1a1b1"
          ]
        },
        "id": "bGPRU_sknEgl",
        "outputId": "2a69302d-c75c-47a4-e00e-4e099457d0c0"
      },
      "execution_count": null,
      "outputs": [
        {
          "output_type": "stream",
          "name": "stderr",
          "text": [
            "\u001b[34m\u001b[1mwandb\u001b[0m: Agent Starting Run: texu4k1w with config:\n",
            "\u001b[34m\u001b[1mwandb\u001b[0m: \tactivation: relu\n",
            "\u001b[34m\u001b[1mwandb\u001b[0m: \tbatch_size: 32\n",
            "\u001b[34m\u001b[1mwandb\u001b[0m: \tdropout: 0.1\n",
            "\u001b[34m\u001b[1mwandb\u001b[0m: \tepochs: 1000\n",
            "\u001b[34m\u001b[1mwandb\u001b[0m: \thidden_layer_size: 16\n",
            "\u001b[34m\u001b[1mwandb\u001b[0m: \tlearning_rate: 0.05\n",
            "\u001b[34m\u001b[1mwandb\u001b[0m: \tlstm_layer_size: 16\n",
            "\u001b[34m\u001b[1mwandb\u001b[0m: \toptimizer: adam\n",
            "\u001b[34m\u001b[1mwandb\u001b[0m: \ttime_step: 1\n",
            "\u001b[34m\u001b[1mwandb\u001b[0m: Currently logged in as: \u001b[33mpilwookmoon\u001b[0m. Use \u001b[1m`wandb login --relogin`\u001b[0m to force relogin\n"
          ]
        },
        {
          "output_type": "display_data",
          "data": {
            "text/plain": [
              "<IPython.core.display.HTML object>"
            ],
            "text/html": [
              "Tracking run with wandb version 0.15.1"
            ]
          },
          "metadata": {}
        },
        {
          "output_type": "display_data",
          "data": {
            "text/plain": [
              "<IPython.core.display.HTML object>"
            ],
            "text/html": [
              "Run data is saved locally in <code>/content/wandb/run-20230503_064947-texu4k1w</code>"
            ]
          },
          "metadata": {}
        },
        {
          "output_type": "display_data",
          "data": {
            "text/plain": [
              "<IPython.core.display.HTML object>"
            ],
            "text/html": [
              "Syncing run <strong><a href='https://wandb.ai/pilwookmoon/lstm_sweep_colab/runs/texu4k1w' target=\"_blank\">glorious-sweep-1</a></strong> to <a href='https://wandb.ai/pilwookmoon/lstm_sweep_colab' target=\"_blank\">Weights & Biases</a> (<a href='https://wandb.me/run' target=\"_blank\">docs</a>)<br/>Sweep page: <a href='https://wandb.ai/pilwookmoon/lstm_sweep_colab/sweeps/9v59afe8' target=\"_blank\">https://wandb.ai/pilwookmoon/lstm_sweep_colab/sweeps/9v59afe8</a>"
            ]
          },
          "metadata": {}
        },
        {
          "output_type": "display_data",
          "data": {
            "text/plain": [
              "<IPython.core.display.HTML object>"
            ],
            "text/html": [
              " View project at <a href='https://wandb.ai/pilwookmoon/lstm_sweep_colab' target=\"_blank\">https://wandb.ai/pilwookmoon/lstm_sweep_colab</a>"
            ]
          },
          "metadata": {}
        },
        {
          "output_type": "display_data",
          "data": {
            "text/plain": [
              "<IPython.core.display.HTML object>"
            ],
            "text/html": [
              " View sweep at <a href='https://wandb.ai/pilwookmoon/lstm_sweep_colab/sweeps/9v59afe8' target=\"_blank\">https://wandb.ai/pilwookmoon/lstm_sweep_colab/sweeps/9v59afe8</a>"
            ]
          },
          "metadata": {}
        },
        {
          "output_type": "display_data",
          "data": {
            "text/plain": [
              "<IPython.core.display.HTML object>"
            ],
            "text/html": [
              " View run at <a href='https://wandb.ai/pilwookmoon/lstm_sweep_colab/runs/texu4k1w' target=\"_blank\">https://wandb.ai/pilwookmoon/lstm_sweep_colab/runs/texu4k1w</a>"
            ]
          },
          "metadata": {}
        },
        {
          "output_type": "stream",
          "name": "stdout",
          "text": [
            "x shape :  (70080, 1, 25)\n",
            "y shape :  (70080, 25)\n"
          ]
        },
        {
          "output_type": "stream",
          "name": "stderr",
          "text": [
            "WARNING:tensorflow:Layer lstm will not use cuDNN kernels since it doesn't meet the criteria. It will use a generic GPU kernel as fallback when running on GPU.\n"
          ]
        },
        {
          "output_type": "stream",
          "name": "stdout",
          "text": [
            "x shape :  (17520, 1, 25)\n",
            "y shape :  (17520, 25)\n"
          ]
        },
        {
          "output_type": "stream",
          "name": "stderr",
          "text": [
            "/usr/local/lib/python3.10/dist-packages/keras/optimizers/legacy/adam.py:117: UserWarning: The `lr` argument is deprecated, use `learning_rate` instead.\n",
            "  super().__init__(name, **kwargs)\n",
            "\u001b[34m\u001b[1mwandb\u001b[0m: \u001b[33mWARNING\u001b[0m The save_model argument by default saves the model in the HDF5 format that cannot save custom objects like subclassed models and custom layers. This behavior will be deprecated in a future release in favor of the SavedModel format. Meanwhile, the HDF5 model is saved as W&B files and the SavedModel as W&B Artifacts.\n"
          ]
        },
        {
          "output_type": "stream",
          "name": "stdout",
          "text": [
            "Epoch 1/1000\n",
            "2177/2190 [============================>.] - ETA: 0s - loss: 362.1981 - accuracy: 0.0660"
          ]
        },
        {
          "output_type": "stream",
          "name": "stderr",
          "text": [
            "\u001b[34m\u001b[1mwandb\u001b[0m: Adding directory to artifact (/content/wandb/run-20230503_064947-texu4k1w/files/model-best)... Done. 0.0s\n"
          ]
        },
        {
          "output_type": "stream",
          "name": "stdout",
          "text": [
            "\b\b\b\b\b\b\b\b\b\b\b\b\b\b\b\b\b\b\b\b\b\b\b\b\b\b\b\b\b\b\b\b\b\b\b\b\b\b\b\b\b\b\b\b\b\b\b\b\b\b\b\b\b\b\b\b\b\b\b\b\b\b\b\b\b\b\b\b\b\b\b\b\b\b\b\b\b\b\b\b\b\b\b\b\b\b\b\b\r2190/2190 [==============================] - 18s 7ms/step - loss: 361.8766 - accuracy: 0.0661 - val_loss: 1467.0059 - val_accuracy: 0.0344\n",
            "Epoch 2/1000\n",
            "2190/2190 [==============================] - 10s 4ms/step - loss: 395.3015 - accuracy: 0.0730 - val_loss: 1617.8341 - val_accuracy: 0.0363\n",
            "Epoch 3/1000\n",
            "2190/2190 [==============================] - 10s 4ms/step - loss: 388.6406 - accuracy: 0.0745 - val_loss: 1629.8561 - val_accuracy: 0.0329\n",
            "Epoch 4/1000\n",
            "2190/2190 [==============================] - ETA: 0s - loss: 374.5380 - accuracy: 0.0745"
          ]
        },
        {
          "output_type": "stream",
          "name": "stderr",
          "text": [
            "\u001b[34m\u001b[1mwandb\u001b[0m: Adding directory to artifact (/content/wandb/run-20230503_064947-texu4k1w/files/model-best)... Done. 0.0s\n"
          ]
        },
        {
          "output_type": "stream",
          "name": "stdout",
          "text": [
            "\b\b\b\b\b\b\b\b\b\b\b\b\b\b\b\b\b\b\b\b\b\b\b\b\b\b\b\b\b\b\b\b\b\b\b\b\b\b\b\b\b\b\b\b\b\b\b\b\b\b\b\b\b\b\b\b\b\b\b\b\b\b\b\b\b\b\b\b\b\b\b\b\b\b\b\b\b\b\b\b\b\b\b\b\b\b\b\b\r2190/2190 [==============================] - 11s 5ms/step - loss: 374.5380 - accuracy: 0.0745 - val_loss: 1108.4594 - val_accuracy: 0.0271\n",
            "Epoch 5/1000\n",
            "2190/2190 [==============================] - 9s 4ms/step - loss: 403.4625 - accuracy: 0.0754 - val_loss: 2055.0916 - val_accuracy: 0.0102\n",
            "Epoch 6/1000\n",
            "2190/2190 [==============================] - 10s 4ms/step - loss: 488.4676 - accuracy: 0.0748 - val_loss: 2096.7776 - val_accuracy: 0.0239\n",
            "Epoch 7/1000\n",
            "2190/2190 [==============================] - 11s 5ms/step - loss: 414.0135 - accuracy: 0.0748 - val_loss: 1881.7245 - val_accuracy: 0.0327\n",
            "Epoch 8/1000\n",
            "2187/2190 [============================>.] - ETA: 0s - loss: 398.8410 - accuracy: 0.0742"
          ]
        },
        {
          "output_type": "stream",
          "name": "stderr",
          "text": [
            "\u001b[34m\u001b[1mwandb\u001b[0m: Adding directory to artifact (/content/wandb/run-20230503_064947-texu4k1w/files/model-best)... Done. 0.0s\n"
          ]
        },
        {
          "output_type": "stream",
          "name": "stdout",
          "text": [
            "\b\b\b\b\b\b\b\b\b\b\b\b\b\b\b\b\b\b\b\b\b\b\b\b\b\b\b\b\b\b\b\b\b\b\b\b\b\b\b\b\b\b\b\b\b\b\b\b\b\b\b\b\b\b\b\b\b\b\b\b\b\b\b\b\b\b\b\b\b\b\b\b\b\b\b\b\b\b\b\b\b\b\b\b\b\b\b\b\r2190/2190 [==============================] - 11s 5ms/step - loss: 398.5827 - accuracy: 0.0742 - val_loss: 1069.9401 - val_accuracy: 0.0308\n",
            "Epoch 9/1000\n",
            "2190/2190 [==============================] - 9s 4ms/step - loss: 405.4554 - accuracy: 0.0723 - val_loss: 1770.5214 - val_accuracy: 0.0265\n",
            "Epoch 10/1000\n",
            "2190/2190 [==============================] - 10s 4ms/step - loss: 467.9127 - accuracy: 0.0837 - val_loss: 1388.1542 - val_accuracy: 0.0207\n",
            "Epoch 11/1000\n",
            "2190/2190 [==============================] - 11s 5ms/step - loss: 544.0279 - accuracy: 0.0753 - val_loss: 2808.5635 - val_accuracy: 0.0108\n",
            "Epoch 12/1000\n",
            "2190/2190 [==============================] - 10s 5ms/step - loss: 472.8290 - accuracy: 0.0758 - val_loss: 1194.8290 - val_accuracy: 0.0425\n",
            "Epoch 13/1000\n",
            "2190/2190 [==============================] - 9s 4ms/step - loss: 477.9144 - accuracy: 0.0738 - val_loss: 1111.0248 - val_accuracy: 0.0285\n",
            "Epoch 14/1000\n",
            "2190/2190 [==============================] - 10s 4ms/step - loss: 520.1251 - accuracy: 0.0727 - val_loss: 1797.5975 - val_accuracy: 0.0439\n",
            "Epoch 15/1000\n",
            "2190/2190 [==============================] - 10s 4ms/step - loss: 394.8845 - accuracy: 0.0737 - val_loss: 1096.0201 - val_accuracy: 0.0195\n",
            "Epoch 16/1000\n",
            "2190/2190 [==============================] - 9s 4ms/step - loss: 302.3103 - accuracy: 0.0748 - val_loss: 1404.5739 - val_accuracy: 0.0146\n",
            "Epoch 17/1000\n",
            "2190/2190 [==============================] - 10s 4ms/step - loss: 366.6843 - accuracy: 0.0752 - val_loss: 1253.4524 - val_accuracy: 0.0177\n",
            "Epoch 18/1000\n",
            "2176/2190 [============================>.] - ETA: 0s - loss: 325.9980 - accuracy: 0.0744"
          ]
        },
        {
          "output_type": "stream",
          "name": "stderr",
          "text": [
            "\u001b[34m\u001b[1mwandb\u001b[0m: Adding directory to artifact (/content/wandb/run-20230503_064947-texu4k1w/files/model-best)... Done. 0.0s\n"
          ]
        },
        {
          "output_type": "stream",
          "name": "stdout",
          "text": [
            "\b\b\b\b\b\b\b\b\b\b\b\b\b\b\b\b\b\b\b\b\b\b\b\b\b\b\b\b\b\b\b\b\b\b\b\b\b\b\b\b\b\b\b\b\b\b\b\b\b\b\b\b\b\b\b\b\b\b\b\b\b\b\b\b\b\b\b\b\b\b\b\b\b\b\b\b\b\b\b\b\b\b\b\b\b\b\b\b\r2190/2190 [==============================] - 12s 5ms/step - loss: 325.8659 - accuracy: 0.0745 - val_loss: 915.2123 - val_accuracy: 0.0392\n",
            "Epoch 19/1000\n",
            "2190/2190 [==============================] - 10s 4ms/step - loss: 315.2931 - accuracy: 0.0726 - val_loss: 1082.5378 - val_accuracy: 0.0227\n",
            "Epoch 20/1000\n",
            "2190/2190 [==============================] - 10s 5ms/step - loss: 321.9484 - accuracy: 0.0698 - val_loss: 1209.0316 - val_accuracy: 0.0287\n",
            "Epoch 21/1000\n",
            "2190/2190 [==============================] - 9s 4ms/step - loss: 303.4951 - accuracy: 0.0704 - val_loss: 1520.6436 - val_accuracy: 0.0265\n",
            "Epoch 22/1000\n",
            "2190/2190 [==============================] - 10s 4ms/step - loss: 298.6347 - accuracy: 0.0697 - val_loss: 1061.5232 - val_accuracy: 0.0176\n",
            "Epoch 23/1000\n",
            "2190/2190 [==============================] - 10s 4ms/step - loss: 327.3194 - accuracy: 0.0700 - val_loss: 1088.5039 - val_accuracy: 0.0357\n",
            "Epoch 24/1000\n",
            "2190/2190 [==============================] - 9s 4ms/step - loss: 330.6717 - accuracy: 0.0694 - val_loss: 1379.3207 - val_accuracy: 0.0176\n",
            "Epoch 25/1000\n",
            "2190/2190 [==============================] - 10s 4ms/step - loss: 321.0648 - accuracy: 0.0690 - val_loss: 1168.6771 - val_accuracy: 0.0187\n",
            "Epoch 26/1000\n",
            "2190/2190 [==============================] - 10s 4ms/step - loss: 318.1756 - accuracy: 0.0675 - val_loss: 1293.3436 - val_accuracy: 0.0459\n",
            "Epoch 27/1000\n",
            "2190/2190 [==============================] - 9s 4ms/step - loss: 318.4537 - accuracy: 0.0694 - val_loss: 1852.7900 - val_accuracy: 0.0170\n",
            "Epoch 28/1000\n",
            "2190/2190 [==============================] - 9s 4ms/step - loss: 313.5372 - accuracy: 0.0681 - val_loss: 1430.8477 - val_accuracy: 0.0204\n",
            "Epoch 29/1000\n",
            "2190/2190 [==============================] - 10s 4ms/step - loss: 301.2665 - accuracy: 0.0695 - val_loss: 1254.0420 - val_accuracy: 0.0215\n",
            "Epoch 30/1000\n",
            "2190/2190 [==============================] - 10s 5ms/step - loss: 325.5939 - accuracy: 0.0689 - val_loss: 1027.1329 - val_accuracy: 0.0408\n",
            "Epoch 31/1000\n",
            "2190/2190 [==============================] - 9s 4ms/step - loss: 300.8816 - accuracy: 0.0676 - val_loss: 1302.9587 - val_accuracy: 0.0357\n",
            "Epoch 32/1000\n",
            "2190/2190 [==============================] - 10s 4ms/step - loss: 307.5444 - accuracy: 0.0688 - val_loss: 1420.6875 - val_accuracy: 0.0428\n",
            "Epoch 33/1000\n",
            "2190/2190 [==============================] - 10s 4ms/step - loss: 326.8994 - accuracy: 0.0680 - val_loss: 1336.6692 - val_accuracy: 0.0424\n",
            "Epoch 34/1000\n",
            "2190/2190 [==============================] - 9s 4ms/step - loss: 320.4801 - accuracy: 0.0672 - val_loss: 1632.4316 - val_accuracy: 0.0175\n",
            "Epoch 35/1000\n",
            "2190/2190 [==============================] - 10s 4ms/step - loss: 339.7140 - accuracy: 0.0669 - val_loss: 1091.5909 - val_accuracy: 0.0217\n",
            "Epoch 36/1000\n",
            "2190/2190 [==============================] - 10s 4ms/step - loss: 318.7273 - accuracy: 0.0677 - val_loss: 1329.6566 - val_accuracy: 0.0529\n",
            "Epoch 37/1000\n",
            "2190/2190 [==============================] - 10s 5ms/step - loss: 333.9062 - accuracy: 0.0668 - val_loss: 1980.0881 - val_accuracy: 0.0401\n",
            "Epoch 38/1000\n",
            "2190/2190 [==============================] - 9s 4ms/step - loss: 337.0871 - accuracy: 0.0669 - val_loss: 1253.2120 - val_accuracy: 0.0463\n",
            "Epoch 39/1000\n",
            "2190/2190 [==============================] - 10s 4ms/step - loss: 305.9029 - accuracy: 0.0673 - val_loss: 1424.3608 - val_accuracy: 0.0518\n",
            "Epoch 40/1000\n",
            "2190/2190 [==============================] - 10s 4ms/step - loss: 304.3579 - accuracy: 0.0671 - val_loss: 1197.7880 - val_accuracy: 0.0482\n"
          ]
        },
        {
          "output_type": "display_data",
          "data": {
            "text/plain": [
              "<IPython.core.display.HTML object>"
            ],
            "text/html": [
              "Waiting for W&B process to finish... <strong style=\"color:green\">(success).</strong>"
            ]
          },
          "metadata": {}
        },
        {
          "output_type": "display_data",
          "data": {
            "text/plain": [
              "VBox(children=(Label(value='1.626 MB of 1.626 MB uploaded (0.034 MB deduped)\\r'), FloatProgress(value=1.0, max…"
            ],
            "application/vnd.jupyter.widget-view+json": {
              "version_major": 2,
              "version_minor": 0,
              "model_id": "6e6b2f3adc3343208275de647180d51a"
            }
          },
          "metadata": {}
        },
        {
          "output_type": "display_data",
          "data": {
            "text/plain": [
              "<IPython.core.display.HTML object>"
            ],
            "text/html": [
              "<style>\n",
              "    table.wandb td:nth-child(1) { padding: 0 10px; text-align: left ; width: auto;} td:nth-child(2) {text-align: left ; width: 100%}\n",
              "    .wandb-row { display: flex; flex-direction: row; flex-wrap: wrap; justify-content: flex-start; width: 100% }\n",
              "    .wandb-col { display: flex; flex-direction: column; flex-basis: 100%; flex: 1; padding: 10px; }\n",
              "    </style>\n",
              "<div class=\"wandb-row\"><div class=\"wandb-col\"><h3>Run history:</h3><br/><table class=\"wandb\"><tr><td>accuracy</td><td>▁▄▄▄▅▄▄▄▃█▅▅▄▄▄▄▅▄▄▂▃▂▃▂▂▂▂▂▂▂▂▂▂▁▁▂▁▁▁▁</td></tr><tr><td>epoch</td><td>▁▁▁▂▂▂▂▂▂▃▃▃▃▃▄▄▄▄▄▄▅▅▅▅▅▅▆▆▆▆▆▇▇▇▇▇▇███</td></tr><tr><td>epoch/accuracy</td><td>▁▄▄▄▅▄▄▄▃█▅▅▄▄▄▄▅▄▄▂▃▂▃▂▂▂▂▂▂▂▂▂▂▁▁▂▁▁▁▁</td></tr><tr><td>epoch/epoch</td><td>▁▁▁▂▂▂▂▂▂▃▃▃▃▃▄▄▄▄▄▄▅▅▅▅▅▅▆▆▆▆▆▇▇▇▇▇▇███</td></tr><tr><td>epoch/learning_rate</td><td>▁▁▁▁▁▁▁▁▁▁▁▁▁▁▁▁▁▁▁▁▁▁▁▁▁▁▁▁▁▁▁▁▁▁▁▁▁▁▁▁</td></tr><tr><td>epoch/loss</td><td>▃▄▄▃▄▆▄▄▄▆█▆▆▇▄▁▃▂▁▂▁▁▂▂▂▂▂▁▁▂▁▁▂▂▂▂▂▂▁▁</td></tr><tr><td>epoch/val_accuracy</td><td>▅▅▅▄▁▃▅▄▄▃▁▆▄▇▃▂▂▆▃▄▄▂▅▂▂▇▂▃▃▆▅▆▆▂▃█▆▇█▇</td></tr><tr><td>epoch/val_loss</td><td>▃▄▄▂▅▅▅▂▄▃█▂▂▄▂▃▂▁▂▂▃▂▂▃▂▂▄▃▂▁▂▃▃▄▂▃▅▂▃▂</td></tr><tr><td>loss</td><td>▃▄▄▃▄▆▄▄▄▆█▆▆▇▄▁▃▂▁▂▁▁▂▂▂▂▂▁▁▂▁▁▂▂▂▂▂▂▁▁</td></tr><tr><td>val_accuracy</td><td>▅▅▅▄▁▃▅▄▄▃▁▆▄▇▃▂▂▆▃▄▄▂▅▂▂▇▂▃▃▆▅▆▆▂▃█▆▇█▇</td></tr><tr><td>val_loss</td><td>▃▄▄▂▅▅▅▂▄▃█▂▂▄▂▃▂▁▂▂▃▂▂▃▂▂▄▃▂▁▂▃▃▄▂▃▅▂▃▂</td></tr></table><br/></div><div class=\"wandb-col\"><h3>Run summary:</h3><br/><table class=\"wandb\"><tr><td>accuracy</td><td>0.06711</td></tr><tr><td>best_epoch</td><td>17</td></tr><tr><td>best_val_loss</td><td>915.21234</td></tr><tr><td>epoch</td><td>39</td></tr><tr><td>epoch/accuracy</td><td>0.06711</td></tr><tr><td>epoch/epoch</td><td>39</td></tr><tr><td>epoch/learning_rate</td><td>0.05</td></tr><tr><td>epoch/loss</td><td>304.35791</td></tr><tr><td>epoch/val_accuracy</td><td>0.04817</td></tr><tr><td>epoch/val_loss</td><td>1197.78796</td></tr><tr><td>loss</td><td>304.35791</td></tr><tr><td>val_accuracy</td><td>0.04817</td></tr><tr><td>val_loss</td><td>1197.78796</td></tr></table><br/></div></div>"
            ]
          },
          "metadata": {}
        },
        {
          "output_type": "display_data",
          "data": {
            "text/plain": [
              "<IPython.core.display.HTML object>"
            ],
            "text/html": [
              " View run <strong style=\"color:#cdcd00\">glorious-sweep-1</strong> at: <a href='https://wandb.ai/pilwookmoon/lstm_sweep_colab/runs/texu4k1w' target=\"_blank\">https://wandb.ai/pilwookmoon/lstm_sweep_colab/runs/texu4k1w</a><br/>Synced 5 W&B file(s), 1 media file(s), 20 artifact file(s) and 1 other file(s)"
            ]
          },
          "metadata": {}
        },
        {
          "output_type": "display_data",
          "data": {
            "text/plain": [
              "<IPython.core.display.HTML object>"
            ],
            "text/html": [
              "Find logs at: <code>./wandb/run-20230503_064947-texu4k1w/logs</code>"
            ]
          },
          "metadata": {}
        },
        {
          "output_type": "stream",
          "name": "stderr",
          "text": [
            "\u001b[34m\u001b[1mwandb\u001b[0m: Agent Starting Run: 3a2uam0z with config:\n",
            "\u001b[34m\u001b[1mwandb\u001b[0m: \tactivation: relu\n",
            "\u001b[34m\u001b[1mwandb\u001b[0m: \tbatch_size: 32\n",
            "\u001b[34m\u001b[1mwandb\u001b[0m: \tdropout: 0.1\n",
            "\u001b[34m\u001b[1mwandb\u001b[0m: \tepochs: 1000\n",
            "\u001b[34m\u001b[1mwandb\u001b[0m: \thidden_layer_size: 16\n",
            "\u001b[34m\u001b[1mwandb\u001b[0m: \tlearning_rate: 0.05\n",
            "\u001b[34m\u001b[1mwandb\u001b[0m: \tlstm_layer_size: 16\n",
            "\u001b[34m\u001b[1mwandb\u001b[0m: \toptimizer: adam\n",
            "\u001b[34m\u001b[1mwandb\u001b[0m: \ttime_step: 3\n"
          ]
        },
        {
          "output_type": "display_data",
          "data": {
            "text/plain": [
              "<IPython.core.display.HTML object>"
            ],
            "text/html": [
              "Tracking run with wandb version 0.15.1"
            ]
          },
          "metadata": {}
        },
        {
          "output_type": "display_data",
          "data": {
            "text/plain": [
              "<IPython.core.display.HTML object>"
            ],
            "text/html": [
              "Run data is saved locally in <code>/content/wandb/run-20230503_065723-3a2uam0z</code>"
            ]
          },
          "metadata": {}
        },
        {
          "output_type": "display_data",
          "data": {
            "text/plain": [
              "<IPython.core.display.HTML object>"
            ],
            "text/html": [
              "Syncing run <strong><a href='https://wandb.ai/pilwookmoon/lstm_sweep_colab/runs/3a2uam0z' target=\"_blank\">serene-sweep-2</a></strong> to <a href='https://wandb.ai/pilwookmoon/lstm_sweep_colab' target=\"_blank\">Weights & Biases</a> (<a href='https://wandb.me/run' target=\"_blank\">docs</a>)<br/>Sweep page: <a href='https://wandb.ai/pilwookmoon/lstm_sweep_colab/sweeps/9v59afe8' target=\"_blank\">https://wandb.ai/pilwookmoon/lstm_sweep_colab/sweeps/9v59afe8</a>"
            ]
          },
          "metadata": {}
        },
        {
          "output_type": "display_data",
          "data": {
            "text/plain": [
              "<IPython.core.display.HTML object>"
            ],
            "text/html": [
              " View project at <a href='https://wandb.ai/pilwookmoon/lstm_sweep_colab' target=\"_blank\">https://wandb.ai/pilwookmoon/lstm_sweep_colab</a>"
            ]
          },
          "metadata": {}
        },
        {
          "output_type": "display_data",
          "data": {
            "text/plain": [
              "<IPython.core.display.HTML object>"
            ],
            "text/html": [
              " View sweep at <a href='https://wandb.ai/pilwookmoon/lstm_sweep_colab/sweeps/9v59afe8' target=\"_blank\">https://wandb.ai/pilwookmoon/lstm_sweep_colab/sweeps/9v59afe8</a>"
            ]
          },
          "metadata": {}
        },
        {
          "output_type": "display_data",
          "data": {
            "text/plain": [
              "<IPython.core.display.HTML object>"
            ],
            "text/html": [
              " View run at <a href='https://wandb.ai/pilwookmoon/lstm_sweep_colab/runs/3a2uam0z' target=\"_blank\">https://wandb.ai/pilwookmoon/lstm_sweep_colab/runs/3a2uam0z</a>"
            ]
          },
          "metadata": {}
        },
        {
          "output_type": "stream",
          "name": "stdout",
          "text": [
            "x shape :  (70080, 3, 25)\n",
            "y shape :  (70080, 25)\n"
          ]
        },
        {
          "output_type": "stream",
          "name": "stderr",
          "text": [
            "WARNING:tensorflow:Layer lstm will not use cuDNN kernels since it doesn't meet the criteria. It will use a generic GPU kernel as fallback when running on GPU.\n"
          ]
        },
        {
          "output_type": "stream",
          "name": "stdout",
          "text": [
            "x shape :  (17520, 3, 25)\n",
            "y shape :  (17520, 25)\n"
          ]
        },
        {
          "output_type": "stream",
          "name": "stderr",
          "text": [
            "/usr/local/lib/python3.10/dist-packages/keras/optimizers/legacy/adam.py:117: UserWarning: The `lr` argument is deprecated, use `learning_rate` instead.\n",
            "  super().__init__(name, **kwargs)\n"
          ]
        },
        {
          "output_type": "stream",
          "name": "stdout",
          "text": [
            "Epoch 1/1000\n",
            "2182/2190 [============================>.] - ETA: 0s - loss: 435.6586 - accuracy: 0.0643"
          ]
        },
        {
          "output_type": "stream",
          "name": "stderr",
          "text": [
            "\u001b[34m\u001b[1mwandb\u001b[0m: Adding directory to artifact (/content/wandb/run-20230503_065723-3a2uam0z/files/model-best)... Done. 0.0s\n"
          ]
        },
        {
          "output_type": "stream",
          "name": "stdout",
          "text": [
            "\b\b\b\b\b\b\b\b\b\b\b\b\b\b\b\b\b\b\b\b\b\b\b\b\b\b\b\b\b\b\b\b\b\b\b\b\b\b\b\b\b\b\b\b\b\b\b\b\b\b\b\b\b\b\b\b\b\b\b\b\b\b\b\b\b\b\b\b\b\b\b\b\b\b\b\b\b\b\b\b\b\b\b\b\b\b\b\b\r2190/2190 [==============================] - 15s 6ms/step - loss: 435.6551 - accuracy: 0.0643 - val_loss: 1040.2196 - val_accuracy: 0.0380\n",
            "Epoch 2/1000\n",
            "2190/2190 [==============================] - 11s 5ms/step - loss: 453.0957 - accuracy: 0.0731 - val_loss: 1708.8405 - val_accuracy: 0.0112\n",
            "Epoch 3/1000\n",
            "2184/2190 [============================>.] - ETA: 0s - loss: 780.8474 - accuracy: 0.0751"
          ]
        },
        {
          "output_type": "stream",
          "name": "stderr",
          "text": [
            "\u001b[34m\u001b[1mwandb\u001b[0m: Adding directory to artifact (/content/wandb/run-20230503_065723-3a2uam0z/files/model-best)... Done. 0.0s\n"
          ]
        },
        {
          "output_type": "stream",
          "name": "stdout",
          "text": [
            "\b\b\b\b\b\b\b\b\b\b\b\b\b\b\b\b\b\b\b\b\b\b\b\b\b\b\b\b\b\b\b\b\b\b\b\b\b\b\b\b\b\b\b\b\b\b\b\b\b\b\b\b\b\b\b\b\b\b\b\b\b\b\b\b\b\b\b\b\b\b\b\b\b\b\b\b\b\b\b\b\b\b\b\b\b\b\b\b\r2190/2190 [==============================] - 15s 7ms/step - loss: 782.4316 - accuracy: 0.0750 - val_loss: 741.0042 - val_accuracy: 0.0031\n",
            "Epoch 4/1000\n",
            "2187/2190 [============================>.] - ETA: 0s - loss: 1141.8492 - accuracy: 0.0692"
          ]
        },
        {
          "output_type": "stream",
          "name": "stderr",
          "text": [
            "\u001b[34m\u001b[1mwandb\u001b[0m: Adding directory to artifact (/content/wandb/run-20230503_065723-3a2uam0z/files/model-best)... Done. 0.0s\n"
          ]
        },
        {
          "output_type": "stream",
          "name": "stdout",
          "text": [
            "\b\b\b\b\b\b\b\b\b\b\b\b\b\b\b\b\b\b\b\b\b\b\b\b\b\b\b\b\b\b\b\b\b\b\b\b\b\b\b\b\b\b\b\b\b\b\b\b\b\b\b\b\b\b\b\b\b\b\b\b\b\b\b\b\b\b\b\b\b\b\b\b\b\b\b\b\b\b\b\b\b\b\b\b\b\b\b\b\b\r2190/2190 [==============================] - 14s 6ms/step - loss: 1141.5986 - accuracy: 0.0693 - val_loss: 736.2444 - val_accuracy: 0.0392\n",
            "Epoch 5/1000\n",
            "2190/2190 [==============================] - 11s 5ms/step - loss: 1141.6395 - accuracy: 0.0663 - val_loss: 738.7995 - val_accuracy: 0.0392\n",
            "Epoch 6/1000\n",
            "2190/2190 [==============================] - 11s 5ms/step - loss: 1141.5602 - accuracy: 0.0665 - val_loss: 744.3090 - val_accuracy: 0.0392\n",
            "Epoch 7/1000\n",
            "2190/2190 [==============================] - 13s 6ms/step - loss: 1141.6670 - accuracy: 0.0611 - val_loss: 743.2191 - val_accuracy: 0.0392\n",
            "Epoch 8/1000\n",
            "2190/2190 [==============================] - 12s 5ms/step - loss: 1141.6499 - accuracy: 0.0711 - val_loss: 737.6481 - val_accuracy: 0.0392\n",
            "Epoch 9/1000\n",
            "2190/2190 [==============================] - 11s 5ms/step - loss: 1141.6730 - accuracy: 0.0688 - val_loss: 744.4387 - val_accuracy: 0.0392\n",
            "Epoch 10/1000\n",
            "2190/2190 [==============================] - 13s 6ms/step - loss: 1141.5262 - accuracy: 0.0674 - val_loss: 739.8267 - val_accuracy: 0.0392\n",
            "Epoch 11/1000\n",
            "2190/2190 [==============================] - 13s 6ms/step - loss: 1141.4828 - accuracy: 0.0722 - val_loss: 736.9172 - val_accuracy: 0.0392\n",
            "Epoch 12/1000\n",
            "2190/2190 [==============================] - 13s 6ms/step - loss: 1141.3627 - accuracy: 0.0640 - val_loss: 740.5447 - val_accuracy: 0.0392\n",
            "Epoch 13/1000\n",
            "2190/2190 [==============================] - 12s 5ms/step - loss: 1141.5356 - accuracy: 0.0643 - val_loss: 743.7788 - val_accuracy: 0.0031\n",
            "Epoch 14/1000\n",
            "2190/2190 [==============================] - 11s 5ms/step - loss: 1141.5251 - accuracy: 0.0661 - val_loss: 746.7296 - val_accuracy: 0.0392\n",
            "Epoch 15/1000\n",
            "2190/2190 [==============================] - 11s 5ms/step - loss: 1141.4779 - accuracy: 0.0687 - val_loss: 736.7061 - val_accuracy: 0.0392\n",
            "Epoch 16/1000\n",
            "2190/2190 [==============================] - 12s 5ms/step - loss: 1141.5880 - accuracy: 0.0661 - val_loss: 741.0302 - val_accuracy: 0.0392\n",
            "Epoch 17/1000\n",
            "2190/2190 [==============================] - 13s 6ms/step - loss: 1141.5400 - accuracy: 0.0619 - val_loss: 742.9406 - val_accuracy: 0.0392\n",
            "Epoch 18/1000\n",
            "2190/2190 [==============================] - 12s 5ms/step - loss: 1141.6078 - accuracy: 0.0683 - val_loss: 746.3603 - val_accuracy: 0.0392\n",
            "Epoch 19/1000\n",
            "2190/2190 [==============================] - 13s 6ms/step - loss: 1141.5786 - accuracy: 0.0657 - val_loss: 744.4098 - val_accuracy: 0.0031\n",
            "Epoch 20/1000\n",
            "2190/2190 [==============================] - 12s 5ms/step - loss: 1141.6027 - accuracy: 0.0682 - val_loss: 748.1214 - val_accuracy: 0.0031\n",
            "Epoch 21/1000\n",
            "2190/2190 [==============================] - 12s 6ms/step - loss: 1141.4376 - accuracy: 0.0658 - val_loss: 752.3456 - val_accuracy: 0.0392\n",
            "Epoch 22/1000\n",
            "2190/2190 [==============================] - 12s 5ms/step - loss: 1141.4762 - accuracy: 0.0669 - val_loss: 743.6738 - val_accuracy: 0.0392\n",
            "Epoch 23/1000\n",
            "2190/2190 [==============================] - 11s 5ms/step - loss: 1141.3867 - accuracy: 0.0680 - val_loss: 739.0813 - val_accuracy: 0.0392\n",
            "Epoch 24/1000\n",
            "2190/2190 [==============================] - 11s 5ms/step - loss: 1141.5474 - accuracy: 0.0658 - val_loss: 738.9925 - val_accuracy: 0.0392\n",
            "Epoch 25/1000\n",
            "2190/2190 [==============================] - 13s 6ms/step - loss: 1141.5559 - accuracy: 0.0713 - val_loss: 742.2135 - val_accuracy: 0.0392\n",
            "Epoch 26/1000\n",
            "2190/2190 [==============================] - 12s 5ms/step - loss: 1141.5215 - accuracy: 0.0679 - val_loss: 743.8542 - val_accuracy: 0.0031\n",
            "Epoch 27/1000\n",
            "2190/2190 [==============================] - 12s 5ms/step - loss: 1141.5472 - accuracy: 0.0660 - val_loss: 739.7098 - val_accuracy: 0.0392\n",
            "Epoch 28/1000\n",
            "2184/2190 [============================>.] - ETA: 0s - loss: 1142.3999 - accuracy: 0.0684"
          ]
        },
        {
          "output_type": "stream",
          "name": "stderr",
          "text": [
            "\u001b[34m\u001b[1mwandb\u001b[0m: Adding directory to artifact (/content/wandb/run-20230503_065723-3a2uam0z/files/model-best)... Done. 0.0s\n"
          ]
        },
        {
          "output_type": "stream",
          "name": "stdout",
          "text": [
            "\b\b\b\b\b\b\b\b\b\b\b\b\b\b\b\b\b\b\b\b\b\b\b\b\b\b\b\b\b\b\b\b\b\b\b\b\b\b\b\b\b\b\b\b\b\b\b\b\b\b\b\b\b\b\b\b\b\b\b\b\b\b\b\b\b\b\b\b\b\b\b\b\b\b\b\b\b\b\b\b\b\b\b\b\b\b\b\b\b\r2190/2190 [==============================] - 15s 7ms/step - loss: 1141.4520 - accuracy: 0.0683 - val_loss: 736.2240 - val_accuracy: 0.0031\n",
            "Epoch 29/1000\n",
            "2181/2190 [============================>.] - ETA: 0s - loss: 1141.7319 - accuracy: 0.0693"
          ]
        },
        {
          "output_type": "stream",
          "name": "stderr",
          "text": [
            "\u001b[34m\u001b[1mwandb\u001b[0m: Adding directory to artifact (/content/wandb/run-20230503_065723-3a2uam0z/files/model-best)... Done. 0.0s\n"
          ]
        },
        {
          "output_type": "stream",
          "name": "stdout",
          "text": [
            "\b\b\b\b\b\b\b\b\b\b\b\b\b\b\b\b\b\b\b\b\b\b\b\b\b\b\b\b\b\b\b\b\b\b\b\b\b\b\b\b\b\b\b\b\b\b\b\b\b\b\b\b\b\b\b\b\b\b\b\b\b\b\b\b\b\b\b\b\b\b\b\b\b\b\b\b\b\b\b\b\b\b\b\b\b\b\b\b\b\r2190/2190 [==============================] - 13s 6ms/step - loss: 1141.5966 - accuracy: 0.0694 - val_loss: 734.8250 - val_accuracy: 0.0392\n",
            "Epoch 30/1000\n",
            "2190/2190 [==============================] - 13s 6ms/step - loss: 1141.5992 - accuracy: 0.0692 - val_loss: 743.5936 - val_accuracy: 0.0392\n",
            "Epoch 31/1000\n",
            "2190/2190 [==============================] - 13s 6ms/step - loss: 1141.5135 - accuracy: 0.0725 - val_loss: 747.2651 - val_accuracy: 0.0392\n",
            "Epoch 32/1000\n",
            "2190/2190 [==============================] - 11s 5ms/step - loss: 1141.4423 - accuracy: 0.0675 - val_loss: 738.6805 - val_accuracy: 0.0392\n",
            "Epoch 33/1000\n",
            "2190/2190 [==============================] - 13s 6ms/step - loss: 1141.6288 - accuracy: 0.0706 - val_loss: 738.1614 - val_accuracy: 0.0392\n"
          ]
        },
        {
          "output_type": "display_data",
          "data": {
            "text/plain": [
              "<IPython.core.display.HTML object>"
            ],
            "text/html": [
              "Waiting for W&B process to finish... <strong style=\"color:green\">(success).</strong>"
            ]
          },
          "metadata": {}
        },
        {
          "output_type": "display_data",
          "data": {
            "text/plain": [
              "VBox(children=(Label(value='2.015 MB of 2.015 MB uploaded (0.046 MB deduped)\\r'), FloatProgress(value=1.0, max…"
            ],
            "application/vnd.jupyter.widget-view+json": {
              "version_major": 2,
              "version_minor": 0,
              "model_id": "e27ba202668e44878b4cb527c5b547cb"
            }
          },
          "metadata": {}
        },
        {
          "output_type": "display_data",
          "data": {
            "text/plain": [
              "<IPython.core.display.HTML object>"
            ],
            "text/html": [
              "<style>\n",
              "    table.wandb td:nth-child(1) { padding: 0 10px; text-align: left ; width: auto;} td:nth-child(2) {text-align: left ; width: 100%}\n",
              "    .wandb-row { display: flex; flex-direction: row; flex-wrap: wrap; justify-content: flex-start; width: 100% }\n",
              "    .wandb-col { display: flex; flex-direction: column; flex-basis: 100%; flex: 1; padding: 10px; }\n",
              "    </style>\n",
              "<div class=\"wandb-row\"><div class=\"wandb-col\"><h3>Run history:</h3><br/><table class=\"wandb\"><tr><td>accuracy</td><td>▃▇█▅▄▄▁▆▅▄▇▂▃▄▅▄▁▅▃▅▃▄▄▃▆▄▃▅▅▅▇▄▆</td></tr><tr><td>epoch</td><td>▁▁▁▂▂▂▂▃▃▃▃▃▄▄▄▄▅▅▅▅▅▆▆▆▆▆▇▇▇▇███</td></tr><tr><td>epoch/accuracy</td><td>▃▇█▅▄▄▁▆▅▄▇▂▃▄▅▄▁▅▃▅▃▄▄▃▆▄▃▅▅▅▇▄▆</td></tr><tr><td>epoch/epoch</td><td>▁▁▁▂▂▂▂▃▃▃▃▃▄▄▄▄▅▅▅▅▅▆▆▆▆▆▇▇▇▇███</td></tr><tr><td>epoch/learning_rate</td><td>▁▁▁▁▁▁▁▁▁▁▁▁▁▁▁▁▁▁▁▁▁▁▁▁▁▁▁▁▁▁▁▁▁</td></tr><tr><td>epoch/loss</td><td>▁▁▄██████████████████████████████</td></tr><tr><td>epoch/val_accuracy</td><td>█▃▁█████████▁█████▁▁█████▁█▁█████</td></tr><tr><td>epoch/val_loss</td><td>▃█▁▁▁▁▁▁▁▁▁▁▁▁▁▁▁▁▁▁▁▁▁▁▁▁▁▁▁▁▁▁▁</td></tr><tr><td>loss</td><td>▁▁▄██████████████████████████████</td></tr><tr><td>val_accuracy</td><td>█▃▁█████████▁█████▁▁█████▁█▁█████</td></tr><tr><td>val_loss</td><td>▃█▁▁▁▁▁▁▁▁▁▁▁▁▁▁▁▁▁▁▁▁▁▁▁▁▁▁▁▁▁▁▁</td></tr></table><br/></div><div class=\"wandb-col\"><h3>Run summary:</h3><br/><table class=\"wandb\"><tr><td>accuracy</td><td>0.07062</td></tr><tr><td>best_epoch</td><td>28</td></tr><tr><td>best_val_loss</td><td>734.82501</td></tr><tr><td>epoch</td><td>32</td></tr><tr><td>epoch/accuracy</td><td>0.07062</td></tr><tr><td>epoch/epoch</td><td>32</td></tr><tr><td>epoch/learning_rate</td><td>0.05</td></tr><tr><td>epoch/loss</td><td>1141.62878</td></tr><tr><td>epoch/val_accuracy</td><td>0.03921</td></tr><tr><td>epoch/val_loss</td><td>738.16138</td></tr><tr><td>loss</td><td>1141.62878</td></tr><tr><td>val_accuracy</td><td>0.03921</td></tr><tr><td>val_loss</td><td>738.16138</td></tr></table><br/></div></div>"
            ]
          },
          "metadata": {}
        },
        {
          "output_type": "display_data",
          "data": {
            "text/plain": [
              "<IPython.core.display.HTML object>"
            ],
            "text/html": [
              " View run <strong style=\"color:#cdcd00\">serene-sweep-2</strong> at: <a href='https://wandb.ai/pilwookmoon/lstm_sweep_colab/runs/3a2uam0z' target=\"_blank\">https://wandb.ai/pilwookmoon/lstm_sweep_colab/runs/3a2uam0z</a><br/>Synced 5 W&B file(s), 1 media file(s), 25 artifact file(s) and 1 other file(s)"
            ]
          },
          "metadata": {}
        },
        {
          "output_type": "display_data",
          "data": {
            "text/plain": [
              "<IPython.core.display.HTML object>"
            ],
            "text/html": [
              "Find logs at: <code>./wandb/run-20230503_065723-3a2uam0z/logs</code>"
            ]
          },
          "metadata": {}
        },
        {
          "output_type": "stream",
          "name": "stderr",
          "text": [
            "\u001b[34m\u001b[1mwandb\u001b[0m: Agent Starting Run: 7nad80wj with config:\n",
            "\u001b[34m\u001b[1mwandb\u001b[0m: \tactivation: relu\n",
            "\u001b[34m\u001b[1mwandb\u001b[0m: \tbatch_size: 32\n",
            "\u001b[34m\u001b[1mwandb\u001b[0m: \tdropout: 0.1\n",
            "\u001b[34m\u001b[1mwandb\u001b[0m: \tepochs: 1000\n",
            "\u001b[34m\u001b[1mwandb\u001b[0m: \thidden_layer_size: 16\n",
            "\u001b[34m\u001b[1mwandb\u001b[0m: \tlearning_rate: 0.05\n",
            "\u001b[34m\u001b[1mwandb\u001b[0m: \tlstm_layer_size: 16\n",
            "\u001b[34m\u001b[1mwandb\u001b[0m: \toptimizer: adam\n",
            "\u001b[34m\u001b[1mwandb\u001b[0m: \ttime_step: 5\n"
          ]
        },
        {
          "output_type": "display_data",
          "data": {
            "text/plain": [
              "<IPython.core.display.HTML object>"
            ],
            "text/html": [
              "Tracking run with wandb version 0.15.1"
            ]
          },
          "metadata": {}
        },
        {
          "output_type": "display_data",
          "data": {
            "text/plain": [
              "<IPython.core.display.HTML object>"
            ],
            "text/html": [
              "Run data is saved locally in <code>/content/wandb/run-20230503_070453-7nad80wj</code>"
            ]
          },
          "metadata": {}
        },
        {
          "output_type": "display_data",
          "data": {
            "text/plain": [
              "<IPython.core.display.HTML object>"
            ],
            "text/html": [
              "Syncing run <strong><a href='https://wandb.ai/pilwookmoon/lstm_sweep_colab/runs/7nad80wj' target=\"_blank\">crisp-sweep-3</a></strong> to <a href='https://wandb.ai/pilwookmoon/lstm_sweep_colab' target=\"_blank\">Weights & Biases</a> (<a href='https://wandb.me/run' target=\"_blank\">docs</a>)<br/>Sweep page: <a href='https://wandb.ai/pilwookmoon/lstm_sweep_colab/sweeps/9v59afe8' target=\"_blank\">https://wandb.ai/pilwookmoon/lstm_sweep_colab/sweeps/9v59afe8</a>"
            ]
          },
          "metadata": {}
        },
        {
          "output_type": "display_data",
          "data": {
            "text/plain": [
              "<IPython.core.display.HTML object>"
            ],
            "text/html": [
              " View project at <a href='https://wandb.ai/pilwookmoon/lstm_sweep_colab' target=\"_blank\">https://wandb.ai/pilwookmoon/lstm_sweep_colab</a>"
            ]
          },
          "metadata": {}
        },
        {
          "output_type": "display_data",
          "data": {
            "text/plain": [
              "<IPython.core.display.HTML object>"
            ],
            "text/html": [
              " View sweep at <a href='https://wandb.ai/pilwookmoon/lstm_sweep_colab/sweeps/9v59afe8' target=\"_blank\">https://wandb.ai/pilwookmoon/lstm_sweep_colab/sweeps/9v59afe8</a>"
            ]
          },
          "metadata": {}
        },
        {
          "output_type": "display_data",
          "data": {
            "text/plain": [
              "<IPython.core.display.HTML object>"
            ],
            "text/html": [
              " View run at <a href='https://wandb.ai/pilwookmoon/lstm_sweep_colab/runs/7nad80wj' target=\"_blank\">https://wandb.ai/pilwookmoon/lstm_sweep_colab/runs/7nad80wj</a>"
            ]
          },
          "metadata": {}
        },
        {
          "output_type": "stream",
          "name": "stdout",
          "text": [
            "x shape :  (70080, 5, 25)\n",
            "y shape :  (70080, 25)\n"
          ]
        },
        {
          "output_type": "stream",
          "name": "stderr",
          "text": [
            "WARNING:tensorflow:Layer lstm will not use cuDNN kernels since it doesn't meet the criteria. It will use a generic GPU kernel as fallback when running on GPU.\n"
          ]
        },
        {
          "output_type": "stream",
          "name": "stdout",
          "text": [
            "x shape :  (17520, 5, 25)\n",
            "y shape :  (17520, 25)\n"
          ]
        },
        {
          "output_type": "stream",
          "name": "stderr",
          "text": [
            "/usr/local/lib/python3.10/dist-packages/keras/optimizers/legacy/adam.py:117: UserWarning: The `lr` argument is deprecated, use `learning_rate` instead.\n",
            "  super().__init__(name, **kwargs)\n"
          ]
        },
        {
          "output_type": "stream",
          "name": "stdout",
          "text": [
            "Epoch 1/1000\n",
            "2182/2190 [============================>.] - ETA: 0s - loss: 553.4560 - accuracy: 0.0638"
          ]
        },
        {
          "output_type": "stream",
          "name": "stderr",
          "text": [
            "\u001b[34m\u001b[1mwandb\u001b[0m: Adding directory to artifact (/content/wandb/run-20230503_070453-7nad80wj/files/model-best)... Done. 0.0s\n"
          ]
        },
        {
          "output_type": "stream",
          "name": "stdout",
          "text": [
            "\b\b\b\b\b\b\b\b\b\b\b\b\b\b\b\b\b\b\b\b\b\b\b\b\b\b\b\b\b\b\b\b\b\b\b\b\b\b\b\b\b\b\b\b\b\b\b\b\b\b\b\b\b\b\b\b\b\b\b\b\b\b\b\b\b\b\b\b\b\b\b\b\b\b\b\b\b\b\b\b\b\b\b\b\b\b\b\b\r2190/2190 [==============================] - 19s 8ms/step - loss: 553.4025 - accuracy: 0.0639 - val_loss: 1133.4729 - val_accuracy: 0.0232\n",
            "Epoch 2/1000\n",
            "2190/2190 [==============================] - 15s 7ms/step - loss: 610.4429 - accuracy: 0.0723 - val_loss: 1265.8882 - val_accuracy: 0.0327\n",
            "Epoch 3/1000\n",
            "2189/2190 [============================>.] - ETA: 0s - loss: 680.6484 - accuracy: 0.0679"
          ]
        },
        {
          "output_type": "stream",
          "name": "stderr",
          "text": [
            "\u001b[34m\u001b[1mwandb\u001b[0m: Adding directory to artifact (/content/wandb/run-20230503_070453-7nad80wj/files/model-best)... Done. 0.0s\n"
          ]
        },
        {
          "output_type": "stream",
          "name": "stdout",
          "text": [
            "\b\b\b\b\b\b\b\b\b\b\b\b\b\b\b\b\b\b\b\b\b\b\b\b\b\b\b\b\b\b\b\b\b\b\b\b\b\b\b\b\b\b\b\b\b\b\b\b\b\b\b\b\b\b\b\b\b\b\b\b\b\b\b\b\b\b\b\b\b\b\b\b\b\b\b\b\b\b\b\b\b\b\b\b\b\b\b\b\r2190/2190 [==============================] - 16s 7ms/step - loss: 680.7700 - accuracy: 0.0679 - val_loss: 744.6122 - val_accuracy: 0.0868\n",
            "Epoch 4/1000\n",
            "2186/2190 [============================>.] - ETA: 0s - loss: 1779.8164 - accuracy: 0.0591"
          ]
        },
        {
          "output_type": "stream",
          "name": "stderr",
          "text": [
            "\u001b[34m\u001b[1mwandb\u001b[0m: Adding directory to artifact (/content/wandb/run-20230503_070453-7nad80wj/files/model-best)... Done. 0.0s\n"
          ]
        },
        {
          "output_type": "stream",
          "name": "stdout",
          "text": [
            "\b\b\b\b\b\b\b\b\b\b\b\b\b\b\b\b\b\b\b\b\b\b\b\b\b\b\b\b\b\b\b\b\b\b\b\b\b\b\b\b\b\b\b\b\b\b\b\b\b\b\b\b\b\b\b\b\b\b\b\b\b\b\b\b\b\b\b\b\b\b\b\b\b\b\b\b\b\b\b\b\b\b\b\b\b\b\b\b\b\r2190/2190 [==============================] - 16s 7ms/step - loss: 1780.3947 - accuracy: 0.0591 - val_loss: 736.4238 - val_accuracy: 0.0392\n",
            "Epoch 5/1000\n",
            "2189/2190 [============================>.] - ETA: 0s - loss: 1145.4054 - accuracy: 0.0608"
          ]
        },
        {
          "output_type": "stream",
          "name": "stderr",
          "text": [
            "\u001b[34m\u001b[1mwandb\u001b[0m: Adding directory to artifact (/content/wandb/run-20230503_070453-7nad80wj/files/model-best)... Done. 0.0s\n"
          ]
        },
        {
          "output_type": "stream",
          "name": "stdout",
          "text": [
            "\b\b\b\b\b\b\b\b\b\b\b\b\b\b\b\b\b\b\b\b\b\b\b\b\b\b\b\b\b\b\b\b\b\b\b\b\b\b\b\b\b\b\b\b\b\b\b\b\b\b\b\b\b\b\b\b\b\b\b\b\b\b\b\b\b\b\b\b\b\b\b\b\b\b\b\b\b\b\b\b\b\b\b\b\b\b\b\b\b\r2190/2190 [==============================] - 16s 7ms/step - loss: 1145.5090 - accuracy: 0.0608 - val_loss: 730.2548 - val_accuracy: 0.0392\n",
            "Epoch 6/1000\n",
            "2190/2190 [==============================] - 16s 7ms/step - loss: 1142.4109 - accuracy: 0.0645 - val_loss: 736.9690 - val_accuracy: 0.0031\n",
            "Epoch 7/1000\n",
            "2190/2190 [==============================] - 16s 7ms/step - loss: 1141.6754 - accuracy: 0.0725 - val_loss: 741.3936 - val_accuracy: 0.0392\n",
            "Epoch 8/1000\n",
            "2190/2190 [==============================] - 16s 7ms/step - loss: 1141.5006 - accuracy: 0.0694 - val_loss: 741.4014 - val_accuracy: 0.0392\n",
            "Epoch 9/1000\n",
            "2190/2190 [==============================] - 15s 7ms/step - loss: 1141.5006 - accuracy: 0.0666 - val_loss: 737.8362 - val_accuracy: 0.0392\n",
            "Epoch 10/1000\n",
            "2190/2190 [==============================] - 16s 7ms/step - loss: 1141.6532 - accuracy: 0.0716 - val_loss: 742.5671 - val_accuracy: 0.0031\n",
            "Epoch 11/1000\n",
            "2190/2190 [==============================] - 15s 7ms/step - loss: 1141.6637 - accuracy: 0.0605 - val_loss: 738.7571 - val_accuracy: 0.0392\n",
            "Epoch 12/1000\n",
            "2190/2190 [==============================] - 16s 7ms/step - loss: 1141.5619 - accuracy: 0.0709 - val_loss: 741.5464 - val_accuracy: 0.0392\n",
            "Epoch 13/1000\n",
            "2190/2190 [==============================] - 15s 7ms/step - loss: 1141.5371 - accuracy: 0.0658 - val_loss: 740.2529 - val_accuracy: 0.0392\n",
            "Epoch 14/1000\n",
            "2190/2190 [==============================] - 15s 7ms/step - loss: 1141.4199 - accuracy: 0.0674 - val_loss: 742.7997 - val_accuracy: 0.0392\n",
            "Epoch 15/1000\n",
            "2190/2190 [==============================] - 15s 7ms/step - loss: 1141.5524 - accuracy: 0.0705 - val_loss: 740.5654 - val_accuracy: 0.0392\n",
            "Epoch 16/1000\n",
            "2190/2190 [==============================] - 15s 7ms/step - loss: 1141.6804 - accuracy: 0.0649 - val_loss: 745.7742 - val_accuracy: 0.0392\n",
            "Epoch 17/1000\n",
            "2190/2190 [==============================] - 15s 7ms/step - loss: 1141.4506 - accuracy: 0.0673 - val_loss: 739.7252 - val_accuracy: 0.0392\n",
            "Epoch 18/1000\n",
            "2190/2190 [==============================] - 16s 7ms/step - loss: 1141.5679 - accuracy: 0.0695 - val_loss: 738.9246 - val_accuracy: 0.0031\n",
            "Epoch 19/1000\n",
            "2190/2190 [==============================] - 16s 7ms/step - loss: 1141.4774 - accuracy: 0.0719 - val_loss: 740.9087 - val_accuracy: 0.0392\n",
            "Epoch 20/1000\n",
            "2190/2190 [==============================] - 16s 7ms/step - loss: 1141.7262 - accuracy: 0.0670 - val_loss: 741.2270 - val_accuracy: 0.0031\n",
            "Epoch 21/1000\n",
            "2190/2190 [==============================] - 15s 7ms/step - loss: 1141.6093 - accuracy: 0.0706 - val_loss: 740.6913 - val_accuracy: 0.0392\n",
            "Epoch 22/1000\n",
            "2190/2190 [==============================] - 15s 7ms/step - loss: 1141.5100 - accuracy: 0.0732 - val_loss: 750.4680 - val_accuracy: 0.0031\n",
            "Epoch 23/1000\n",
            "2190/2190 [==============================] - 14s 7ms/step - loss: 1141.3470 - accuracy: 0.0651 - val_loss: 744.1422 - val_accuracy: 0.0392\n",
            "Epoch 24/1000\n",
            "2190/2190 [==============================] - 15s 7ms/step - loss: 1141.4261 - accuracy: 0.0636 - val_loss: 740.8075 - val_accuracy: 0.0031\n",
            "Epoch 25/1000\n",
            "2190/2190 [==============================] - 16s 7ms/step - loss: 1141.5795 - accuracy: 0.0608 - val_loss: 732.2668 - val_accuracy: 0.0392\n",
            "Epoch 26/1000\n",
            "2190/2190 [==============================] - 16s 7ms/step - loss: 1141.5669 - accuracy: 0.0677 - val_loss: 745.8354 - val_accuracy: 0.0392\n",
            "Epoch 27/1000\n",
            "2190/2190 [==============================] - 15s 7ms/step - loss: 1141.5790 - accuracy: 0.0754 - val_loss: 747.9062 - val_accuracy: 0.0392\n",
            "Epoch 28/1000\n",
            "2190/2190 [==============================] - 14s 7ms/step - loss: 1141.5988 - accuracy: 0.0705 - val_loss: 748.1198 - val_accuracy: 0.0031\n",
            "Epoch 29/1000\n",
            "2190/2190 [==============================] - 15s 7ms/step - loss: 1141.5326 - accuracy: 0.0730 - val_loss: 743.2913 - val_accuracy: 0.0031\n",
            "Epoch 30/1000\n",
            "2190/2190 [==============================] - 14s 7ms/step - loss: 1141.6499 - accuracy: 0.0657 - val_loss: 737.0746 - val_accuracy: 0.0392\n",
            "Epoch 31/1000\n",
            "2190/2190 [==============================] - 14s 7ms/step - loss: 1141.6122 - accuracy: 0.0731 - val_loss: 748.9731 - val_accuracy: 0.0392\n",
            "Epoch 32/1000\n",
            "2190/2190 [==============================] - 15s 7ms/step - loss: 1141.4596 - accuracy: 0.0691 - val_loss: 741.5457 - val_accuracy: 0.0392\n",
            "Epoch 33/1000\n",
            "2190/2190 [==============================] - 15s 7ms/step - loss: 1141.4270 - accuracy: 0.0684 - val_loss: 737.0800 - val_accuracy: 0.0031\n",
            "Epoch 34/1000\n",
            "2190/2190 [==============================] - 14s 7ms/step - loss: 1141.6318 - accuracy: 0.0714 - val_loss: 741.2408 - val_accuracy: 0.0392\n",
            "Epoch 35/1000\n",
            "2190/2190 [==============================] - 15s 7ms/step - loss: 1141.3768 - accuracy: 0.0644 - val_loss: 734.1907 - val_accuracy: 0.0392\n",
            "Epoch 36/1000\n",
            "2190/2190 [==============================] - 15s 7ms/step - loss: 1141.6533 - accuracy: 0.0679 - val_loss: 741.2403 - val_accuracy: 0.0392\n",
            "Epoch 37/1000\n",
            "2190/2190 [==============================] - 14s 6ms/step - loss: 1141.4884 - accuracy: 0.0640 - val_loss: 742.4251 - val_accuracy: 0.0392\n",
            "Epoch 38/1000\n",
            "2190/2190 [==============================] - 14s 6ms/step - loss: 1141.5681 - accuracy: 0.0628 - val_loss: 741.5042 - val_accuracy: 0.0031\n",
            "Epoch 39/1000\n",
            "2190/2190 [==============================] - 15s 7ms/step - loss: 1141.5525 - accuracy: 0.0692 - val_loss: 738.9783 - val_accuracy: 0.0031\n",
            "Epoch 40/1000\n",
            "2190/2190 [==============================] - 14s 6ms/step - loss: 1141.4918 - accuracy: 0.0646 - val_loss: 743.0547 - val_accuracy: 0.0392\n",
            "Epoch 41/1000\n",
            "2190/2190 [==============================] - 14s 6ms/step - loss: 1141.4840 - accuracy: 0.0621 - val_loss: 737.1349 - val_accuracy: 0.0392\n",
            "Epoch 42/1000\n",
            "2190/2190 [==============================] - 14s 6ms/step - loss: 1141.5732 - accuracy: 0.0747 - val_loss: 746.4369 - val_accuracy: 0.0031\n",
            "Epoch 43/1000\n",
            "2190/2190 [==============================] - 14s 6ms/step - loss: 1141.5377 - accuracy: 0.0634 - val_loss: 744.3415 - val_accuracy: 0.0392\n",
            "Epoch 44/1000\n",
            "2190/2190 [==============================] - 14s 6ms/step - loss: 1141.3604 - accuracy: 0.0665 - val_loss: 740.8176 - val_accuracy: 0.0392\n",
            "Epoch 45/1000\n",
            "2190/2190 [==============================] - 14s 6ms/step - loss: 1141.5358 - accuracy: 0.0692 - val_loss: 738.5065 - val_accuracy: 0.0392\n",
            "Epoch 46/1000\n",
            "2190/2190 [==============================] - 14s 6ms/step - loss: 1141.6017 - accuracy: 0.0677 - val_loss: 738.5259 - val_accuracy: 0.0031\n",
            "Epoch 47/1000\n",
            "2190/2190 [==============================] - 15s 7ms/step - loss: 1141.4487 - accuracy: 0.0603 - val_loss: 738.2602 - val_accuracy: 0.0392\n",
            "Epoch 48/1000\n",
            "2190/2190 [==============================] - 15s 7ms/step - loss: 1141.5853 - accuracy: 0.0675 - val_loss: 737.4370 - val_accuracy: 0.0031\n",
            "Epoch 49/1000\n",
            "2190/2190 [==============================] - 15s 7ms/step - loss: 1141.5201 - accuracy: 0.0591 - val_loss: 738.7360 - val_accuracy: 0.0392\n",
            "Epoch 50/1000\n",
            "2190/2190 [==============================] - 14s 7ms/step - loss: 1141.5884 - accuracy: 0.0689 - val_loss: 738.7059 - val_accuracy: 0.0392\n",
            "Epoch 51/1000\n",
            "2190/2190 [==============================] - 15s 7ms/step - loss: 1141.6133 - accuracy: 0.0634 - val_loss: 742.8322 - val_accuracy: 0.0392\n",
            "Epoch 52/1000\n",
            "2190/2190 [==============================] - 15s 7ms/step - loss: 1141.4216 - accuracy: 0.0721 - val_loss: 737.2288 - val_accuracy: 0.0392\n",
            "Epoch 53/1000\n",
            "2190/2190 [==============================] - 15s 7ms/step - loss: 1141.5011 - accuracy: 0.0672 - val_loss: 737.6779 - val_accuracy: 0.0031\n",
            "Epoch 54/1000\n",
            "2190/2190 [==============================] - 15s 7ms/step - loss: 1141.5721 - accuracy: 0.0671 - val_loss: 745.0699 - val_accuracy: 0.0031\n",
            "Epoch 55/1000\n",
            "2190/2190 [==============================] - 14s 6ms/step - loss: 1141.4828 - accuracy: 0.0649 - val_loss: 743.9047 - val_accuracy: 0.0392\n",
            "Epoch 56/1000\n",
            "2190/2190 [==============================] - 15s 7ms/step - loss: 1141.4822 - accuracy: 0.0750 - val_loss: 744.2929 - val_accuracy: 0.0392\n",
            "Epoch 57/1000\n",
            "2190/2190 [==============================] - 14s 7ms/step - loss: 1141.5280 - accuracy: 0.0700 - val_loss: 740.9042 - val_accuracy: 0.0392\n"
          ]
        },
        {
          "output_type": "display_data",
          "data": {
            "text/plain": [
              "<IPython.core.display.HTML object>"
            ],
            "text/html": [
              "Waiting for W&B process to finish... <strong style=\"color:green\">(success).</strong>"
            ]
          },
          "metadata": {}
        },
        {
          "output_type": "display_data",
          "data": {
            "text/plain": [
              "VBox(children=(Label(value='1.627 MB of 1.627 MB uploaded (0.034 MB deduped)\\r'), FloatProgress(value=1.0, max…"
            ],
            "application/vnd.jupyter.widget-view+json": {
              "version_major": 2,
              "version_minor": 0,
              "model_id": "2d333df153d74204b037d4776d2b8592"
            }
          },
          "metadata": {}
        },
        {
          "output_type": "display_data",
          "data": {
            "text/plain": [
              "<IPython.core.display.HTML object>"
            ],
            "text/html": [
              "<style>\n",
              "    table.wandb td:nth-child(1) { padding: 0 10px; text-align: left ; width: auto;} td:nth-child(2) {text-align: left ; width: 100%}\n",
              "    .wandb-row { display: flex; flex-direction: row; flex-wrap: wrap; justify-content: flex-start; width: 100% }\n",
              "    .wandb-col { display: flex; flex-direction: column; flex-basis: 100%; flex: 1; padding: 10px; }\n",
              "    </style>\n",
              "<div class=\"wandb-row\"><div class=\"wandb-col\"><h3>Run history:</h3><br/><table class=\"wandb\"><tr><td>accuracy</td><td>▃▇▅▂▃▆▄▂▆▄▆▄▆▇▆▇▄▂▅▆▇▇▅▇▃▅▃▆▂█▄▆▅▅▁▃▇▅▄▆</td></tr><tr><td>epoch</td><td>▁▁▁▁▂▂▂▂▂▃▃▃▃▃▃▄▄▄▄▄▅▅▅▅▅▅▆▆▆▆▆▇▇▇▇▇▇███</td></tr><tr><td>epoch/accuracy</td><td>▃▇▅▂▃▆▄▂▆▄▆▄▆▇▆▇▄▂▅▆▇▇▅▇▃▅▃▆▂█▄▆▅▅▁▃▇▅▄▆</td></tr><tr><td>epoch/epoch</td><td>▁▁▁▁▂▂▂▂▂▃▃▃▃▃▃▄▄▄▄▄▅▅▅▅▅▅▆▆▆▆▆▇▇▇▇▇▇███</td></tr><tr><td>epoch/learning_rate</td><td>▁▁▁▁▁▁▁▁▁▁▁▁▁▁▁▁▁▁▁▁▁▁▁▁▁▁▁▁▁▁▁▁▁▁▁▁▁▁▁▁</td></tr><tr><td>epoch/loss</td><td>▁▂▃█████████████████████████████████████</td></tr><tr><td>epoch/val_accuracy</td><td>▃▃█▄▁▄▄▄▄▄▄▄▁▄▄▁▄▄▄▁▁▄▄▄▄▄▁▁▄▁▄▄▁▁▄▄▄▁▄▄</td></tr><tr><td>epoch/val_loss</td><td>▆█▁▁▁▁▁▁▁▁▁▁▁▁▁▁▁▁▁▁▁▁▁▁▁▁▁▁▁▁▁▁▁▁▁▁▁▁▁▁</td></tr><tr><td>loss</td><td>▁▂▃█████████████████████████████████████</td></tr><tr><td>val_accuracy</td><td>▃▃█▄▁▄▄▄▄▄▄▄▁▄▄▁▄▄▄▁▁▄▄▄▄▄▁▁▄▁▄▄▁▁▄▄▄▁▄▄</td></tr><tr><td>val_loss</td><td>▆█▁▁▁▁▁▁▁▁▁▁▁▁▁▁▁▁▁▁▁▁▁▁▁▁▁▁▁▁▁▁▁▁▁▁▁▁▁▁</td></tr></table><br/></div><div class=\"wandb-col\"><h3>Run summary:</h3><br/><table class=\"wandb\"><tr><td>accuracy</td><td>0.07005</td></tr><tr><td>best_epoch</td><td>4</td></tr><tr><td>best_val_loss</td><td>730.25482</td></tr><tr><td>epoch</td><td>56</td></tr><tr><td>epoch/accuracy</td><td>0.07005</td></tr><tr><td>epoch/epoch</td><td>56</td></tr><tr><td>epoch/learning_rate</td><td>0.05</td></tr><tr><td>epoch/loss</td><td>1141.52795</td></tr><tr><td>epoch/val_accuracy</td><td>0.03921</td></tr><tr><td>epoch/val_loss</td><td>740.90417</td></tr><tr><td>loss</td><td>1141.52795</td></tr><tr><td>val_accuracy</td><td>0.03921</td></tr><tr><td>val_loss</td><td>740.90417</td></tr></table><br/></div></div>"
            ]
          },
          "metadata": {}
        },
        {
          "output_type": "display_data",
          "data": {
            "text/plain": [
              "<IPython.core.display.HTML object>"
            ],
            "text/html": [
              " View run <strong style=\"color:#cdcd00\">crisp-sweep-3</strong> at: <a href='https://wandb.ai/pilwookmoon/lstm_sweep_colab/runs/7nad80wj' target=\"_blank\">https://wandb.ai/pilwookmoon/lstm_sweep_colab/runs/7nad80wj</a><br/>Synced 5 W&B file(s), 1 media file(s), 20 artifact file(s) and 1 other file(s)"
            ]
          },
          "metadata": {}
        },
        {
          "output_type": "display_data",
          "data": {
            "text/plain": [
              "<IPython.core.display.HTML object>"
            ],
            "text/html": [
              "Find logs at: <code>./wandb/run-20230503_070453-7nad80wj/logs</code>"
            ]
          },
          "metadata": {}
        },
        {
          "output_type": "stream",
          "name": "stderr",
          "text": [
            "\u001b[34m\u001b[1mwandb\u001b[0m: Agent Starting Run: sqf2nvjh with config:\n",
            "\u001b[34m\u001b[1mwandb\u001b[0m: \tactivation: relu\n",
            "\u001b[34m\u001b[1mwandb\u001b[0m: \tbatch_size: 32\n",
            "\u001b[34m\u001b[1mwandb\u001b[0m: \tdropout: 0.1\n",
            "\u001b[34m\u001b[1mwandb\u001b[0m: \tepochs: 1000\n",
            "\u001b[34m\u001b[1mwandb\u001b[0m: \thidden_layer_size: 16\n",
            "\u001b[34m\u001b[1mwandb\u001b[0m: \tlearning_rate: 0.05\n",
            "\u001b[34m\u001b[1mwandb\u001b[0m: \tlstm_layer_size: 32\n",
            "\u001b[34m\u001b[1mwandb\u001b[0m: \toptimizer: adam\n",
            "\u001b[34m\u001b[1mwandb\u001b[0m: \ttime_step: 1\n"
          ]
        },
        {
          "output_type": "display_data",
          "data": {
            "text/plain": [
              "<IPython.core.display.HTML object>"
            ],
            "text/html": [
              "Tracking run with wandb version 0.15.1"
            ]
          },
          "metadata": {}
        },
        {
          "output_type": "display_data",
          "data": {
            "text/plain": [
              "<IPython.core.display.HTML object>"
            ],
            "text/html": [
              "Run data is saved locally in <code>/content/wandb/run-20230503_071922-sqf2nvjh</code>"
            ]
          },
          "metadata": {}
        },
        {
          "output_type": "display_data",
          "data": {
            "text/plain": [
              "<IPython.core.display.HTML object>"
            ],
            "text/html": [
              "Syncing run <strong><a href='https://wandb.ai/pilwookmoon/lstm_sweep_colab/runs/sqf2nvjh' target=\"_blank\">icy-sweep-4</a></strong> to <a href='https://wandb.ai/pilwookmoon/lstm_sweep_colab' target=\"_blank\">Weights & Biases</a> (<a href='https://wandb.me/run' target=\"_blank\">docs</a>)<br/>Sweep page: <a href='https://wandb.ai/pilwookmoon/lstm_sweep_colab/sweeps/9v59afe8' target=\"_blank\">https://wandb.ai/pilwookmoon/lstm_sweep_colab/sweeps/9v59afe8</a>"
            ]
          },
          "metadata": {}
        },
        {
          "output_type": "display_data",
          "data": {
            "text/plain": [
              "<IPython.core.display.HTML object>"
            ],
            "text/html": [
              " View project at <a href='https://wandb.ai/pilwookmoon/lstm_sweep_colab' target=\"_blank\">https://wandb.ai/pilwookmoon/lstm_sweep_colab</a>"
            ]
          },
          "metadata": {}
        },
        {
          "output_type": "display_data",
          "data": {
            "text/plain": [
              "<IPython.core.display.HTML object>"
            ],
            "text/html": [
              " View sweep at <a href='https://wandb.ai/pilwookmoon/lstm_sweep_colab/sweeps/9v59afe8' target=\"_blank\">https://wandb.ai/pilwookmoon/lstm_sweep_colab/sweeps/9v59afe8</a>"
            ]
          },
          "metadata": {}
        },
        {
          "output_type": "display_data",
          "data": {
            "text/plain": [
              "<IPython.core.display.HTML object>"
            ],
            "text/html": [
              " View run at <a href='https://wandb.ai/pilwookmoon/lstm_sweep_colab/runs/sqf2nvjh' target=\"_blank\">https://wandb.ai/pilwookmoon/lstm_sweep_colab/runs/sqf2nvjh</a>"
            ]
          },
          "metadata": {}
        },
        {
          "output_type": "stream",
          "name": "stdout",
          "text": [
            "x shape :  (70080, 1, 25)\n",
            "y shape :  (70080, 25)\n"
          ]
        },
        {
          "output_type": "stream",
          "name": "stderr",
          "text": [
            "WARNING:tensorflow:Layer lstm will not use cuDNN kernels since it doesn't meet the criteria. It will use a generic GPU kernel as fallback when running on GPU.\n"
          ]
        },
        {
          "output_type": "stream",
          "name": "stdout",
          "text": [
            "x shape :  (17520, 1, 25)\n",
            "y shape :  (17520, 25)\n",
            "Epoch 1/1000\n"
          ]
        },
        {
          "output_type": "stream",
          "name": "stderr",
          "text": [
            "/usr/local/lib/python3.10/dist-packages/keras/optimizers/legacy/adam.py:117: UserWarning: The `lr` argument is deprecated, use `learning_rate` instead.\n",
            "  super().__init__(name, **kwargs)\n"
          ]
        },
        {
          "output_type": "stream",
          "name": "stdout",
          "text": [
            "2184/2190 [============================>.] - ETA: 0s - loss: 324.5241 - accuracy: 0.0660"
          ]
        },
        {
          "output_type": "stream",
          "name": "stderr",
          "text": [
            "\u001b[34m\u001b[1mwandb\u001b[0m: Adding directory to artifact (/content/wandb/run-20230503_071922-sqf2nvjh/files/model-best)... Done. 0.0s\n"
          ]
        },
        {
          "output_type": "stream",
          "name": "stdout",
          "text": [
            "\b\b\b\b\b\b\b\b\b\b\b\b\b\b\b\b\b\b\b\b\b\b\b\b\b\b\b\b\b\b\b\b\b\b\b\b\b\b\b\b\b\b\b\b\b\b\b\b\b\b\b\b\b\b\b\b\b\b\b\b\b\b\b\b\b\b\b\b\b\b\b\b\b\b\b\b\b\b\b\b\b\b\b\b\b\b\b\b\r2190/2190 [==============================] - 14s 6ms/step - loss: 324.5693 - accuracy: 0.0660 - val_loss: 1039.5481 - val_accuracy: 0.0314\n",
            "Epoch 2/1000\n",
            "2190/2190 [==============================] - 10s 4ms/step - loss: 319.9181 - accuracy: 0.0721 - val_loss: 1591.3363 - val_accuracy: 0.0155\n",
            "Epoch 3/1000\n",
            "2190/2190 [==============================] - 10s 4ms/step - loss: 359.5401 - accuracy: 0.0717 - val_loss: 1138.4913 - val_accuracy: 0.0158\n",
            "Epoch 4/1000\n",
            "2190/2190 [==============================] - 10s 5ms/step - loss: 377.7076 - accuracy: 0.0739 - val_loss: 1383.3501 - val_accuracy: 0.0437\n",
            "Epoch 5/1000\n",
            "2186/2190 [============================>.] - ETA: 0s - loss: 386.5892 - accuracy: 0.0726"
          ]
        },
        {
          "output_type": "stream",
          "name": "stderr",
          "text": [
            "\u001b[34m\u001b[1mwandb\u001b[0m: Adding directory to artifact (/content/wandb/run-20230503_071922-sqf2nvjh/files/model-best)... Done. 0.0s\n"
          ]
        },
        {
          "output_type": "stream",
          "name": "stdout",
          "text": [
            "\b\b\b\b\b\b\b\b\b\b\b\b\b\b\b\b\b\b\b\b\b\b\b\b\b\b\b\b\b\b\b\b\b\b\b\b\b\b\b\b\b\b\b\b\b\b\b\b\b\b\b\b\b\b\b\b\b\b\b\b\b\b\b\b\b\b\b\b\b\b\b\b\b\b\b\b\b\b\b\b\b\b\b\b\b\b\b\b\r2190/2190 [==============================] - 12s 5ms/step - loss: 386.6877 - accuracy: 0.0727 - val_loss: 988.8223 - val_accuracy: 0.0293\n",
            "Epoch 6/1000\n",
            "2190/2190 [==============================] - 10s 5ms/step - loss: 428.8169 - accuracy: 0.0725 - val_loss: 1513.5731 - val_accuracy: 0.0253\n",
            "Epoch 7/1000\n",
            "2190/2190 [==============================] - 9s 4ms/step - loss: 452.2260 - accuracy: 0.0732 - val_loss: 1393.9648 - val_accuracy: 0.0199\n",
            "Epoch 8/1000\n",
            "2183/2190 [============================>.] - ETA: 0s - loss: 1088.7952 - accuracy: 0.0691"
          ]
        },
        {
          "output_type": "stream",
          "name": "stderr",
          "text": [
            "\u001b[34m\u001b[1mwandb\u001b[0m: Adding directory to artifact (/content/wandb/run-20230503_071922-sqf2nvjh/files/model-best)... Done. 0.0s\n"
          ]
        },
        {
          "output_type": "stream",
          "name": "stdout",
          "text": [
            "\b\b\b\b\b\b\b\b\b\b\b\b\b\b\b\b\b\b\b\b\b\b\b\b\b\b\b\b\b\b\b\b\b\b\b\b\b\b\b\b\b\b\b\b\b\b\b\b\b\b\b\b\b\b\b\b\b\b\b\b\b\b\b\b\b\b\b\b\b\b\b\b\b\b\b\b\b\b\b\b\b\b\b\b\b\b\b\b\b\r2190/2190 [==============================] - 12s 5ms/step - loss: 1089.1971 - accuracy: 0.0690 - val_loss: 734.5787 - val_accuracy: 0.0031\n",
            "Epoch 9/1000\n",
            "2190/2190 [==============================] - 10s 5ms/step - loss: 1141.5154 - accuracy: 0.0633 - val_loss: 735.6677 - val_accuracy: 0.0392\n",
            "Epoch 10/1000\n",
            "2190/2190 [==============================] - 11s 5ms/step - loss: 1141.5203 - accuracy: 0.0721 - val_loss: 749.1444 - val_accuracy: 0.0392\n",
            "Epoch 11/1000\n",
            "2190/2190 [==============================] - 11s 5ms/step - loss: 1141.5433 - accuracy: 0.0624 - val_loss: 744.8120 - val_accuracy: 0.0392\n",
            "Epoch 12/1000\n",
            "2190/2190 [==============================] - 10s 4ms/step - loss: 1141.4843 - accuracy: 0.0726 - val_loss: 742.9445 - val_accuracy: 0.0031\n",
            "Epoch 13/1000\n",
            "2190/2190 [==============================] - 10s 5ms/step - loss: 1141.4423 - accuracy: 0.0667 - val_loss: 736.2841 - val_accuracy: 0.0392\n",
            "Epoch 14/1000\n",
            "2190/2190 [==============================] - 10s 5ms/step - loss: 1141.4192 - accuracy: 0.0742 - val_loss: 737.0163 - val_accuracy: 0.0392\n",
            "Epoch 15/1000\n",
            "2190/2190 [==============================] - 9s 4ms/step - loss: 1141.6672 - accuracy: 0.0704 - val_loss: 745.8804 - val_accuracy: 0.0031\n",
            "Epoch 16/1000\n",
            "2190/2190 [==============================] - 10s 4ms/step - loss: 1141.5126 - accuracy: 0.0683 - val_loss: 742.8513 - val_accuracy: 0.0392\n",
            "Epoch 17/1000\n",
            "2190/2190 [==============================] - 10s 5ms/step - loss: 1141.5801 - accuracy: 0.0647 - val_loss: 743.7231 - val_accuracy: 0.0031\n",
            "Epoch 18/1000\n",
            "2190/2190 [==============================] - 10s 5ms/step - loss: 1141.4506 - accuracy: 0.0641 - val_loss: 736.7435 - val_accuracy: 0.0392\n",
            "Epoch 19/1000\n",
            "2190/2190 [==============================] - 9s 4ms/step - loss: 1141.4180 - accuracy: 0.0671 - val_loss: 743.9343 - val_accuracy: 0.0392\n",
            "Epoch 20/1000\n",
            "2190/2190 [==============================] - 10s 5ms/step - loss: 1141.5663 - accuracy: 0.0641 - val_loss: 741.2258 - val_accuracy: 0.0392\n",
            "Epoch 21/1000\n",
            "2190/2190 [==============================] - 10s 5ms/step - loss: 1141.5638 - accuracy: 0.0660 - val_loss: 738.6246 - val_accuracy: 0.0031\n",
            "Epoch 22/1000\n",
            "2190/2190 [==============================] - 9s 4ms/step - loss: 1141.5933 - accuracy: 0.0610 - val_loss: 736.2486 - val_accuracy: 0.0392\n",
            "Epoch 23/1000\n",
            "2190/2190 [==============================] - 9s 4ms/step - loss: 1141.4933 - accuracy: 0.0696 - val_loss: 735.6151 - val_accuracy: 0.0392\n",
            "Epoch 24/1000\n",
            "2190/2190 [==============================] - 10s 5ms/step - loss: 1141.5350 - accuracy: 0.0675 - val_loss: 739.3636 - val_accuracy: 0.0392\n",
            "Epoch 25/1000\n",
            "2190/2190 [==============================] - 10s 5ms/step - loss: 1141.4716 - accuracy: 0.0686 - val_loss: 737.3873 - val_accuracy: 0.0392\n",
            "Epoch 26/1000\n",
            "2190/2190 [==============================] - 9s 4ms/step - loss: 1141.6558 - accuracy: 0.0710 - val_loss: 744.6521 - val_accuracy: 0.0392\n",
            "Epoch 27/1000\n",
            "2190/2190 [==============================] - 10s 5ms/step - loss: 1141.4780 - accuracy: 0.0671 - val_loss: 743.1610 - val_accuracy: 0.0031\n",
            "Epoch 28/1000\n",
            "2190/2190 [==============================] - 10s 5ms/step - loss: 1141.6260 - accuracy: 0.0629 - val_loss: 741.5181 - val_accuracy: 0.0392\n",
            "Epoch 29/1000\n",
            "2190/2190 [==============================] - 11s 5ms/step - loss: 1141.4917 - accuracy: 0.0661 - val_loss: 738.0452 - val_accuracy: 0.0031\n",
            "Epoch 30/1000\n",
            "2190/2190 [==============================] - 9s 4ms/step - loss: 1141.5961 - accuracy: 0.0616 - val_loss: 740.7486 - val_accuracy: 0.0392\n",
            "Epoch 31/1000\n",
            "2190/2190 [==============================] - 10s 5ms/step - loss: 1141.5726 - accuracy: 0.0736 - val_loss: 739.5499 - val_accuracy: 0.0031\n",
            "Epoch 32/1000\n",
            "2190/2190 [==============================] - 10s 5ms/step - loss: 1141.3656 - accuracy: 0.0673 - val_loss: 739.3605 - val_accuracy: 0.0392\n",
            "Epoch 33/1000\n",
            "2190/2190 [==============================] - 10s 4ms/step - loss: 1141.4921 - accuracy: 0.0640 - val_loss: 741.4913 - val_accuracy: 0.0392\n",
            "Epoch 34/1000\n",
            "2190/2190 [==============================] - 9s 4ms/step - loss: 1141.5090 - accuracy: 0.0689 - val_loss: 736.8903 - val_accuracy: 0.0392\n",
            "Epoch 35/1000\n",
            "2190/2190 [==============================] - 10s 5ms/step - loss: 1141.5765 - accuracy: 0.0793 - val_loss: 745.3895 - val_accuracy: 0.0031\n",
            "Epoch 36/1000\n",
            "2190/2190 [==============================] - 10s 5ms/step - loss: 1141.4552 - accuracy: 0.0644 - val_loss: 743.7575 - val_accuracy: 0.0392\n",
            "Epoch 37/1000\n",
            "2190/2190 [==============================] - 10s 5ms/step - loss: 1141.4689 - accuracy: 0.0698 - val_loss: 739.7006 - val_accuracy: 0.0031\n",
            "Epoch 38/1000\n",
            "2190/2190 [==============================] - 9s 4ms/step - loss: 1141.5029 - accuracy: 0.0617 - val_loss: 743.1687 - val_accuracy: 0.0031\n",
            "Epoch 39/1000\n",
            "2190/2190 [==============================] - 10s 5ms/step - loss: 1141.4976 - accuracy: 0.0677 - val_loss: 742.2474 - val_accuracy: 0.0392\n",
            "Epoch 40/1000\n",
            "2190/2190 [==============================] - 10s 5ms/step - loss: 1141.5670 - accuracy: 0.0642 - val_loss: 746.4295 - val_accuracy: 0.0031\n",
            "Epoch 41/1000\n",
            "2190/2190 [==============================] - 10s 5ms/step - loss: 1141.4833 - accuracy: 0.0659 - val_loss: 740.1874 - val_accuracy: 0.0392\n",
            "Epoch 42/1000\n",
            "2190/2190 [==============================] - 9s 4ms/step - loss: 1141.6473 - accuracy: 0.0641 - val_loss: 742.5347 - val_accuracy: 0.0031\n",
            "Epoch 43/1000\n",
            "2190/2190 [==============================] - 10s 5ms/step - loss: 1141.5227 - accuracy: 0.0669 - val_loss: 737.2915 - val_accuracy: 0.0031\n",
            "Epoch 44/1000\n",
            "2190/2190 [==============================] - 10s 5ms/step - loss: 1141.6113 - accuracy: 0.0630 - val_loss: 746.9421 - val_accuracy: 0.0031\n",
            "Epoch 45/1000\n",
            "2190/2190 [==============================] - 11s 5ms/step - loss: 1141.5199 - accuracy: 0.0701 - val_loss: 747.9570 - val_accuracy: 0.0392\n",
            "Epoch 46/1000\n",
            "2190/2190 [==============================] - 9s 4ms/step - loss: 1141.5077 - accuracy: 0.0720 - val_loss: 738.9676 - val_accuracy: 0.0392\n",
            "Epoch 47/1000\n",
            "2190/2190 [==============================] - 10s 5ms/step - loss: 1141.6099 - accuracy: 0.0739 - val_loss: 737.9364 - val_accuracy: 0.0392\n",
            "Epoch 48/1000\n",
            "2190/2190 [==============================] - 10s 5ms/step - loss: 1141.6106 - accuracy: 0.0689 - val_loss: 743.6894 - val_accuracy: 0.0031\n",
            "Epoch 49/1000\n",
            "2190/2190 [==============================] - 10s 5ms/step - loss: 1141.4622 - accuracy: 0.0666 - val_loss: 735.1570 - val_accuracy: 0.0031\n",
            "Epoch 50/1000\n",
            "2190/2190 [==============================] - 9s 4ms/step - loss: 1141.5238 - accuracy: 0.0657 - val_loss: 738.7942 - val_accuracy: 0.0031\n",
            "Epoch 51/1000\n",
            "2190/2190 [==============================] - 10s 5ms/step - loss: 1141.5801 - accuracy: 0.0722 - val_loss: 743.6531 - val_accuracy: 0.0031\n",
            "Epoch 52/1000\n",
            "2190/2190 [==============================] - 10s 5ms/step - loss: 1141.4751 - accuracy: 0.0679 - val_loss: 741.3830 - val_accuracy: 0.0031\n",
            "Epoch 53/1000\n",
            "2190/2190 [==============================] - 10s 5ms/step - loss: 1141.4135 - accuracy: 0.0668 - val_loss: 743.5885 - val_accuracy: 0.0031\n",
            "Epoch 54/1000\n",
            "2190/2190 [==============================] - 9s 4ms/step - loss: 1141.5067 - accuracy: 0.0666 - val_loss: 739.4484 - val_accuracy: 0.0392\n",
            "Epoch 55/1000\n",
            "2181/2190 [============================>.] - ETA: 0s - loss: 1142.5864 - accuracy: 0.0656"
          ]
        },
        {
          "output_type": "stream",
          "name": "stderr",
          "text": [
            "\u001b[34m\u001b[1mwandb\u001b[0m: Adding directory to artifact (/content/wandb/run-20230503_071922-sqf2nvjh/files/model-best)... Done. 0.0s\n"
          ]
        },
        {
          "output_type": "stream",
          "name": "stdout",
          "text": [
            "\b\b\b\b\b\b\b\b\b\b\b\b\b\b\b\b\b\b\b\b\b\b\b\b\b\b\b\b\b\b\b\b\b\b\b\b\b\b\b\b\b\b\b\b\b\b\b\b\b\b\b\b\b\b\b\b\b\b\b\b\b\b\b\b\b\b\b\b\b\b\b\b\b\b\b\b\b\b\b\b\b\b\b\b\b\b\b\b\b\r2190/2190 [==============================] - 12s 6ms/step - loss: 1141.4709 - accuracy: 0.0657 - val_loss: 734.3380 - val_accuracy: 0.0392\n",
            "Epoch 56/1000\n",
            "2190/2190 [==============================] - 10s 5ms/step - loss: 1141.5765 - accuracy: 0.0703 - val_loss: 742.0726 - val_accuracy: 0.0031\n",
            "Epoch 57/1000\n",
            "2190/2190 [==============================] - 10s 5ms/step - loss: 1141.5834 - accuracy: 0.0651 - val_loss: 739.9971 - val_accuracy: 0.0392\n",
            "Epoch 58/1000\n",
            "2190/2190 [==============================] - 9s 4ms/step - loss: 1141.5020 - accuracy: 0.0672 - val_loss: 740.0836 - val_accuracy: 0.0392\n",
            "Epoch 59/1000\n",
            "2190/2190 [==============================] - 10s 5ms/step - loss: 1141.5262 - accuracy: 0.0687 - val_loss: 739.7953 - val_accuracy: 0.0392\n",
            "Epoch 60/1000\n",
            "2190/2190 [==============================] - 10s 5ms/step - loss: 1141.3702 - accuracy: 0.0627 - val_loss: 737.5624 - val_accuracy: 0.0392\n",
            "Epoch 61/1000\n",
            "2190/2190 [==============================] - 10s 5ms/step - loss: 1141.3885 - accuracy: 0.0720 - val_loss: 742.5056 - val_accuracy: 0.0031\n",
            "Epoch 62/1000\n",
            "2190/2190 [==============================] - 9s 4ms/step - loss: 1141.3737 - accuracy: 0.0645 - val_loss: 742.2693 - val_accuracy: 0.0392\n",
            "Epoch 63/1000\n",
            "2190/2190 [==============================] - 10s 5ms/step - loss: 1141.4771 - accuracy: 0.0714 - val_loss: 737.8915 - val_accuracy: 0.0392\n",
            "Epoch 64/1000\n",
            "2190/2190 [==============================] - 10s 5ms/step - loss: 1141.4933 - accuracy: 0.0703 - val_loss: 741.9395 - val_accuracy: 0.0392\n",
            "Epoch 65/1000\n",
            "2190/2190 [==============================] - 10s 5ms/step - loss: 1141.5314 - accuracy: 0.0655 - val_loss: 742.4886 - val_accuracy: 0.0392\n"
          ]
        },
        {
          "output_type": "display_data",
          "data": {
            "text/plain": [
              "<IPython.core.display.HTML object>"
            ],
            "text/html": [
              "Waiting for W&B process to finish... <strong style=\"color:green\">(success).</strong>"
            ]
          },
          "metadata": {}
        },
        {
          "output_type": "display_data",
          "data": {
            "text/plain": [
              "VBox(children=(Label(value='1.916 MB of 1.916 MB uploaded (0.034 MB deduped)\\r'), FloatProgress(value=1.0, max…"
            ],
            "application/vnd.jupyter.widget-view+json": {
              "version_major": 2,
              "version_minor": 0,
              "model_id": "3e1ff2963f8e47389443ffac56542053"
            }
          },
          "metadata": {}
        },
        {
          "output_type": "display_data",
          "data": {
            "text/plain": [
              "<IPython.core.display.HTML object>"
            ],
            "text/html": [
              "<style>\n",
              "    table.wandb td:nth-child(1) { padding: 0 10px; text-align: left ; width: auto;} td:nth-child(2) {text-align: left ; width: 100%}\n",
              "    .wandb-row { display: flex; flex-direction: row; flex-wrap: wrap; justify-content: flex-start; width: 100% }\n",
              "    .wandb-col { display: flex; flex-direction: column; flex-basis: 100%; flex: 1; padding: 10px; }\n",
              "    </style>\n",
              "<div class=\"wandb-row\"><div class=\"wandb-col\"><h3>Run history:</h3><br/><table class=\"wandb\"><tr><td>accuracy</td><td>▃▅▆▅▆▂▅▅▆▅▂▃▂▁▄▄▃▂▁▃▂█▄▁▂▂▃▄▅▄▃▅▃▃▅▃▂▅▅▃</td></tr><tr><td>epoch</td><td>▁▁▁▁▂▂▂▂▂▃▃▃▃▃▃▄▄▄▄▄▅▅▅▅▅▅▆▆▆▆▆▆▇▇▇▇▇███</td></tr><tr><td>epoch/accuracy</td><td>▃▅▆▅▆▂▅▅▆▅▂▃▂▁▄▄▃▂▁▃▂█▄▁▂▂▃▄▅▄▃▅▃▃▅▃▂▅▅▃</td></tr><tr><td>epoch/epoch</td><td>▁▁▁▁▂▂▂▂▂▃▃▃▃▃▃▄▄▄▄▄▅▅▅▅▅▅▆▆▆▆▆▆▇▇▇▇▇███</td></tr><tr><td>epoch/learning_rate</td><td>▁▁▁▁▁▁▁▁▁▁▁▁▁▁▁▁▁▁▁▁▁▁▁▁▁▁▁▁▁▁▁▁▁▁▁▁▁▁▁▁</td></tr><tr><td>epoch/loss</td><td>▁▁▁▂▂███████████████████████████████████</td></tr><tr><td>epoch/val_accuracy</td><td>▆▃█▆▄▇▇▁▇▁▁▇▇▇▇▇▁▇▇▇▇▁▁▁▁▁▁▇▇▁▁▁▁▇▁▇▇▁▇▇</td></tr><tr><td>epoch/val_loss</td><td>▃█▆▃▆▁▁▁▁▁▁▁▁▁▁▁▁▁▁▁▁▁▁▁▁▁▁▁▁▁▁▁▁▁▁▁▁▁▁▁</td></tr><tr><td>loss</td><td>▁▁▁▂▂███████████████████████████████████</td></tr><tr><td>val_accuracy</td><td>▆▃█▆▄▇▇▁▇▁▁▇▇▇▇▇▁▇▇▇▇▁▁▁▁▁▁▇▇▁▁▁▁▇▁▇▇▁▇▇</td></tr><tr><td>val_loss</td><td>▃█▆▃▆▁▁▁▁▁▁▁▁▁▁▁▁▁▁▁▁▁▁▁▁▁▁▁▁▁▁▁▁▁▁▁▁▁▁▁</td></tr></table><br/></div><div class=\"wandb-col\"><h3>Run summary:</h3><br/><table class=\"wandb\"><tr><td>accuracy</td><td>0.06548</td></tr><tr><td>best_epoch</td><td>54</td></tr><tr><td>best_val_loss</td><td>734.33795</td></tr><tr><td>epoch</td><td>64</td></tr><tr><td>epoch/accuracy</td><td>0.06548</td></tr><tr><td>epoch/epoch</td><td>64</td></tr><tr><td>epoch/learning_rate</td><td>0.05</td></tr><tr><td>epoch/loss</td><td>1141.53137</td></tr><tr><td>epoch/val_accuracy</td><td>0.03921</td></tr><tr><td>epoch/val_loss</td><td>742.48859</td></tr><tr><td>loss</td><td>1141.53137</td></tr><tr><td>val_accuracy</td><td>0.03921</td></tr><tr><td>val_loss</td><td>742.48859</td></tr></table><br/></div></div>"
            ]
          },
          "metadata": {}
        },
        {
          "output_type": "display_data",
          "data": {
            "text/plain": [
              "<IPython.core.display.HTML object>"
            ],
            "text/html": [
              " View run <strong style=\"color:#cdcd00\">icy-sweep-4</strong> at: <a href='https://wandb.ai/pilwookmoon/lstm_sweep_colab/runs/sqf2nvjh' target=\"_blank\">https://wandb.ai/pilwookmoon/lstm_sweep_colab/runs/sqf2nvjh</a><br/>Synced 5 W&B file(s), 1 media file(s), 20 artifact file(s) and 1 other file(s)"
            ]
          },
          "metadata": {}
        },
        {
          "output_type": "display_data",
          "data": {
            "text/plain": [
              "<IPython.core.display.HTML object>"
            ],
            "text/html": [
              "Find logs at: <code>./wandb/run-20230503_071922-sqf2nvjh/logs</code>"
            ]
          },
          "metadata": {}
        },
        {
          "output_type": "stream",
          "name": "stderr",
          "text": [
            "\u001b[34m\u001b[1mwandb\u001b[0m: Sweep Agent: Waiting for job.\n",
            "\u001b[34m\u001b[1mwandb\u001b[0m: Job received.\n",
            "\u001b[34m\u001b[1mwandb\u001b[0m: Agent Starting Run: ox6jw3pl with config:\n",
            "\u001b[34m\u001b[1mwandb\u001b[0m: \tactivation: relu\n",
            "\u001b[34m\u001b[1mwandb\u001b[0m: \tbatch_size: 32\n",
            "\u001b[34m\u001b[1mwandb\u001b[0m: \tdropout: 0.1\n",
            "\u001b[34m\u001b[1mwandb\u001b[0m: \tepochs: 1000\n",
            "\u001b[34m\u001b[1mwandb\u001b[0m: \thidden_layer_size: 16\n",
            "\u001b[34m\u001b[1mwandb\u001b[0m: \tlearning_rate: 0.05\n",
            "\u001b[34m\u001b[1mwandb\u001b[0m: \tlstm_layer_size: 32\n",
            "\u001b[34m\u001b[1mwandb\u001b[0m: \toptimizer: adam\n",
            "\u001b[34m\u001b[1mwandb\u001b[0m: \ttime_step: 3\n"
          ]
        },
        {
          "output_type": "display_data",
          "data": {
            "text/plain": [
              "<IPython.core.display.HTML object>"
            ],
            "text/html": [
              "Tracking run with wandb version 0.15.1"
            ]
          },
          "metadata": {}
        },
        {
          "output_type": "display_data",
          "data": {
            "text/plain": [
              "<IPython.core.display.HTML object>"
            ],
            "text/html": [
              "Run data is saved locally in <code>/content/wandb/run-20230503_073039-ox6jw3pl</code>"
            ]
          },
          "metadata": {}
        },
        {
          "output_type": "display_data",
          "data": {
            "text/plain": [
              "<IPython.core.display.HTML object>"
            ],
            "text/html": [
              "Syncing run <strong><a href='https://wandb.ai/pilwookmoon/lstm_sweep_colab/runs/ox6jw3pl' target=\"_blank\">astral-sweep-5</a></strong> to <a href='https://wandb.ai/pilwookmoon/lstm_sweep_colab' target=\"_blank\">Weights & Biases</a> (<a href='https://wandb.me/run' target=\"_blank\">docs</a>)<br/>Sweep page: <a href='https://wandb.ai/pilwookmoon/lstm_sweep_colab/sweeps/9v59afe8' target=\"_blank\">https://wandb.ai/pilwookmoon/lstm_sweep_colab/sweeps/9v59afe8</a>"
            ]
          },
          "metadata": {}
        },
        {
          "output_type": "display_data",
          "data": {
            "text/plain": [
              "<IPython.core.display.HTML object>"
            ],
            "text/html": [
              " View project at <a href='https://wandb.ai/pilwookmoon/lstm_sweep_colab' target=\"_blank\">https://wandb.ai/pilwookmoon/lstm_sweep_colab</a>"
            ]
          },
          "metadata": {}
        },
        {
          "output_type": "display_data",
          "data": {
            "text/plain": [
              "<IPython.core.display.HTML object>"
            ],
            "text/html": [
              " View sweep at <a href='https://wandb.ai/pilwookmoon/lstm_sweep_colab/sweeps/9v59afe8' target=\"_blank\">https://wandb.ai/pilwookmoon/lstm_sweep_colab/sweeps/9v59afe8</a>"
            ]
          },
          "metadata": {}
        },
        {
          "output_type": "display_data",
          "data": {
            "text/plain": [
              "<IPython.core.display.HTML object>"
            ],
            "text/html": [
              " View run at <a href='https://wandb.ai/pilwookmoon/lstm_sweep_colab/runs/ox6jw3pl' target=\"_blank\">https://wandb.ai/pilwookmoon/lstm_sweep_colab/runs/ox6jw3pl</a>"
            ]
          },
          "metadata": {}
        },
        {
          "output_type": "stream",
          "name": "stdout",
          "text": [
            "x shape :  (70080, 3, 25)\n",
            "y shape :  (70080, 25)\n"
          ]
        },
        {
          "output_type": "stream",
          "name": "stderr",
          "text": [
            "WARNING:tensorflow:Layer lstm will not use cuDNN kernels since it doesn't meet the criteria. It will use a generic GPU kernel as fallback when running on GPU.\n"
          ]
        },
        {
          "output_type": "stream",
          "name": "stdout",
          "text": [
            "x shape :  (17520, 3, 25)\n",
            "y shape :  (17520, 25)\n"
          ]
        },
        {
          "output_type": "stream",
          "name": "stderr",
          "text": [
            "/usr/local/lib/python3.10/dist-packages/keras/optimizers/legacy/adam.py:117: UserWarning: The `lr` argument is deprecated, use `learning_rate` instead.\n",
            "  super().__init__(name, **kwargs)\n"
          ]
        },
        {
          "output_type": "stream",
          "name": "stdout",
          "text": [
            "Epoch 1/1000\n",
            "2179/2190 [============================>.] - ETA: 0s - loss: 444.4588 - accuracy: 0.0648"
          ]
        },
        {
          "output_type": "stream",
          "name": "stderr",
          "text": [
            "\u001b[34m\u001b[1mwandb\u001b[0m: Adding directory to artifact (/content/wandb/run-20230503_073039-ox6jw3pl/files/model-best)... Done. 0.0s\n"
          ]
        },
        {
          "output_type": "stream",
          "name": "stdout",
          "text": [
            "\b\b\b\b\b\b\b\b\b\b\b\b\b\b\b\b\b\b\b\b\b\b\b\b\b\b\b\b\b\b\b\b\b\b\b\b\b\b\b\b\b\b\b\b\b\b\b\b\b\b\b\b\b\b\b\b\b\b\b\b\b\b\b\b\b\b\b\b\b\b\b\b\b\b\b\b\b\b\b\b\b\b\b\b\b\b\b\b\r2190/2190 [==============================] - 16s 6ms/step - loss: 444.6713 - accuracy: 0.0648 - val_loss: 1482.1581 - val_accuracy: 0.0696\n",
            "Epoch 2/1000\n",
            "2184/2190 [============================>.] - ETA: 0s - loss: 440.9796 - accuracy: 0.0725"
          ]
        },
        {
          "output_type": "stream",
          "name": "stderr",
          "text": [
            "\u001b[34m\u001b[1mwandb\u001b[0m: Adding directory to artifact (/content/wandb/run-20230503_073039-ox6jw3pl/files/model-best)... Done. 0.0s\n"
          ]
        },
        {
          "output_type": "stream",
          "name": "stdout",
          "text": [
            "\b\b\b\b\b\b\b\b\b\b\b\b\b\b\b\b\b\b\b\b\b\b\b\b\b\b\b\b\b\b\b\b\b\b\b\b\b\b\b\b\b\b\b\b\b\b\b\b\b\b\b\b\b\b\b\b\b\b\b\b\b\b\b\b\b\b\b\b\b\b\b\b\b\b\b\b\b\b\b\b\b\b\b\b\b\b\b\b\r2190/2190 [==============================] - 14s 6ms/step - loss: 443.2351 - accuracy: 0.0725 - val_loss: 1311.2747 - val_accuracy: 0.0202\n",
            "Epoch 3/1000\n",
            "2183/2190 [============================>.] - ETA: 0s - loss: 440.0484 - accuracy: 0.0729"
          ]
        },
        {
          "output_type": "stream",
          "name": "stderr",
          "text": [
            "\u001b[34m\u001b[1mwandb\u001b[0m: Adding directory to artifact (/content/wandb/run-20230503_073039-ox6jw3pl/files/model-best)... Done. 0.0s\n"
          ]
        },
        {
          "output_type": "stream",
          "name": "stdout",
          "text": [
            "\b\b\b\b\b\b\b\b\b\b\b\b\b\b\b\b\b\b\b\b\b\b\b\b\b\b\b\b\b\b\b\b\b\b\b\b\b\b\b\b\b\b\b\b\b\b\b\b\b\b\b\b\b\b\b\b\b\b\b\b\b\b\b\b\b\b\b\b\b\b\b\b\b\b\b\b\b\b\b\b\b\b\b\b\b\b\b\b\r2190/2190 [==============================] - 14s 7ms/step - loss: 439.7585 - accuracy: 0.0729 - val_loss: 1096.8057 - val_accuracy: 0.0230\n",
            "Epoch 4/1000\n",
            "2183/2190 [============================>.] - ETA: 0s - loss: 498.0298 - accuracy: 0.0730"
          ]
        },
        {
          "output_type": "stream",
          "name": "stderr",
          "text": [
            "\u001b[34m\u001b[1mwandb\u001b[0m: Adding directory to artifact (/content/wandb/run-20230503_073039-ox6jw3pl/files/model-best)... Done. 0.0s\n"
          ]
        },
        {
          "output_type": "stream",
          "name": "stdout",
          "text": [
            "\b\b\b\b\b\b\b\b\b\b\b\b\b\b\b\b\b\b\b\b\b\b\b\b\b\b\b\b\b\b\b\b\b\b\b\b\b\b\b\b\b\b\b\b\b\b\b\b\b\b\b\b\b\b\b\b\b\b\b\b\b\b\b\b\b\b\b\b\b\b\b\b\b\b\b\b\b\b\b\b\b\b\b\b\b\b\b\b\r2190/2190 [==============================] - 15s 7ms/step - loss: 497.6296 - accuracy: 0.0730 - val_loss: 1044.1305 - val_accuracy: 0.0342\n",
            "Epoch 5/1000\n",
            "2190/2190 [==============================] - 12s 5ms/step - loss: 528.3358 - accuracy: 0.0732 - val_loss: 1500.0737 - val_accuracy: 0.0181\n",
            "Epoch 6/1000\n",
            "2190/2190 [==============================] - 12s 5ms/step - loss: 473.3430 - accuracy: 0.0727 - val_loss: 1069.4877 - val_accuracy: 0.0189\n",
            "Epoch 7/1000\n",
            "2190/2190 [==============================] - 12s 6ms/step - loss: 420.8576 - accuracy: 0.0732 - val_loss: 1445.0203 - val_accuracy: 0.0195\n",
            "Epoch 8/1000\n",
            "2190/2190 [==============================] - 11s 5ms/step - loss: 481.7515 - accuracy: 0.0738 - val_loss: 1373.5189 - val_accuracy: 0.0188\n",
            "Epoch 9/1000\n",
            "2188/2190 [============================>.] - ETA: 0s - loss: 1029.9362 - accuracy: 0.0708"
          ]
        },
        {
          "output_type": "stream",
          "name": "stderr",
          "text": [
            "\u001b[34m\u001b[1mwandb\u001b[0m: Adding directory to artifact (/content/wandb/run-20230503_073039-ox6jw3pl/files/model-best)... Done. 0.0s\n"
          ]
        },
        {
          "output_type": "stream",
          "name": "stdout",
          "text": [
            "\b\b\b\b\b\b\b\b\b\b\b\b\b\b\b\b\b\b\b\b\b\b\b\b\b\b\b\b\b\b\b\b\b\b\b\b\b\b\b\b\b\b\b\b\b\b\b\b\b\b\b\b\b\b\b\b\b\b\b\b\b\b\b\b\b\b\b\b\b\b\b\b\b\b\b\b\b\b\b\b\b\b\b\b\b\b\b\b\b\r2190/2190 [==============================] - 16s 7ms/step - loss: 1029.6016 - accuracy: 0.0708 - val_loss: 745.9963 - val_accuracy: 0.0031\n",
            "Epoch 10/1000\n",
            "2179/2190 [============================>.] - ETA: 0s - loss: 1141.7999 - accuracy: 0.0604"
          ]
        },
        {
          "output_type": "stream",
          "name": "stderr",
          "text": [
            "\u001b[34m\u001b[1mwandb\u001b[0m: Adding directory to artifact (/content/wandb/run-20230503_073039-ox6jw3pl/files/model-best)... Done. 0.0s\n"
          ]
        },
        {
          "output_type": "stream",
          "name": "stdout",
          "text": [
            "\b\b\b\b\b\b\b\b\b\b\b\b\b\b\b\b\b\b\b\b\b\b\b\b\b\b\b\b\b\b\b\b\b\b\b\b\b\b\b\b\b\b\b\b\b\b\b\b\b\b\b\b\b\b\b\b\b\b\b\b\b\b\b\b\b\b\b\b\b\b\b\b\b\b\b\b\b\b\b\b\b\b\b\b\b\b\b\b\b\r2190/2190 [==============================] - 15s 7ms/step - loss: 1141.4534 - accuracy: 0.0604 - val_loss: 744.0018 - val_accuracy: 0.0392\n",
            "Epoch 11/1000\n",
            "2183/2190 [============================>.] - ETA: 0s - loss: 1142.6191 - accuracy: 0.0742"
          ]
        },
        {
          "output_type": "stream",
          "name": "stderr",
          "text": [
            "\u001b[34m\u001b[1mwandb\u001b[0m: Adding directory to artifact (/content/wandb/run-20230503_073039-ox6jw3pl/files/model-best)... Done. 0.0s\n"
          ]
        },
        {
          "output_type": "stream",
          "name": "stdout",
          "text": [
            "\b\b\b\b\b\b\b\b\b\b\b\b\b\b\b\b\b\b\b\b\b\b\b\b\b\b\b\b\b\b\b\b\b\b\b\b\b\b\b\b\b\b\b\b\b\b\b\b\b\b\b\b\b\b\b\b\b\b\b\b\b\b\b\b\b\b\b\b\b\b\b\b\b\b\b\b\b\b\b\b\b\b\b\b\b\b\b\b\b\r2190/2190 [==============================] - 14s 6ms/step - loss: 1141.6582 - accuracy: 0.0743 - val_loss: 741.1832 - val_accuracy: 0.0392\n",
            "Epoch 12/1000\n",
            "2190/2190 [==============================] - 13s 6ms/step - loss: 1141.5891 - accuracy: 0.0627 - val_loss: 742.1940 - val_accuracy: 0.0392\n",
            "Epoch 13/1000\n",
            "2184/2190 [============================>.] - ETA: 0s - loss: 1141.7930 - accuracy: 0.0617"
          ]
        },
        {
          "output_type": "stream",
          "name": "stderr",
          "text": [
            "\u001b[34m\u001b[1mwandb\u001b[0m: Adding directory to artifact (/content/wandb/run-20230503_073039-ox6jw3pl/files/model-best)... Done. 0.0s\n"
          ]
        },
        {
          "output_type": "stream",
          "name": "stdout",
          "text": [
            "\b\b\b\b\b\b\b\b\b\b\b\b\b\b\b\b\b\b\b\b\b\b\b\b\b\b\b\b\b\b\b\b\b\b\b\b\b\b\b\b\b\b\b\b\b\b\b\b\b\b\b\b\b\b\b\b\b\b\b\b\b\b\b\b\b\b\b\b\b\b\b\b\b\b\b\b\b\b\b\b\b\b\b\b\b\b\b\b\b\r2190/2190 [==============================] - 15s 7ms/step - loss: 1141.4076 - accuracy: 0.0618 - val_loss: 740.1633 - val_accuracy: 0.0392\n",
            "Epoch 14/1000\n",
            "2190/2190 [==============================] - 12s 5ms/step - loss: 1141.6593 - accuracy: 0.0699 - val_loss: 746.4592 - val_accuracy: 0.0031\n",
            "Epoch 15/1000\n",
            "2190/2190 [==============================] - 12s 6ms/step - loss: 1141.5504 - accuracy: 0.0685 - val_loss: 742.1268 - val_accuracy: 0.0392\n",
            "Epoch 16/1000\n",
            "2190/2190 [==============================] - 12s 6ms/step - loss: 1141.4872 - accuracy: 0.0721 - val_loss: 741.6646 - val_accuracy: 0.0392\n",
            "Epoch 17/1000\n",
            "2179/2190 [============================>.] - ETA: 0s - loss: 1137.3361 - accuracy: 0.0656"
          ]
        },
        {
          "output_type": "stream",
          "name": "stderr",
          "text": [
            "\u001b[34m\u001b[1mwandb\u001b[0m: Adding directory to artifact (/content/wandb/run-20230503_073039-ox6jw3pl/files/model-best)... Done. 0.0s\n"
          ]
        },
        {
          "output_type": "stream",
          "name": "stdout",
          "text": [
            "\b\b\b\b\b\b\b\b\b\b\b\b\b\b\b\b\b\b\b\b\b\b\b\b\b\b\b\b\b\b\b\b\b\b\b\b\b\b\b\b\b\b\b\b\b\b\b\b\b\b\b\b\b\b\b\b\b\b\b\b\b\b\b\b\b\b\b\b\b\b\b\b\b\b\b\b\b\b\b\b\b\b\b\b\b\b\b\b\b\r2190/2190 [==============================] - 14s 6ms/step - loss: 1141.5754 - accuracy: 0.0658 - val_loss: 737.5005 - val_accuracy: 0.0392\n",
            "Epoch 18/1000\n",
            "2190/2190 [==============================] - 12s 5ms/step - loss: 1141.6807 - accuracy: 0.0673 - val_loss: 745.2579 - val_accuracy: 0.0392\n",
            "Epoch 19/1000\n",
            "2190/2190 [==============================] - 13s 6ms/step - loss: 1141.5219 - accuracy: 0.0721 - val_loss: 744.0001 - val_accuracy: 0.0392\n",
            "Epoch 20/1000\n",
            "2190/2190 [==============================] - 12s 5ms/step - loss: 1141.3660 - accuracy: 0.0664 - val_loss: 740.3719 - val_accuracy: 0.0031\n",
            "Epoch 21/1000\n",
            "2190/2190 [==============================] - 13s 6ms/step - loss: 1141.7056 - accuracy: 0.0605 - val_loss: 740.7238 - val_accuracy: 0.0392\n",
            "Epoch 22/1000\n",
            "2190/2190 [==============================] - 13s 6ms/step - loss: 1141.4740 - accuracy: 0.0728 - val_loss: 745.9130 - val_accuracy: 0.0392\n",
            "Epoch 23/1000\n",
            "2190/2190 [==============================] - 12s 5ms/step - loss: 1141.5760 - accuracy: 0.0753 - val_loss: 739.2908 - val_accuracy: 0.0392\n",
            "Epoch 24/1000\n",
            "2190/2190 [==============================] - 12s 5ms/step - loss: 1141.5441 - accuracy: 0.0670 - val_loss: 741.9808 - val_accuracy: 0.0392\n",
            "Epoch 25/1000\n",
            "2190/2190 [==============================] - 12s 5ms/step - loss: 1141.5326 - accuracy: 0.0676 - val_loss: 749.0372 - val_accuracy: 0.0031\n",
            "Epoch 26/1000\n",
            "2190/2190 [==============================] - 12s 5ms/step - loss: 1141.6088 - accuracy: 0.0621 - val_loss: 744.4926 - val_accuracy: 0.0392\n",
            "Epoch 27/1000\n",
            "2190/2190 [==============================] - 12s 5ms/step - loss: 1141.4930 - accuracy: 0.0680 - val_loss: 745.8787 - val_accuracy: 0.0392\n",
            "Epoch 28/1000\n",
            "2190/2190 [==============================] - 12s 6ms/step - loss: 1141.4374 - accuracy: 0.0637 - val_loss: 737.9993 - val_accuracy: 0.0392\n",
            "Epoch 29/1000\n",
            "2190/2190 [==============================] - 11s 5ms/step - loss: 1141.5586 - accuracy: 0.0723 - val_loss: 740.0136 - val_accuracy: 0.0392\n",
            "Epoch 30/1000\n",
            "2190/2190 [==============================] - 13s 6ms/step - loss: 1141.5308 - accuracy: 0.0707 - val_loss: 739.7199 - val_accuracy: 0.0392\n",
            "Epoch 31/1000\n",
            "2190/2190 [==============================] - 12s 5ms/step - loss: 1141.5167 - accuracy: 0.0659 - val_loss: 747.3514 - val_accuracy: 0.0392\n",
            "Epoch 32/1000\n",
            "2190/2190 [==============================] - 12s 5ms/step - loss: 1141.5522 - accuracy: 0.0655 - val_loss: 737.9288 - val_accuracy: 0.0031\n",
            "Epoch 33/1000\n",
            "2180/2190 [============================>.] - ETA: 0s - loss: 1141.9506 - accuracy: 0.0665"
          ]
        },
        {
          "output_type": "stream",
          "name": "stderr",
          "text": [
            "\u001b[34m\u001b[1mwandb\u001b[0m: Adding directory to artifact (/content/wandb/run-20230503_073039-ox6jw3pl/files/model-best)... Done. 0.0s\n"
          ]
        },
        {
          "output_type": "stream",
          "name": "stdout",
          "text": [
            "\b\b\b\b\b\b\b\b\b\b\b\b\b\b\b\b\b\b\b\b\b\b\b\b\b\b\b\b\b\b\b\b\b\b\b\b\b\b\b\b\b\b\b\b\b\b\b\b\b\b\b\b\b\b\b\b\b\b\b\b\b\b\b\b\b\b\b\b\b\b\b\b\b\b\b\b\b\b\b\b\b\b\b\b\b\b\b\b\b\r2190/2190 [==============================] - 14s 6ms/step - loss: 1141.5044 - accuracy: 0.0665 - val_loss: 735.7414 - val_accuracy: 0.0392\n",
            "Epoch 34/1000\n",
            "2190/2190 [==============================] - 12s 5ms/step - loss: 1141.6544 - accuracy: 0.0688 - val_loss: 741.2187 - val_accuracy: 0.0031\n",
            "Epoch 35/1000\n",
            "2190/2190 [==============================] - 12s 5ms/step - loss: 1141.5352 - accuracy: 0.0648 - val_loss: 746.9584 - val_accuracy: 0.0392\n",
            "Epoch 36/1000\n",
            "2190/2190 [==============================] - 13s 6ms/step - loss: 1141.6494 - accuracy: 0.0680 - val_loss: 744.0312 - val_accuracy: 0.0392\n",
            "Epoch 37/1000\n",
            "2190/2190 [==============================] - 12s 5ms/step - loss: 1141.6139 - accuracy: 0.0655 - val_loss: 738.0942 - val_accuracy: 0.0031\n",
            "Epoch 38/1000\n",
            "2190/2190 [==============================] - 11s 5ms/step - loss: 1141.5037 - accuracy: 0.0673 - val_loss: 740.9152 - val_accuracy: 0.0031\n",
            "Epoch 39/1000\n",
            "2190/2190 [==============================] - 12s 6ms/step - loss: 1141.6044 - accuracy: 0.0731 - val_loss: 738.5128 - val_accuracy: 0.0392\n",
            "Epoch 40/1000\n",
            "2190/2190 [==============================] - 13s 6ms/step - loss: 1141.6733 - accuracy: 0.0669 - val_loss: 744.9504 - val_accuracy: 0.0392\n",
            "Epoch 41/1000\n",
            "2190/2190 [==============================] - 13s 6ms/step - loss: 1141.4272 - accuracy: 0.0676 - val_loss: 738.1895 - val_accuracy: 0.0392\n",
            "Epoch 42/1000\n",
            "2190/2190 [==============================] - 13s 6ms/step - loss: 1141.4939 - accuracy: 0.0756 - val_loss: 740.9538 - val_accuracy: 0.0392\n",
            "Epoch 43/1000\n",
            "2190/2190 [==============================] - 13s 6ms/step - loss: 1141.5300 - accuracy: 0.0648 - val_loss: 748.4246 - val_accuracy: 0.0031\n",
            "Epoch 44/1000\n",
            "2190/2190 [==============================] - 12s 5ms/step - loss: 1141.5449 - accuracy: 0.0674 - val_loss: 746.9187 - val_accuracy: 0.0392\n",
            "Epoch 45/1000\n",
            "2190/2190 [==============================] - 12s 5ms/step - loss: 1141.5383 - accuracy: 0.0700 - val_loss: 738.5329 - val_accuracy: 0.0031\n",
            "Epoch 46/1000\n",
            "2190/2190 [==============================] - 12s 5ms/step - loss: 1141.5845 - accuracy: 0.0676 - val_loss: 739.7712 - val_accuracy: 0.0031\n",
            "Epoch 47/1000\n",
            "2190/2190 [==============================] - 12s 5ms/step - loss: 1141.6146 - accuracy: 0.0685 - val_loss: 739.7320 - val_accuracy: 0.0031\n",
            "Epoch 48/1000\n",
            "2190/2190 [==============================] - 12s 6ms/step - loss: 1141.5426 - accuracy: 0.0666 - val_loss: 742.4155 - val_accuracy: 0.0392\n",
            "Epoch 49/1000\n",
            "2190/2190 [==============================] - 12s 5ms/step - loss: 1141.5647 - accuracy: 0.0732 - val_loss: 742.6696 - val_accuracy: 0.0031\n",
            "Epoch 50/1000\n",
            "2190/2190 [==============================] - 11s 5ms/step - loss: 1141.4316 - accuracy: 0.0671 - val_loss: 739.5955 - val_accuracy: 0.0392\n",
            "Epoch 51/1000\n",
            "2190/2190 [==============================] - 13s 6ms/step - loss: 1141.5942 - accuracy: 0.0694 - val_loss: 745.3848 - val_accuracy: 0.0392\n",
            "Epoch 52/1000\n",
            "2190/2190 [==============================] - 12s 5ms/step - loss: 1141.4988 - accuracy: 0.0709 - val_loss: 747.3991 - val_accuracy: 0.0392\n",
            "Epoch 53/1000\n",
            "2190/2190 [==============================] - 13s 6ms/step - loss: 1141.4165 - accuracy: 0.0676 - val_loss: 741.7947 - val_accuracy: 0.0031\n",
            "Epoch 54/1000\n",
            "2190/2190 [==============================] - 12s 5ms/step - loss: 1141.5682 - accuracy: 0.0692 - val_loss: 744.8717 - val_accuracy: 0.0392\n",
            "Epoch 55/1000\n",
            "2190/2190 [==============================] - 13s 6ms/step - loss: 1141.6320 - accuracy: 0.0617 - val_loss: 745.3864 - val_accuracy: 0.0392\n",
            "Epoch 56/1000\n",
            "2190/2190 [==============================] - 12s 5ms/step - loss: 1141.4631 - accuracy: 0.0682 - val_loss: 740.9384 - val_accuracy: 0.0392\n",
            "Epoch 57/1000\n",
            "2190/2190 [==============================] - 12s 5ms/step - loss: 1141.5507 - accuracy: 0.0732 - val_loss: 741.0616 - val_accuracy: 0.0031\n",
            "Epoch 58/1000\n",
            "2190/2190 [==============================] - 13s 6ms/step - loss: 1141.5493 - accuracy: 0.0696 - val_loss: 739.2585 - val_accuracy: 0.0031\n",
            "Epoch 59/1000\n",
            "2190/2190 [==============================] - 13s 6ms/step - loss: 1141.4749 - accuracy: 0.0643 - val_loss: 746.6994 - val_accuracy: 0.0392\n",
            "Epoch 60/1000\n",
            "2190/2190 [==============================] - 13s 6ms/step - loss: 1141.6235 - accuracy: 0.0645 - val_loss: 739.9752 - val_accuracy: 0.0392\n",
            "Epoch 61/1000\n",
            "2190/2190 [==============================] - 12s 6ms/step - loss: 1141.6504 - accuracy: 0.0682 - val_loss: 739.3088 - val_accuracy: 0.0392\n",
            "Epoch 62/1000\n",
            "2190/2190 [==============================] - 12s 6ms/step - loss: 1141.5940 - accuracy: 0.0722 - val_loss: 736.2691 - val_accuracy: 0.0031\n",
            "Epoch 63/1000\n",
            "2190/2190 [==============================] - 12s 6ms/step - loss: 1141.5713 - accuracy: 0.0680 - val_loss: 742.2791 - val_accuracy: 0.0392\n",
            "Epoch 64/1000\n",
            "2190/2190 [==============================] - 11s 5ms/step - loss: 1141.6770 - accuracy: 0.0684 - val_loss: 736.5129 - val_accuracy: 0.0392\n",
            "Epoch 65/1000\n",
            "2190/2190 [==============================] - 12s 5ms/step - loss: 1141.4736 - accuracy: 0.0639 - val_loss: 741.7766 - val_accuracy: 0.0392\n",
            "Epoch 66/1000\n",
            "2190/2190 [==============================] - 12s 5ms/step - loss: 1141.5468 - accuracy: 0.0759 - val_loss: 742.9951 - val_accuracy: 0.0392\n",
            "Epoch 67/1000\n",
            "2190/2190 [==============================] - 12s 5ms/step - loss: 1141.5895 - accuracy: 0.0750 - val_loss: 739.8405 - val_accuracy: 0.0392\n",
            "Epoch 68/1000\n",
            "2190/2190 [==============================] - 13s 6ms/step - loss: 1141.4729 - accuracy: 0.0723 - val_loss: 742.3945 - val_accuracy: 0.0392\n",
            "Epoch 69/1000\n",
            "2190/2190 [==============================] - 13s 6ms/step - loss: 1141.4614 - accuracy: 0.0675 - val_loss: 743.4390 - val_accuracy: 0.0031\n",
            "Epoch 70/1000\n",
            "2190/2190 [==============================] - 12s 5ms/step - loss: 1141.4143 - accuracy: 0.0589 - val_loss: 746.3054 - val_accuracy: 0.0392\n",
            "Epoch 71/1000\n",
            "2190/2190 [==============================] - 13s 6ms/step - loss: 1141.5020 - accuracy: 0.0772 - val_loss: 737.0923 - val_accuracy: 0.0392\n",
            "Epoch 72/1000\n",
            "2190/2190 [==============================] - 13s 6ms/step - loss: 1141.4785 - accuracy: 0.0697 - val_loss: 742.8277 - val_accuracy: 0.0392\n",
            "Epoch 73/1000\n",
            "2190/2190 [==============================] - 12s 5ms/step - loss: 1141.6110 - accuracy: 0.0648 - val_loss: 747.4604 - val_accuracy: 0.0392\n",
            "Epoch 74/1000\n",
            "2190/2190 [==============================] - 12s 6ms/step - loss: 1141.5963 - accuracy: 0.0707 - val_loss: 736.8368 - val_accuracy: 0.0392\n",
            "Epoch 75/1000\n",
            "2190/2190 [==============================] - 11s 5ms/step - loss: 1141.5287 - accuracy: 0.0753 - val_loss: 747.7877 - val_accuracy: 0.0392\n",
            "Epoch 76/1000\n",
            "2190/2190 [==============================] - 13s 6ms/step - loss: 1141.4980 - accuracy: 0.0708 - val_loss: 744.3109 - val_accuracy: 0.0392\n",
            "Epoch 77/1000\n",
            "2190/2190 [==============================] - 13s 6ms/step - loss: 1141.5731 - accuracy: 0.0712 - val_loss: 738.2153 - val_accuracy: 0.0392\n",
            "Epoch 78/1000\n",
            "2190/2190 [==============================] - 13s 6ms/step - loss: 1141.4961 - accuracy: 0.0658 - val_loss: 739.8550 - val_accuracy: 0.0392\n",
            "Epoch 79/1000\n",
            "2190/2190 [==============================] - 12s 5ms/step - loss: 1141.5061 - accuracy: 0.0622 - val_loss: 741.3834 - val_accuracy: 0.0392\n",
            "Epoch 80/1000\n",
            "2190/2190 [==============================] - 12s 5ms/step - loss: 1141.4534 - accuracy: 0.0672 - val_loss: 740.7487 - val_accuracy: 0.0392\n",
            "Epoch 81/1000\n",
            "2190/2190 [==============================] - 12s 5ms/step - loss: 1141.4675 - accuracy: 0.0669 - val_loss: 740.4993 - val_accuracy: 0.0031\n",
            "Epoch 82/1000\n",
            "2190/2190 [==============================] - 13s 6ms/step - loss: 1141.6127 - accuracy: 0.0670 - val_loss: 753.8126 - val_accuracy: 0.0392\n",
            "Epoch 83/1000\n",
            "2190/2190 [==============================] - 13s 6ms/step - loss: 1141.5065 - accuracy: 0.0699 - val_loss: 738.3941 - val_accuracy: 0.0392\n",
            "Epoch 84/1000\n",
            "2190/2190 [==============================] - 13s 6ms/step - loss: 1141.4852 - accuracy: 0.0757 - val_loss: 738.6369 - val_accuracy: 0.0031\n",
            "Epoch 85/1000\n",
            "2190/2190 [==============================] - 13s 6ms/step - loss: 1141.4086 - accuracy: 0.0693 - val_loss: 741.6928 - val_accuracy: 0.0392\n",
            "Epoch 86/1000\n",
            "2183/2190 [============================>.] - ETA: 0s - loss: 1140.2987 - accuracy: 0.0673"
          ]
        },
        {
          "output_type": "stream",
          "name": "stderr",
          "text": [
            "\u001b[34m\u001b[1mwandb\u001b[0m: Adding directory to artifact (/content/wandb/run-20230503_073039-ox6jw3pl/files/model-best)... Done. 0.0s\n"
          ]
        },
        {
          "output_type": "stream",
          "name": "stdout",
          "text": [
            "\b\b\b\b\b\b\b\b\b\b\b\b\b\b\b\b\b\b\b\b\b\b\b\b\b\b\b\b\b\b\b\b\b\b\b\b\b\b\b\b\b\b\b\b\b\b\b\b\b\b\b\b\b\b\b\b\b\b\b\b\b\b\b\b\b\b\b\b\b\b\b\b\b\b\b\b\b\b\b\b\b\b\b\b\b\b\b\b\b\r2190/2190 [==============================] - 14s 6ms/step - loss: 1141.5742 - accuracy: 0.0674 - val_loss: 734.1870 - val_accuracy: 0.0392\n",
            "Epoch 87/1000\n",
            "2190/2190 [==============================] - 13s 6ms/step - loss: 1141.4714 - accuracy: 0.0762 - val_loss: 738.5356 - val_accuracy: 0.0031\n",
            "Epoch 88/1000\n",
            "2190/2190 [==============================] - 12s 5ms/step - loss: 1141.4246 - accuracy: 0.0693 - val_loss: 742.3987 - val_accuracy: 0.0392\n",
            "Epoch 89/1000\n",
            "2190/2190 [==============================] - 12s 6ms/step - loss: 1141.6521 - accuracy: 0.0717 - val_loss: 739.7678 - val_accuracy: 0.0392\n",
            "Epoch 90/1000\n",
            "2190/2190 [==============================] - 12s 6ms/step - loss: 1141.6123 - accuracy: 0.0724 - val_loss: 737.9553 - val_accuracy: 0.0031\n",
            "Epoch 91/1000\n",
            "2190/2190 [==============================] - 11s 5ms/step - loss: 1141.6443 - accuracy: 0.0694 - val_loss: 743.9731 - val_accuracy: 0.0392\n",
            "Epoch 92/1000\n",
            "2190/2190 [==============================] - 12s 5ms/step - loss: 1141.6226 - accuracy: 0.0701 - val_loss: 741.9343 - val_accuracy: 0.0392\n",
            "Epoch 93/1000\n",
            "2190/2190 [==============================] - 12s 5ms/step - loss: 1141.4628 - accuracy: 0.0681 - val_loss: 737.4911 - val_accuracy: 0.0392\n",
            "Epoch 94/1000\n",
            "2190/2190 [==============================] - 13s 6ms/step - loss: 1141.5135 - accuracy: 0.0641 - val_loss: 739.0024 - val_accuracy: 0.0392\n",
            "Epoch 95/1000\n",
            "2190/2190 [==============================] - 12s 5ms/step - loss: 1141.6088 - accuracy: 0.0738 - val_loss: 745.5699 - val_accuracy: 0.0031\n",
            "Epoch 96/1000\n",
            "2190/2190 [==============================] - 13s 6ms/step - loss: 1141.4172 - accuracy: 0.0626 - val_loss: 744.0660 - val_accuracy: 0.0392\n",
            "Epoch 97/1000\n",
            "2190/2190 [==============================] - 12s 5ms/step - loss: 1141.6223 - accuracy: 0.0719 - val_loss: 746.7654 - val_accuracy: 0.0392\n",
            "Epoch 98/1000\n",
            "2190/2190 [==============================] - 12s 5ms/step - loss: 1141.5884 - accuracy: 0.0720 - val_loss: 743.9549 - val_accuracy: 0.0392\n",
            "Epoch 99/1000\n",
            "2190/2190 [==============================] - 12s 5ms/step - loss: 1141.5742 - accuracy: 0.0712 - val_loss: 739.0941 - val_accuracy: 0.0392\n",
            "Epoch 100/1000\n",
            "2190/2190 [==============================] - 11s 5ms/step - loss: 1141.4836 - accuracy: 0.0637 - val_loss: 747.4388 - val_accuracy: 0.0031\n",
            "Epoch 101/1000\n",
            "2190/2190 [==============================] - 13s 6ms/step - loss: 1141.3840 - accuracy: 0.0666 - val_loss: 741.5594 - val_accuracy: 0.0031\n"
          ]
        },
        {
          "output_type": "display_data",
          "data": {
            "text/plain": [
              "<IPython.core.display.HTML object>"
            ],
            "text/html": [
              "Waiting for W&B process to finish... <strong style=\"color:green\">(success).</strong>"
            ]
          },
          "metadata": {}
        },
        {
          "output_type": "display_data",
          "data": {
            "text/plain": [
              "<IPython.core.display.HTML object>"
            ],
            "text/html": [
              "<style>\n",
              "    table.wandb td:nth-child(1) { padding: 0 10px; text-align: left ; width: auto;} td:nth-child(2) {text-align: left ; width: 100%}\n",
              "    .wandb-row { display: flex; flex-direction: row; flex-wrap: wrap; justify-content: flex-start; width: 100% }\n",
              "    .wandb-col { display: flex; flex-direction: column; flex-basis: 100%; flex: 1; padding: 10px; }\n",
              "    </style>\n",
              "<div class=\"wandb-row\"><div class=\"wandb-col\"><h3>Run history:</h3><br/><table class=\"wandb\"><tr><td>accuracy</td><td>▃▇▇▇▇▂▇▅▂▄▂▇▄▅▅▇█▅▅▇▆▅▇▃▇▃█▁▆█▆▄▆▅▅▇▅▇▆▄</td></tr><tr><td>epoch</td><td>▁▁▁▁▂▂▂▂▂▃▃▃▃▃▃▄▄▄▄▄▅▅▅▅▅▅▆▆▆▆▆▇▇▇▇▇▇███</td></tr><tr><td>epoch/accuracy</td><td>▃▇▇▇▇▂▇▅▂▄▂▇▄▅▅▇█▅▅▇▆▅▇▃▇▃█▁▆█▆▄▆▅▅▇▅▇▆▄</td></tr><tr><td>epoch/epoch</td><td>▁▁▁▁▂▂▂▂▂▃▃▃▃▃▃▄▄▄▄▄▅▅▅▅▅▅▆▆▆▆▆▇▇▇▇▇▇███</td></tr><tr><td>epoch/learning_rate</td><td>▁▁▁▁▁▁▁▁▁▁▁▁▁▁▁▁▁▁▁▁▁▁▁▁▁▁▁▁▁▁▁▁▁▁▁▁▁▁▁▁</td></tr><tr><td>epoch/loss</td><td>▁▁▁▁████████████████████████████████████</td></tr><tr><td>epoch/val_accuracy</td><td>█▃▃▃▅▅▅▅▅▅▅▅▅▁▅▅▅▅▁▁▅▅▁▅▁▅▅▅▅▅▅▅▅▅▅▁▅▁▅▁</td></tr><tr><td>epoch/val_loss</td><td>█▄▄▇▁▁▁▁▁▁▁▁▁▁▁▁▁▁▁▁▁▁▁▁▁▁▁▁▁▁▁▁▁▁▁▁▁▁▁▁</td></tr><tr><td>loss</td><td>▁▁▁▁████████████████████████████████████</td></tr><tr><td>val_accuracy</td><td>█▃▃▃▅▅▅▅▅▅▅▅▅▁▅▅▅▅▁▁▅▅▁▅▁▅▅▅▅▅▅▅▅▅▅▁▅▁▅▁</td></tr><tr><td>val_loss</td><td>█▄▄▇▁▁▁▁▁▁▁▁▁▁▁▁▁▁▁▁▁▁▁▁▁▁▁▁▁▁▁▁▁▁▁▁▁▁▁▁</td></tr></table><br/></div><div class=\"wandb-col\"><h3>Run summary:</h3><br/><table class=\"wandb\"><tr><td>accuracy</td><td>0.06658</td></tr><tr><td>best_epoch</td><td>85</td></tr><tr><td>best_val_loss</td><td>734.18701</td></tr><tr><td>epoch</td><td>100</td></tr><tr><td>epoch/accuracy</td><td>0.06658</td></tr><tr><td>epoch/epoch</td><td>100</td></tr><tr><td>epoch/learning_rate</td><td>0.05</td></tr><tr><td>epoch/loss</td><td>1141.38403</td></tr><tr><td>epoch/val_accuracy</td><td>0.00314</td></tr><tr><td>epoch/val_loss</td><td>741.55945</td></tr><tr><td>loss</td><td>1141.38403</td></tr><tr><td>val_accuracy</td><td>0.00314</td></tr><tr><td>val_loss</td><td>741.55945</td></tr></table><br/></div></div>"
            ]
          },
          "metadata": {}
        },
        {
          "output_type": "display_data",
          "data": {
            "text/plain": [
              "<IPython.core.display.HTML object>"
            ],
            "text/html": [
              " View run <strong style=\"color:#cdcd00\">astral-sweep-5</strong> at: <a href='https://wandb.ai/pilwookmoon/lstm_sweep_colab/runs/ox6jw3pl' target=\"_blank\">https://wandb.ai/pilwookmoon/lstm_sweep_colab/runs/ox6jw3pl</a><br/>Synced 5 W&B file(s), 1 media file(s), 55 artifact file(s) and 1 other file(s)"
            ]
          },
          "metadata": {}
        },
        {
          "output_type": "display_data",
          "data": {
            "text/plain": [
              "<IPython.core.display.HTML object>"
            ],
            "text/html": [
              "Find logs at: <code>./wandb/run-20230503_073039-ox6jw3pl/logs</code>"
            ]
          },
          "metadata": {}
        },
        {
          "output_type": "stream",
          "name": "stderr",
          "text": [
            "\u001b[34m\u001b[1mwandb\u001b[0m: Agent Starting Run: cdycqtvr with config:\n",
            "\u001b[34m\u001b[1mwandb\u001b[0m: \tactivation: relu\n",
            "\u001b[34m\u001b[1mwandb\u001b[0m: \tbatch_size: 32\n",
            "\u001b[34m\u001b[1mwandb\u001b[0m: \tdropout: 0.1\n",
            "\u001b[34m\u001b[1mwandb\u001b[0m: \tepochs: 1000\n",
            "\u001b[34m\u001b[1mwandb\u001b[0m: \thidden_layer_size: 16\n",
            "\u001b[34m\u001b[1mwandb\u001b[0m: \tlearning_rate: 0.05\n",
            "\u001b[34m\u001b[1mwandb\u001b[0m: \tlstm_layer_size: 32\n",
            "\u001b[34m\u001b[1mwandb\u001b[0m: \toptimizer: adam\n",
            "\u001b[34m\u001b[1mwandb\u001b[0m: \ttime_step: 5\n"
          ]
        },
        {
          "output_type": "display_data",
          "data": {
            "text/plain": [
              "<IPython.core.display.HTML object>"
            ],
            "text/html": [
              "Tracking run with wandb version 0.15.1"
            ]
          },
          "metadata": {}
        },
        {
          "output_type": "display_data",
          "data": {
            "text/plain": [
              "<IPython.core.display.HTML object>"
            ],
            "text/html": [
              "Run data is saved locally in <code>/content/wandb/run-20230503_075153-cdycqtvr</code>"
            ]
          },
          "metadata": {}
        },
        {
          "output_type": "display_data",
          "data": {
            "text/plain": [
              "<IPython.core.display.HTML object>"
            ],
            "text/html": [
              "Syncing run <strong><a href='https://wandb.ai/pilwookmoon/lstm_sweep_colab/runs/cdycqtvr' target=\"_blank\">genial-sweep-6</a></strong> to <a href='https://wandb.ai/pilwookmoon/lstm_sweep_colab' target=\"_blank\">Weights & Biases</a> (<a href='https://wandb.me/run' target=\"_blank\">docs</a>)<br/>Sweep page: <a href='https://wandb.ai/pilwookmoon/lstm_sweep_colab/sweeps/9v59afe8' target=\"_blank\">https://wandb.ai/pilwookmoon/lstm_sweep_colab/sweeps/9v59afe8</a>"
            ]
          },
          "metadata": {}
        },
        {
          "output_type": "display_data",
          "data": {
            "text/plain": [
              "<IPython.core.display.HTML object>"
            ],
            "text/html": [
              " View project at <a href='https://wandb.ai/pilwookmoon/lstm_sweep_colab' target=\"_blank\">https://wandb.ai/pilwookmoon/lstm_sweep_colab</a>"
            ]
          },
          "metadata": {}
        },
        {
          "output_type": "display_data",
          "data": {
            "text/plain": [
              "<IPython.core.display.HTML object>"
            ],
            "text/html": [
              " View sweep at <a href='https://wandb.ai/pilwookmoon/lstm_sweep_colab/sweeps/9v59afe8' target=\"_blank\">https://wandb.ai/pilwookmoon/lstm_sweep_colab/sweeps/9v59afe8</a>"
            ]
          },
          "metadata": {}
        },
        {
          "output_type": "display_data",
          "data": {
            "text/plain": [
              "<IPython.core.display.HTML object>"
            ],
            "text/html": [
              " View run at <a href='https://wandb.ai/pilwookmoon/lstm_sweep_colab/runs/cdycqtvr' target=\"_blank\">https://wandb.ai/pilwookmoon/lstm_sweep_colab/runs/cdycqtvr</a>"
            ]
          },
          "metadata": {}
        },
        {
          "output_type": "stream",
          "name": "stdout",
          "text": [
            "x shape :  (70080, 5, 25)\n",
            "y shape :  (70080, 25)\n"
          ]
        },
        {
          "output_type": "stream",
          "name": "stderr",
          "text": [
            "WARNING:tensorflow:Layer lstm will not use cuDNN kernels since it doesn't meet the criteria. It will use a generic GPU kernel as fallback when running on GPU.\n"
          ]
        },
        {
          "output_type": "stream",
          "name": "stdout",
          "text": [
            "x shape :  (17520, 5, 25)\n",
            "y shape :  (17520, 25)\n"
          ]
        },
        {
          "output_type": "stream",
          "name": "stderr",
          "text": [
            "/usr/local/lib/python3.10/dist-packages/keras/optimizers/legacy/adam.py:117: UserWarning: The `lr` argument is deprecated, use `learning_rate` instead.\n",
            "  super().__init__(name, **kwargs)\n"
          ]
        },
        {
          "output_type": "stream",
          "name": "stdout",
          "text": [
            "Epoch 1/1000\n",
            "2181/2190 [============================>.] - ETA: 0s - loss: 286.4247 - accuracy: 0.0680"
          ]
        },
        {
          "output_type": "stream",
          "name": "stderr",
          "text": [
            "\u001b[34m\u001b[1mwandb\u001b[0m: Adding directory to artifact (/content/wandb/run-20230503_075153-cdycqtvr/files/model-best)... Done. 0.0s\n"
          ]
        },
        {
          "output_type": "stream",
          "name": "stdout",
          "text": [
            "\b\b\b\b\b\b\b\b\b\b\b\b\b\b\b\b\b\b\b\b\b\b\b\b\b\b\b\b\b\b\b\b\b\b\b\b\b\b\b\b\b\b\b\b\b\b\b\b\b\b\b\b\b\b\b\b\b\b\b\b\b\b\b\b\b\b\b\b\b\b\b\b\b\b\b\b\b\b\b\b\b\b\b\b\b\b\b\b\r2190/2190 [==============================] - 18s 8ms/step - loss: 287.4152 - accuracy: 0.0679 - val_loss: 2043.0276 - val_accuracy: 0.0383\n",
            "Epoch 2/1000\n",
            "2190/2190 [==============================] - 14s 6ms/step - loss: 326.5949 - accuracy: 0.0749 - val_loss: 2355.6987 - val_accuracy: 0.0360\n",
            "Epoch 3/1000\n",
            "2189/2190 [============================>.] - ETA: 0s - loss: 357.2566 - accuracy: 0.0721"
          ]
        },
        {
          "output_type": "stream",
          "name": "stderr",
          "text": [
            "\u001b[34m\u001b[1mwandb\u001b[0m: Adding directory to artifact (/content/wandb/run-20230503_075153-cdycqtvr/files/model-best)... Done. 0.0s\n"
          ]
        },
        {
          "output_type": "stream",
          "name": "stdout",
          "text": [
            "\b\b\b\b\b\b\b\b\b\b\b\b\b\b\b\b\b\b\b\b\b\b\b\b\b\b\b\b\b\b\b\b\b\b\b\b\b\b\b\b\b\b\b\b\b\b\b\b\b\b\b\b\b\b\b\b\b\b\b\b\b\b\b\b\b\b\b\b\b\b\b\b\b\b\b\b\b\b\b\b\b\b\b\b\b\b\b\b\r2190/2190 [==============================] - 16s 7ms/step - loss: 357.1664 - accuracy: 0.0721 - val_loss: 1510.1421 - val_accuracy: 0.0428\n",
            "Epoch 4/1000\n",
            "2181/2190 [============================>.] - ETA: 0s - loss: 377.5432 - accuracy: 0.0724"
          ]
        },
        {
          "output_type": "stream",
          "name": "stderr",
          "text": [
            "\u001b[34m\u001b[1mwandb\u001b[0m: Adding directory to artifact (/content/wandb/run-20230503_075153-cdycqtvr/files/model-best)... Done. 0.0s\n"
          ]
        },
        {
          "output_type": "stream",
          "name": "stdout",
          "text": [
            "\b\b\b\b\b\b\b\b\b\b\b\b\b\b\b\b\b\b\b\b\b\b\b\b\b\b\b\b\b\b\b\b\b\b\b\b\b\b\b\b\b\b\b\b\b\b\b\b\b\b\b\b\b\b\b\b\b\b\b\b\b\b\b\b\b\b\b\b\b\b\b\b\b\b\b\b\b\b\b\b\b\b\b\b\b\b\b\b\r2190/2190 [==============================] - 16s 7ms/step - loss: 377.1768 - accuracy: 0.0724 - val_loss: 1462.0796 - val_accuracy: 0.0135\n",
            "Epoch 5/1000\n",
            "2184/2190 [============================>.] - ETA: 0s - loss: 434.5669 - accuracy: 0.0719"
          ]
        },
        {
          "output_type": "stream",
          "name": "stderr",
          "text": [
            "\u001b[34m\u001b[1mwandb\u001b[0m: Adding directory to artifact (/content/wandb/run-20230503_075153-cdycqtvr/files/model-best)... Done. 0.0s\n"
          ]
        },
        {
          "output_type": "stream",
          "name": "stdout",
          "text": [
            "\b\b\b\b\b\b\b\b\b\b\b\b\b\b\b\b\b\b\b\b\b\b\b\b\b\b\b\b\b\b\b\b\b\b\b\b\b\b\b\b\b\b\b\b\b\b\b\b\b\b\b\b\b\b\b\b\b\b\b\b\b\b\b\b\b\b\b\b\b\b\b\b\b\b\b\b\b\b\b\b\b\b\b\b\b\b\b\b\r2190/2190 [==============================] - 17s 8ms/step - loss: 434.2622 - accuracy: 0.0719 - val_loss: 1426.7617 - val_accuracy: 0.0417\n",
            "Epoch 6/1000\n",
            "2190/2190 [==============================] - 15s 7ms/step - loss: 466.1479 - accuracy: 0.0715 - val_loss: 1491.9353 - val_accuracy: 0.0403\n",
            "Epoch 7/1000\n",
            "2190/2190 [==============================] - 15s 7ms/step - loss: 404.4084 - accuracy: 0.0735 - val_loss: 1498.8698 - val_accuracy: 0.0388\n",
            "Epoch 8/1000\n",
            "2190/2190 [==============================] - 15s 7ms/step - loss: 371.0220 - accuracy: 0.0724 - val_loss: 1507.1946 - val_accuracy: 0.0299\n",
            "Epoch 9/1000\n",
            "2185/2190 [============================>.] - ETA: 0s - loss: 477.8127 - accuracy: 0.0719"
          ]
        },
        {
          "output_type": "stream",
          "name": "stderr",
          "text": [
            "\u001b[34m\u001b[1mwandb\u001b[0m: Adding directory to artifact (/content/wandb/run-20230503_075153-cdycqtvr/files/model-best)... Done. 0.0s\n"
          ]
        },
        {
          "output_type": "stream",
          "name": "stdout",
          "text": [
            "\b\b\b\b\b\b\b\b\b\b\b\b\b\b\b\b\b\b\b\b\b\b\b\b\b\b\b\b\b\b\b\b\b\b\b\b\b\b\b\b\b\b\b\b\b\b\b\b\b\b\b\b\b\b\b\b\b\b\b\b\b\b\b\b\b\b\b\b\b\b\b\b\b\b\b\b\b\b\b\b\b\b\b\b\b\b\b\b\r2190/2190 [==============================] - 16s 7ms/step - loss: 477.5276 - accuracy: 0.0719 - val_loss: 862.0076 - val_accuracy: 0.0289\n",
            "Epoch 10/1000\n",
            "2190/2190 [==============================] - 15s 7ms/step - loss: 398.8546 - accuracy: 0.0738 - val_loss: 1030.0408 - val_accuracy: 0.0178\n",
            "Epoch 11/1000\n",
            "2190/2190 [==============================] - 15s 7ms/step - loss: 478.3419 - accuracy: 0.0729 - val_loss: 1050.4960 - val_accuracy: 0.0205\n",
            "Epoch 12/1000\n",
            "2190/2190 [==============================] - 14s 6ms/step - loss: 424.0355 - accuracy: 0.0734 - val_loss: 1459.7493 - val_accuracy: 0.0136\n",
            "Epoch 13/1000\n",
            "2190/2190 [==============================] - 14s 7ms/step - loss: 387.9610 - accuracy: 0.0726 - val_loss: 2233.8145 - val_accuracy: 0.0473\n",
            "Epoch 14/1000\n",
            "2190/2190 [==============================] - 15s 7ms/step - loss: 443.4128 - accuracy: 0.0728 - val_loss: 1065.1333 - val_accuracy: 0.0217\n",
            "Epoch 15/1000\n",
            "2190/2190 [==============================] - 15s 7ms/step - loss: 377.0787 - accuracy: 0.0740 - val_loss: 1065.0941 - val_accuracy: 0.0252\n",
            "Epoch 16/1000\n",
            "2190/2190 [==============================] - 14s 6ms/step - loss: 422.6842 - accuracy: 0.0735 - val_loss: 1073.3317 - val_accuracy: 0.0352\n",
            "Epoch 17/1000\n",
            "2189/2190 [============================>.] - ETA: 0s - loss: 456.9334 - accuracy: 0.0731"
          ]
        },
        {
          "output_type": "stream",
          "name": "stderr",
          "text": [
            "\u001b[34m\u001b[1mwandb\u001b[0m: Adding directory to artifact (/content/wandb/run-20230503_075153-cdycqtvr/files/model-best)... Done. 0.0s\n"
          ]
        },
        {
          "output_type": "stream",
          "name": "stdout",
          "text": [
            "\b\b\b\b\b\b\b\b\b\b\b\b\b\b\b\b\b\b\b\b\b\b\b\b\b\b\b\b\b\b\b\b\b\b\b\b\b\b\b\b\b\b\b\b\b\b\b\b\b\b\b\b\b\b\b\b\b\b\b\b\b\b\b\b\b\b\b\b\b\b\b\b\b\b\b\b\b\b\b\b\b\b\b\b\b\b\b\b\r2190/2190 [==============================] - 17s 8ms/step - loss: 457.0398 - accuracy: 0.0731 - val_loss: 854.3919 - val_accuracy: 0.0385\n",
            "Epoch 18/1000\n",
            "2190/2190 [==============================] - 15s 7ms/step - loss: 458.4184 - accuracy: 0.0734 - val_loss: 1516.6847 - val_accuracy: 0.0190\n",
            "Epoch 19/1000\n",
            "2190/2190 [==============================] - 14s 6ms/step - loss: 382.1329 - accuracy: 0.0730 - val_loss: 1483.2216 - val_accuracy: 0.0252\n",
            "Epoch 20/1000\n",
            "2190/2190 [==============================] - 14s 6ms/step - loss: 388.2008 - accuracy: 0.0735 - val_loss: 1504.3071 - val_accuracy: 0.0138\n",
            "Epoch 21/1000\n",
            "2190/2190 [==============================] - 14s 6ms/step - loss: 416.1812 - accuracy: 0.0731 - val_loss: 1557.2806 - val_accuracy: 0.0392\n",
            "Epoch 22/1000\n",
            "2190/2190 [==============================] - 15s 7ms/step - loss: 455.5749 - accuracy: 0.0725 - val_loss: 2022.9016 - val_accuracy: 0.0477\n",
            "Epoch 23/1000\n",
            "2190/2190 [==============================] - 14s 6ms/step - loss: 381.6441 - accuracy: 0.0734 - val_loss: 1072.1494 - val_accuracy: 0.0515\n",
            "Epoch 24/1000\n",
            "2184/2190 [============================>.] - ETA: 0s - loss: 546.4444 - accuracy: 0.0746"
          ]
        },
        {
          "output_type": "stream",
          "name": "stderr",
          "text": [
            "\u001b[34m\u001b[1mwandb\u001b[0m: Adding directory to artifact (/content/wandb/run-20230503_075153-cdycqtvr/files/model-best)... Done. 0.0s\n"
          ]
        },
        {
          "output_type": "stream",
          "name": "stdout",
          "text": [
            "\b\b\b\b\b\b\b\b\b\b\b\b\b\b\b\b\b\b\b\b\b\b\b\b\b\b\b\b\b\b\b\b\b\b\b\b\b\b\b\b\b\b\b\b\b\b\b\b\b\b\b\b\b\b\b\b\b\b\b\b\b\b\b\b\b\b\b\b\b\b\b\b\b\b\b\b\b\b\b\b\b\b\b\b\b\b\b\b\r2190/2190 [==============================] - 16s 8ms/step - loss: 548.4476 - accuracy: 0.0745 - val_loss: 707.0225 - val_accuracy: 0.0392\n",
            "Epoch 25/1000\n",
            "2190/2190 [==============================] - 14s 6ms/step - loss: 1142.5842 - accuracy: 0.0701 - val_loss: 740.0191 - val_accuracy: 0.0031\n",
            "Epoch 26/1000\n",
            "2190/2190 [==============================] - 14s 6ms/step - loss: 1141.5873 - accuracy: 0.0636 - val_loss: 750.2566 - val_accuracy: 0.0392\n",
            "Epoch 27/1000\n",
            "2190/2190 [==============================] - 14s 6ms/step - loss: 1141.4995 - accuracy: 0.0666 - val_loss: 738.0436 - val_accuracy: 0.0392\n",
            "Epoch 28/1000\n",
            "2190/2190 [==============================] - 15s 7ms/step - loss: 1141.6506 - accuracy: 0.0737 - val_loss: 740.9396 - val_accuracy: 0.0392\n",
            "Epoch 29/1000\n",
            "2190/2190 [==============================] - 14s 6ms/step - loss: 1141.4457 - accuracy: 0.0655 - val_loss: 737.3093 - val_accuracy: 0.0392\n",
            "Epoch 30/1000\n",
            "2190/2190 [==============================] - 14s 6ms/step - loss: 1141.6494 - accuracy: 0.0718 - val_loss: 743.7755 - val_accuracy: 0.0392\n",
            "Epoch 31/1000\n",
            "2190/2190 [==============================] - 14s 6ms/step - loss: 1141.4425 - accuracy: 0.0701 - val_loss: 737.4471 - val_accuracy: 0.0392\n",
            "Epoch 32/1000\n",
            "2190/2190 [==============================] - 14s 6ms/step - loss: 1141.6119 - accuracy: 0.0739 - val_loss: 749.2977 - val_accuracy: 0.0392\n"
          ]
        },
        {
          "output_type": "display_data",
          "data": {
            "text/plain": [
              "<IPython.core.display.HTML object>"
            ],
            "text/html": [
              "Waiting for W&B process to finish... <strong style=\"color:green\">(success).</strong>"
            ]
          },
          "metadata": {}
        },
        {
          "output_type": "display_data",
          "data": {
            "text/plain": [
              "<IPython.core.display.HTML object>"
            ],
            "text/html": [
              "<style>\n",
              "    table.wandb td:nth-child(1) { padding: 0 10px; text-align: left ; width: auto;} td:nth-child(2) {text-align: left ; width: 100%}\n",
              "    .wandb-row { display: flex; flex-direction: row; flex-wrap: wrap; justify-content: flex-start; width: 100% }\n",
              "    .wandb-col { display: flex; flex-direction: column; flex-basis: 100%; flex: 1; padding: 10px; }\n",
              "    </style>\n",
              "<div class=\"wandb-row\"><div class=\"wandb-col\"><h3>Run history:</h3><br/><table class=\"wandb\"><tr><td>accuracy</td><td>▄█▆▆▆▆▇▆▆▇▇▇▇▇▇▇▇▇▇▇▇▇▇█▅▁▃▇▂▆▅▇</td></tr><tr><td>epoch</td><td>▁▁▁▂▂▂▂▃▃▃▃▃▄▄▄▄▅▅▅▅▆▆▆▆▆▇▇▇▇███</td></tr><tr><td>epoch/accuracy</td><td>▄█▆▆▆▆▇▆▆▇▇▇▇▇▇▇▇▇▇▇▇▇▇█▅▁▃▇▂▆▅▇</td></tr><tr><td>epoch/epoch</td><td>▁▁▁▂▂▂▂▃▃▃▃▃▄▄▄▄▅▅▅▅▆▆▆▆▆▇▇▇▇███</td></tr><tr><td>epoch/learning_rate</td><td>▁▁▁▁▁▁▁▁▁▁▁▁▁▁▁▁▁▁▁▁▁▁▁▁▁▁▁▁▁▁▁▁</td></tr><tr><td>epoch/loss</td><td>▁▁▂▂▂▂▂▂▃▂▃▂▂▂▂▂▂▂▂▂▂▂▂▃████████</td></tr><tr><td>epoch/val_accuracy</td><td>▆▆▇▂▇▆▆▅▅▃▄▃▇▄▄▆▆▃▄▃▆▇█▆▁▆▆▆▆▆▆▆</td></tr><tr><td>epoch/val_loss</td><td>▇█▄▄▄▄▄▄▂▂▂▄▇▃▃▃▂▄▄▄▅▇▃▁▁▁▁▁▁▁▁▁</td></tr><tr><td>loss</td><td>▁▁▂▂▂▂▂▂▃▂▃▂▂▂▂▂▂▂▂▂▂▂▂▃████████</td></tr><tr><td>val_accuracy</td><td>▆▆▇▂▇▆▆▅▅▃▄▃▇▄▄▆▆▃▄▃▆▇█▆▁▆▆▆▆▆▆▆</td></tr><tr><td>val_loss</td><td>▇█▄▄▄▄▄▄▂▂▂▄▇▃▃▃▂▄▄▄▅▇▃▁▁▁▁▁▁▁▁▁</td></tr></table><br/></div><div class=\"wandb-col\"><h3>Run summary:</h3><br/><table class=\"wandb\"><tr><td>accuracy</td><td>0.07386</td></tr><tr><td>best_epoch</td><td>23</td></tr><tr><td>best_val_loss</td><td>707.02252</td></tr><tr><td>epoch</td><td>31</td></tr><tr><td>epoch/accuracy</td><td>0.07386</td></tr><tr><td>epoch/epoch</td><td>31</td></tr><tr><td>epoch/learning_rate</td><td>0.05</td></tr><tr><td>epoch/loss</td><td>1141.61194</td></tr><tr><td>epoch/val_accuracy</td><td>0.03921</td></tr><tr><td>epoch/val_loss</td><td>749.29767</td></tr><tr><td>loss</td><td>1141.61194</td></tr><tr><td>val_accuracy</td><td>0.03921</td></tr><tr><td>val_loss</td><td>749.29767</td></tr></table><br/></div></div>"
            ]
          },
          "metadata": {}
        },
        {
          "output_type": "display_data",
          "data": {
            "text/plain": [
              "<IPython.core.display.HTML object>"
            ],
            "text/html": [
              " View run <strong style=\"color:#cdcd00\">genial-sweep-6</strong> at: <a href='https://wandb.ai/pilwookmoon/lstm_sweep_colab/runs/cdycqtvr' target=\"_blank\">https://wandb.ai/pilwookmoon/lstm_sweep_colab/runs/cdycqtvr</a><br/>Synced 5 W&B file(s), 1 media file(s), 35 artifact file(s) and 1 other file(s)"
            ]
          },
          "metadata": {}
        },
        {
          "output_type": "display_data",
          "data": {
            "text/plain": [
              "<IPython.core.display.HTML object>"
            ],
            "text/html": [
              "Find logs at: <code>./wandb/run-20230503_075153-cdycqtvr/logs</code>"
            ]
          },
          "metadata": {}
        },
        {
          "output_type": "stream",
          "name": "stderr",
          "text": [
            "\u001b[34m\u001b[1mwandb\u001b[0m: Agent Starting Run: 64zbh9ye with config:\n",
            "\u001b[34m\u001b[1mwandb\u001b[0m: \tactivation: relu\n",
            "\u001b[34m\u001b[1mwandb\u001b[0m: \tbatch_size: 32\n",
            "\u001b[34m\u001b[1mwandb\u001b[0m: \tdropout: 0.1\n",
            "\u001b[34m\u001b[1mwandb\u001b[0m: \tepochs: 1000\n",
            "\u001b[34m\u001b[1mwandb\u001b[0m: \thidden_layer_size: 16\n",
            "\u001b[34m\u001b[1mwandb\u001b[0m: \tlearning_rate: 0.01\n",
            "\u001b[34m\u001b[1mwandb\u001b[0m: \tlstm_layer_size: 16\n",
            "\u001b[34m\u001b[1mwandb\u001b[0m: \toptimizer: adam\n",
            "\u001b[34m\u001b[1mwandb\u001b[0m: \ttime_step: 1\n"
          ]
        },
        {
          "output_type": "display_data",
          "data": {
            "text/plain": [
              "<IPython.core.display.HTML object>"
            ],
            "text/html": [
              "Tracking run with wandb version 0.15.1"
            ]
          },
          "metadata": {}
        },
        {
          "output_type": "display_data",
          "data": {
            "text/plain": [
              "<IPython.core.display.HTML object>"
            ],
            "text/html": [
              "Run data is saved locally in <code>/content/wandb/run-20230503_080005-64zbh9ye</code>"
            ]
          },
          "metadata": {}
        },
        {
          "output_type": "display_data",
          "data": {
            "text/plain": [
              "<IPython.core.display.HTML object>"
            ],
            "text/html": [
              "Syncing run <strong><a href='https://wandb.ai/pilwookmoon/lstm_sweep_colab/runs/64zbh9ye' target=\"_blank\">rosy-sweep-7</a></strong> to <a href='https://wandb.ai/pilwookmoon/lstm_sweep_colab' target=\"_blank\">Weights & Biases</a> (<a href='https://wandb.me/run' target=\"_blank\">docs</a>)<br/>Sweep page: <a href='https://wandb.ai/pilwookmoon/lstm_sweep_colab/sweeps/9v59afe8' target=\"_blank\">https://wandb.ai/pilwookmoon/lstm_sweep_colab/sweeps/9v59afe8</a>"
            ]
          },
          "metadata": {}
        },
        {
          "output_type": "display_data",
          "data": {
            "text/plain": [
              "<IPython.core.display.HTML object>"
            ],
            "text/html": [
              " View project at <a href='https://wandb.ai/pilwookmoon/lstm_sweep_colab' target=\"_blank\">https://wandb.ai/pilwookmoon/lstm_sweep_colab</a>"
            ]
          },
          "metadata": {}
        },
        {
          "output_type": "display_data",
          "data": {
            "text/plain": [
              "<IPython.core.display.HTML object>"
            ],
            "text/html": [
              " View sweep at <a href='https://wandb.ai/pilwookmoon/lstm_sweep_colab/sweeps/9v59afe8' target=\"_blank\">https://wandb.ai/pilwookmoon/lstm_sweep_colab/sweeps/9v59afe8</a>"
            ]
          },
          "metadata": {}
        },
        {
          "output_type": "display_data",
          "data": {
            "text/plain": [
              "<IPython.core.display.HTML object>"
            ],
            "text/html": [
              " View run at <a href='https://wandb.ai/pilwookmoon/lstm_sweep_colab/runs/64zbh9ye' target=\"_blank\">https://wandb.ai/pilwookmoon/lstm_sweep_colab/runs/64zbh9ye</a>"
            ]
          },
          "metadata": {}
        },
        {
          "output_type": "stream",
          "name": "stdout",
          "text": [
            "x shape :  (70080, 1, 25)\n",
            "y shape :  (70080, 25)\n"
          ]
        },
        {
          "output_type": "stream",
          "name": "stderr",
          "text": [
            "WARNING:tensorflow:Layer lstm will not use cuDNN kernels since it doesn't meet the criteria. It will use a generic GPU kernel as fallback when running on GPU.\n"
          ]
        },
        {
          "output_type": "stream",
          "name": "stdout",
          "text": [
            "x shape :  (17520, 1, 25)\n",
            "y shape :  (17520, 25)\n"
          ]
        },
        {
          "output_type": "stream",
          "name": "stderr",
          "text": [
            "/usr/local/lib/python3.10/dist-packages/keras/optimizers/legacy/adam.py:117: UserWarning: The `lr` argument is deprecated, use `learning_rate` instead.\n",
            "  super().__init__(name, **kwargs)\n"
          ]
        },
        {
          "output_type": "stream",
          "name": "stdout",
          "text": [
            "Epoch 1/1000\n",
            "   1/2190 [..............................] - ETA: 1:10:46 - loss: 2593.5415 - accuracy: 0.0625"
          ]
        },
        {
          "output_type": "stream",
          "name": "stderr",
          "text": [
            "WARNING:tensorflow:Callback method `on_train_batch_end` is slow compared to the batch time (batch time: 0.0025s vs `on_train_batch_end` time: 0.0026s). Check your callbacks.\n"
          ]
        },
        {
          "output_type": "stream",
          "name": "stdout",
          "text": [
            "2187/2190 [============================>.] - ETA: 0s - loss: 193.5602 - accuracy: 0.0908"
          ]
        },
        {
          "output_type": "stream",
          "name": "stderr",
          "text": [
            "\u001b[34m\u001b[1mwandb\u001b[0m: Adding directory to artifact (/content/wandb/run-20230503_080005-64zbh9ye/files/model-best)... Done. 0.0s\n"
          ]
        },
        {
          "output_type": "stream",
          "name": "stdout",
          "text": [
            "\b\b\b\b\b\b\b\b\b\b\b\b\b\b\b\b\b\b\b\b\b\b\b\b\b\b\b\b\b\b\b\b\b\b\b\b\b\b\b\b\b\b\b\b\b\b\b\b\b\b\b\b\b\b\b\b\b\b\b\b\b\b\b\b\b\b\b\b\b\b\b\b\b\b\b\b\b\b\b\b\b\b\b\b\b\b\b\b\r2190/2190 [==============================] - 14s 5ms/step - loss: 194.1028 - accuracy: 0.0908 - val_loss: 1594.5470 - val_accuracy: 0.0354\n",
            "Epoch 2/1000\n",
            "2177/2190 [============================>.] - ETA: 0s - loss: 168.2646 - accuracy: 0.1056"
          ]
        },
        {
          "output_type": "stream",
          "name": "stderr",
          "text": [
            "\u001b[34m\u001b[1mwandb\u001b[0m: Adding directory to artifact (/content/wandb/run-20230503_080005-64zbh9ye/files/model-best)... Done. 0.0s\n"
          ]
        },
        {
          "output_type": "stream",
          "name": "stdout",
          "text": [
            "\b\b\b\b\b\b\b\b\b\b\b\b\b\b\b\b\b\b\b\b\b\b\b\b\b\b\b\b\b\b\b\b\b\b\b\b\b\b\b\b\b\b\b\b\b\b\b\b\b\b\b\b\b\b\b\b\b\b\b\b\b\b\b\b\b\b\b\b\b\b\b\b\b\b\b\b\b\b\b\b\b\b\b\b\b\b\b\b\r2190/2190 [==============================] - 12s 5ms/step - loss: 168.2232 - accuracy: 0.1054 - val_loss: 1579.1294 - val_accuracy: 0.0401\n",
            "Epoch 3/1000\n",
            "2190/2190 [==============================] - 10s 5ms/step - loss: 162.3267 - accuracy: 0.1132 - val_loss: 1654.4757 - val_accuracy: 0.0415\n",
            "Epoch 4/1000\n",
            "2190/2190 [==============================] - 10s 5ms/step - loss: 162.0340 - accuracy: 0.1124 - val_loss: 1707.2837 - val_accuracy: 0.0513\n",
            "Epoch 5/1000\n",
            "2190/2190 [==============================] - 11s 5ms/step - loss: 159.1706 - accuracy: 0.1129 - val_loss: 1787.8600 - val_accuracy: 0.0370\n",
            "Epoch 6/1000\n",
            "2190/2190 [==============================] - 9s 4ms/step - loss: 159.9959 - accuracy: 0.1112 - val_loss: 1636.8156 - val_accuracy: 0.0452\n",
            "Epoch 7/1000\n",
            "2188/2190 [============================>.] - ETA: 0s - loss: 156.7930 - accuracy: 0.1125"
          ]
        },
        {
          "output_type": "stream",
          "name": "stderr",
          "text": [
            "\u001b[34m\u001b[1mwandb\u001b[0m: Adding directory to artifact (/content/wandb/run-20230503_080005-64zbh9ye/files/model-best)... Done. 0.0s\n"
          ]
        },
        {
          "output_type": "stream",
          "name": "stdout",
          "text": [
            "\b\b\b\b\b\b\b\b\b\b\b\b\b\b\b\b\b\b\b\b\b\b\b\b\b\b\b\b\b\b\b\b\b\b\b\b\b\b\b\b\b\b\b\b\b\b\b\b\b\b\b\b\b\b\b\b\b\b\b\b\b\b\b\b\b\b\b\b\b\b\b\b\b\b\b\b\b\b\b\b\b\b\b\b\b\b\b\b\r2190/2190 [==============================] - 12s 5ms/step - loss: 156.7574 - accuracy: 0.1125 - val_loss: 1565.3895 - val_accuracy: 0.0411\n",
            "Epoch 8/1000\n",
            "2190/2190 [==============================] - 10s 5ms/step - loss: 162.0858 - accuracy: 0.1106 - val_loss: 1610.3451 - val_accuracy: 0.0446\n",
            "Epoch 9/1000\n",
            "2190/2190 [==============================] - 11s 5ms/step - loss: 157.8825 - accuracy: 0.1122 - val_loss: 1611.1835 - val_accuracy: 0.0483\n",
            "Epoch 10/1000\n",
            "2190/2190 [==============================] - 10s 5ms/step - loss: 157.3852 - accuracy: 0.1140 - val_loss: 1923.7256 - val_accuracy: 0.0322\n",
            "Epoch 11/1000\n",
            "2183/2190 [============================>.] - ETA: 0s - loss: 161.2622 - accuracy: 0.1108"
          ]
        },
        {
          "output_type": "stream",
          "name": "stderr",
          "text": [
            "\u001b[34m\u001b[1mwandb\u001b[0m: Adding directory to artifact (/content/wandb/run-20230503_080005-64zbh9ye/files/model-best)... Done. 0.0s\n"
          ]
        },
        {
          "output_type": "stream",
          "name": "stdout",
          "text": [
            "\b\b\b\b\b\b\b\b\b\b\b\b\b\b\b\b\b\b\b\b\b\b\b\b\b\b\b\b\b\b\b\b\b\b\b\b\b\b\b\b\b\b\b\b\b\b\b\b\b\b\b\b\b\b\b\b\b\b\b\b\b\b\b\b\b\b\b\b\b\b\b\b\b\b\b\b\b\b\b\b\b\b\b\b\b\b\b\b\r2190/2190 [==============================] - 12s 5ms/step - loss: 161.2121 - accuracy: 0.1107 - val_loss: 1520.5525 - val_accuracy: 0.0280\n",
            "Epoch 12/1000\n",
            "2185/2190 [============================>.] - ETA: 0s - loss: 157.4575 - accuracy: 0.1127"
          ]
        },
        {
          "output_type": "stream",
          "name": "stderr",
          "text": [
            "\u001b[34m\u001b[1mwandb\u001b[0m: Adding directory to artifact (/content/wandb/run-20230503_080005-64zbh9ye/files/model-best)... Done. 0.0s\n"
          ]
        },
        {
          "output_type": "stream",
          "name": "stdout",
          "text": [
            "\b\b\b\b\b\b\b\b\b\b\b\b\b\b\b\b\b\b\b\b\b\b\b\b\b\b\b\b\b\b\b\b\b\b\b\b\b\b\b\b\b\b\b\b\b\b\b\b\b\b\b\b\b\b\b\b\b\b\b\b\b\b\b\b\b\b\b\b\b\b\b\b\b\b\b\b\b\b\b\b\b\b\b\b\b\b\b\b\r2190/2190 [==============================] - 11s 5ms/step - loss: 157.4797 - accuracy: 0.1127 - val_loss: 1448.3079 - val_accuracy: 0.0397\n",
            "Epoch 13/1000\n",
            "2190/2190 [==============================] - 10s 5ms/step - loss: 157.2831 - accuracy: 0.1115 - val_loss: 1764.5105 - val_accuracy: 0.0414\n",
            "Epoch 14/1000\n",
            "2190/2190 [==============================] - 10s 5ms/step - loss: 154.9408 - accuracy: 0.1117 - val_loss: 1673.6289 - val_accuracy: 0.0470\n",
            "Epoch 15/1000\n",
            "2190/2190 [==============================] - 10s 5ms/step - loss: 159.1063 - accuracy: 0.1161 - val_loss: 1914.6294 - val_accuracy: 0.0406\n",
            "Epoch 16/1000\n",
            "2190/2190 [==============================] - 9s 4ms/step - loss: 159.2229 - accuracy: 0.1119 - val_loss: 1594.6154 - val_accuracy: 0.0419\n",
            "Epoch 17/1000\n",
            "2190/2190 [==============================] - 10s 5ms/step - loss: 157.1344 - accuracy: 0.1129 - val_loss: 1571.1835 - val_accuracy: 0.0281\n",
            "Epoch 18/1000\n",
            "2190/2190 [==============================] - 10s 5ms/step - loss: 161.1352 - accuracy: 0.1129 - val_loss: 1887.8704 - val_accuracy: 0.0394\n",
            "Epoch 19/1000\n",
            "2190/2190 [==============================] - 10s 5ms/step - loss: 156.6222 - accuracy: 0.1114 - val_loss: 1759.1744 - val_accuracy: 0.0470\n",
            "Epoch 20/1000\n",
            "2179/2190 [============================>.] - ETA: 0s - loss: 157.5681 - accuracy: 0.1136"
          ]
        },
        {
          "output_type": "stream",
          "name": "stderr",
          "text": [
            "\u001b[34m\u001b[1mwandb\u001b[0m: Adding directory to artifact (/content/wandb/run-20230503_080005-64zbh9ye/files/model-best)... Done. 0.0s\n"
          ]
        },
        {
          "output_type": "stream",
          "name": "stdout",
          "text": [
            "\b\b\b\b\b\b\b\b\b\b\b\b\b\b\b\b\b\b\b\b\b\b\b\b\b\b\b\b\b\b\b\b\b\b\b\b\b\b\b\b\b\b\b\b\b\b\b\b\b\b\b\b\b\b\b\b\b\b\b\b\b\b\b\b\b\b\b\b\b\b\b\b\b\b\b\b\b\b\b\b\b\b\b\b\b\b\b\b\r2190/2190 [==============================] - 11s 5ms/step - loss: 157.4666 - accuracy: 0.1135 - val_loss: 1388.8018 - val_accuracy: 0.0418\n",
            "Epoch 21/1000\n",
            "2190/2190 [==============================] - 10s 4ms/step - loss: 155.5511 - accuracy: 0.1134 - val_loss: 1773.0854 - val_accuracy: 0.0410\n",
            "Epoch 22/1000\n",
            "2190/2190 [==============================] - 10s 5ms/step - loss: 160.2370 - accuracy: 0.1109 - val_loss: 1785.9904 - val_accuracy: 0.0385\n",
            "Epoch 23/1000\n",
            "2190/2190 [==============================] - 11s 5ms/step - loss: 158.6033 - accuracy: 0.1142 - val_loss: 1674.4158 - val_accuracy: 0.0503\n",
            "Epoch 24/1000\n",
            "2190/2190 [==============================] - 9s 4ms/step - loss: 157.5936 - accuracy: 0.1120 - val_loss: 1966.9185 - val_accuracy: 0.0509\n",
            "Epoch 25/1000\n",
            "2190/2190 [==============================] - 10s 5ms/step - loss: 161.3680 - accuracy: 0.1097 - val_loss: 1529.9686 - val_accuracy: 0.0258\n",
            "Epoch 26/1000\n",
            "2190/2190 [==============================] - 10s 5ms/step - loss: 162.7562 - accuracy: 0.1097 - val_loss: 1718.1426 - val_accuracy: 0.0376\n",
            "Epoch 27/1000\n",
            "2190/2190 [==============================] - 11s 5ms/step - loss: 164.0023 - accuracy: 0.1102 - val_loss: 1700.1647 - val_accuracy: 0.0341\n",
            "Epoch 28/1000\n",
            "2190/2190 [==============================] - 9s 4ms/step - loss: 163.9062 - accuracy: 0.1087 - val_loss: 1484.6564 - val_accuracy: 0.0347\n",
            "Epoch 29/1000\n",
            "2190/2190 [==============================] - 10s 5ms/step - loss: 169.7700 - accuracy: 0.1051 - val_loss: 1557.9813 - val_accuracy: 0.0384\n",
            "Epoch 30/1000\n",
            "2190/2190 [==============================] - 11s 5ms/step - loss: 164.3304 - accuracy: 0.1074 - val_loss: 1615.0519 - val_accuracy: 0.0504\n",
            "Epoch 31/1000\n",
            "2190/2190 [==============================] - 10s 5ms/step - loss: 165.5274 - accuracy: 0.1093 - val_loss: 1704.6224 - val_accuracy: 0.0424\n",
            "Epoch 32/1000\n",
            "2190/2190 [==============================] - 9s 4ms/step - loss: 170.8476 - accuracy: 0.1096 - val_loss: 1600.0554 - val_accuracy: 0.0397\n",
            "Epoch 33/1000\n",
            "2190/2190 [==============================] - 10s 5ms/step - loss: 161.1183 - accuracy: 0.1114 - val_loss: 1519.6417 - val_accuracy: 0.0372\n",
            "Epoch 34/1000\n",
            "2190/2190 [==============================] - 10s 5ms/step - loss: 167.1795 - accuracy: 0.1066 - val_loss: 1755.5109 - val_accuracy: 0.0443\n",
            "Epoch 35/1000\n",
            "2190/2190 [==============================] - 11s 5ms/step - loss: 168.9631 - accuracy: 0.1080 - val_loss: 1421.1162 - val_accuracy: 0.0414\n",
            "Epoch 36/1000\n",
            "2190/2190 [==============================] - 9s 4ms/step - loss: 167.3414 - accuracy: 0.1089 - val_loss: 1667.9365 - val_accuracy: 0.0404\n",
            "Epoch 37/1000\n",
            "2190/2190 [==============================] - 10s 5ms/step - loss: 165.0275 - accuracy: 0.1119 - val_loss: 1826.9492 - val_accuracy: 0.0475\n",
            "Epoch 38/1000\n",
            "2190/2190 [==============================] - 10s 5ms/step - loss: 172.7794 - accuracy: 0.1077 - val_loss: 1672.6650 - val_accuracy: 0.0374\n",
            "Epoch 39/1000\n",
            "2190/2190 [==============================] - 9s 4ms/step - loss: 166.5054 - accuracy: 0.1087 - val_loss: 1703.6233 - val_accuracy: 0.0423\n",
            "Epoch 40/1000\n",
            "2190/2190 [==============================] - 10s 4ms/step - loss: 168.4921 - accuracy: 0.1081 - val_loss: 1706.9478 - val_accuracy: 0.0405\n",
            "Epoch 41/1000\n",
            "2190/2190 [==============================] - 10s 5ms/step - loss: 174.2940 - accuracy: 0.1102 - val_loss: 1584.0648 - val_accuracy: 0.0398\n",
            "Epoch 42/1000\n",
            "2190/2190 [==============================] - 10s 5ms/step - loss: 177.8083 - accuracy: 0.1053 - val_loss: 1837.9082 - val_accuracy: 0.0356\n",
            "Epoch 43/1000\n",
            "2190/2190 [==============================] - 9s 4ms/step - loss: 173.0257 - accuracy: 0.1087 - val_loss: 1768.4885 - val_accuracy: 0.0353\n",
            "Epoch 44/1000\n",
            "2190/2190 [==============================] - 10s 5ms/step - loss: 169.3498 - accuracy: 0.1069 - val_loss: 1722.8036 - val_accuracy: 0.0432\n",
            "Epoch 45/1000\n",
            "2190/2190 [==============================] - 10s 5ms/step - loss: 168.5560 - accuracy: 0.1061 - val_loss: 1767.0502 - val_accuracy: 0.0403\n"
          ]
        },
        {
          "output_type": "display_data",
          "data": {
            "text/plain": [
              "<IPython.core.display.HTML object>"
            ],
            "text/html": [
              "Waiting for W&B process to finish... <strong style=\"color:green\">(success).</strong>"
            ]
          },
          "metadata": {}
        },
        {
          "output_type": "display_data",
          "data": {
            "text/plain": [
              "<IPython.core.display.HTML object>"
            ],
            "text/html": [
              "<style>\n",
              "    table.wandb td:nth-child(1) { padding: 0 10px; text-align: left ; width: auto;} td:nth-child(2) {text-align: left ; width: 100%}\n",
              "    .wandb-row { display: flex; flex-direction: row; flex-wrap: wrap; justify-content: flex-start; width: 100% }\n",
              "    .wandb-col { display: flex; flex-direction: column; flex-basis: 100%; flex: 1; padding: 10px; }\n",
              "    </style>\n",
              "<div class=\"wandb-row\"><div class=\"wandb-col\"><h3>Run history:</h3><br/><table class=\"wandb\"><tr><td>accuracy</td><td>▁▅▇▇▇▇▇▆▇▇▇▇▇█▇▇▇▇▇▇▇▇▆▆▆▅▆▆▆▇▅▆▇▆▆▆▆▅▆▅</td></tr><tr><td>epoch</td><td>▁▁▁▁▂▂▂▂▂▃▃▃▃▃▃▄▄▄▄▄▅▅▅▅▅▅▆▆▆▆▆▆▇▇▇▇▇███</td></tr><tr><td>epoch/accuracy</td><td>▁▅▇▇▇▇▇▆▇▇▇▇▇█▇▇▇▇▇▇▇▇▆▆▆▅▆▆▆▇▅▆▇▆▆▆▆▅▆▅</td></tr><tr><td>epoch/epoch</td><td>▁▁▁▁▂▂▂▂▂▃▃▃▃▃▃▄▄▄▄▄▅▅▅▅▅▅▆▆▆▆▆▆▇▇▇▇▇███</td></tr><tr><td>epoch/learning_rate</td><td>▁▁▁▁▁▁▁▁▁▁▁▁▁▁▁▁▁▁▁▁▁▁▁▁▁▁▁▁▁▁▁▁▁▁▁▁▁▁▁▁</td></tr><tr><td>epoch/loss</td><td>█▃▂▂▂▂▁▂▁▂▁▁▁▂▂▁▁▁▁▂▂▁▂▂▃▄▃▃▄▂▃▄▃▄▃▃▄▅▄▃</td></tr><tr><td>epoch/val_accuracy</td><td>▄▅▅█▄▆▅▆▃▂▅▅▇▅▅▂▇▅▅▄██▁▄▃▄█▆▅▄▆▅▇▄▆▅▅▄▄▅</td></tr><tr><td>epoch/val_loss</td><td>▃▃▄▅▆▄▃▄▇▃▂▆▄▇▃▃▅▁▆▆▄█▃▅▂▃▄▅▄▃▅▁▆▄▅▅▃▆▆▆</td></tr><tr><td>loss</td><td>█▃▂▂▂▂▁▂▁▂▁▁▁▂▂▁▁▁▁▂▂▁▂▂▃▄▃▃▄▂▃▄▃▄▃▃▄▅▄▃</td></tr><tr><td>val_accuracy</td><td>▄▅▅█▄▆▅▆▃▂▅▅▇▅▅▂▇▅▅▄██▁▄▃▄█▆▅▄▆▅▇▄▆▅▅▄▄▅</td></tr><tr><td>val_loss</td><td>▃▃▄▅▆▄▃▄▇▃▂▆▄▇▃▃▅▁▆▆▄█▃▅▂▃▄▅▄▃▅▁▆▄▅▅▃▆▆▆</td></tr></table><br/></div><div class=\"wandb-col\"><h3>Run summary:</h3><br/><table class=\"wandb\"><tr><td>accuracy</td><td>0.10605</td></tr><tr><td>best_epoch</td><td>19</td></tr><tr><td>best_val_loss</td><td>1388.80176</td></tr><tr><td>epoch</td><td>44</td></tr><tr><td>epoch/accuracy</td><td>0.10605</td></tr><tr><td>epoch/epoch</td><td>44</td></tr><tr><td>epoch/learning_rate</td><td>0.01</td></tr><tr><td>epoch/loss</td><td>168.55595</td></tr><tr><td>epoch/val_accuracy</td><td>0.0403</td></tr><tr><td>epoch/val_loss</td><td>1767.05017</td></tr><tr><td>loss</td><td>168.55595</td></tr><tr><td>val_accuracy</td><td>0.0403</td></tr><tr><td>val_loss</td><td>1767.05017</td></tr></table><br/></div></div>"
            ]
          },
          "metadata": {}
        },
        {
          "output_type": "display_data",
          "data": {
            "text/plain": [
              "<IPython.core.display.HTML object>"
            ],
            "text/html": [
              " View run <strong style=\"color:#cdcd00\">rosy-sweep-7</strong> at: <a href='https://wandb.ai/pilwookmoon/lstm_sweep_colab/runs/64zbh9ye' target=\"_blank\">https://wandb.ai/pilwookmoon/lstm_sweep_colab/runs/64zbh9ye</a><br/>Synced 5 W&B file(s), 1 media file(s), 30 artifact file(s) and 1 other file(s)"
            ]
          },
          "metadata": {}
        },
        {
          "output_type": "display_data",
          "data": {
            "text/plain": [
              "<IPython.core.display.HTML object>"
            ],
            "text/html": [
              "Find logs at: <code>./wandb/run-20230503_080005-64zbh9ye/logs</code>"
            ]
          },
          "metadata": {}
        },
        {
          "output_type": "stream",
          "name": "stderr",
          "text": [
            "\u001b[34m\u001b[1mwandb\u001b[0m: Agent Starting Run: xwbdyg7s with config:\n",
            "\u001b[34m\u001b[1mwandb\u001b[0m: \tactivation: relu\n",
            "\u001b[34m\u001b[1mwandb\u001b[0m: \tbatch_size: 32\n",
            "\u001b[34m\u001b[1mwandb\u001b[0m: \tdropout: 0.1\n",
            "\u001b[34m\u001b[1mwandb\u001b[0m: \tepochs: 1000\n",
            "\u001b[34m\u001b[1mwandb\u001b[0m: \thidden_layer_size: 16\n",
            "\u001b[34m\u001b[1mwandb\u001b[0m: \tlearning_rate: 0.01\n",
            "\u001b[34m\u001b[1mwandb\u001b[0m: \tlstm_layer_size: 16\n",
            "\u001b[34m\u001b[1mwandb\u001b[0m: \toptimizer: adam\n",
            "\u001b[34m\u001b[1mwandb\u001b[0m: \ttime_step: 3\n"
          ]
        },
        {
          "output_type": "display_data",
          "data": {
            "text/plain": [
              "<IPython.core.display.HTML object>"
            ],
            "text/html": [
              "Tracking run with wandb version 0.15.1"
            ]
          },
          "metadata": {}
        },
        {
          "output_type": "display_data",
          "data": {
            "text/plain": [
              "<IPython.core.display.HTML object>"
            ],
            "text/html": [
              "Run data is saved locally in <code>/content/wandb/run-20230503_080838-xwbdyg7s</code>"
            ]
          },
          "metadata": {}
        },
        {
          "output_type": "display_data",
          "data": {
            "text/plain": [
              "<IPython.core.display.HTML object>"
            ],
            "text/html": [
              "Syncing run <strong><a href='https://wandb.ai/pilwookmoon/lstm_sweep_colab/runs/xwbdyg7s' target=\"_blank\">fallen-sweep-8</a></strong> to <a href='https://wandb.ai/pilwookmoon/lstm_sweep_colab' target=\"_blank\">Weights & Biases</a> (<a href='https://wandb.me/run' target=\"_blank\">docs</a>)<br/>Sweep page: <a href='https://wandb.ai/pilwookmoon/lstm_sweep_colab/sweeps/9v59afe8' target=\"_blank\">https://wandb.ai/pilwookmoon/lstm_sweep_colab/sweeps/9v59afe8</a>"
            ]
          },
          "metadata": {}
        },
        {
          "output_type": "display_data",
          "data": {
            "text/plain": [
              "<IPython.core.display.HTML object>"
            ],
            "text/html": [
              " View project at <a href='https://wandb.ai/pilwookmoon/lstm_sweep_colab' target=\"_blank\">https://wandb.ai/pilwookmoon/lstm_sweep_colab</a>"
            ]
          },
          "metadata": {}
        },
        {
          "output_type": "display_data",
          "data": {
            "text/plain": [
              "<IPython.core.display.HTML object>"
            ],
            "text/html": [
              " View sweep at <a href='https://wandb.ai/pilwookmoon/lstm_sweep_colab/sweeps/9v59afe8' target=\"_blank\">https://wandb.ai/pilwookmoon/lstm_sweep_colab/sweeps/9v59afe8</a>"
            ]
          },
          "metadata": {}
        },
        {
          "output_type": "display_data",
          "data": {
            "text/plain": [
              "<IPython.core.display.HTML object>"
            ],
            "text/html": [
              " View run at <a href='https://wandb.ai/pilwookmoon/lstm_sweep_colab/runs/xwbdyg7s' target=\"_blank\">https://wandb.ai/pilwookmoon/lstm_sweep_colab/runs/xwbdyg7s</a>"
            ]
          },
          "metadata": {}
        },
        {
          "output_type": "stream",
          "name": "stdout",
          "text": [
            "x shape :  (70080, 3, 25)\n",
            "y shape :  (70080, 25)\n"
          ]
        },
        {
          "output_type": "stream",
          "name": "stderr",
          "text": [
            "WARNING:tensorflow:Layer lstm will not use cuDNN kernels since it doesn't meet the criteria. It will use a generic GPU kernel as fallback when running on GPU.\n"
          ]
        },
        {
          "output_type": "stream",
          "name": "stdout",
          "text": [
            "x shape :  (17520, 3, 25)\n",
            "y shape :  (17520, 25)\n"
          ]
        },
        {
          "output_type": "stream",
          "name": "stderr",
          "text": [
            "/usr/local/lib/python3.10/dist-packages/keras/optimizers/legacy/adam.py:117: UserWarning: The `lr` argument is deprecated, use `learning_rate` instead.\n",
            "  super().__init__(name, **kwargs)\n"
          ]
        },
        {
          "output_type": "stream",
          "name": "stdout",
          "text": [
            "Epoch 1/1000\n",
            "2179/2190 [============================>.] - ETA: 0s - loss: 223.4493 - accuracy: 0.0780"
          ]
        },
        {
          "output_type": "stream",
          "name": "stderr",
          "text": [
            "\u001b[34m\u001b[1mwandb\u001b[0m: Adding directory to artifact (/content/wandb/run-20230503_080838-xwbdyg7s/files/model-best)... Done. 0.0s\n"
          ]
        },
        {
          "output_type": "stream",
          "name": "stdout",
          "text": [
            "\b\b\b\b\b\b\b\b\b\b\b\b\b\b\b\b\b\b\b\b\b\b\b\b\b\b\b\b\b\b\b\b\b\b\b\b\b\b\b\b\b\b\b\b\b\b\b\b\b\b\b\b\b\b\b\b\b\b\b\b\b\b\b\b\b\b\b\b\b\b\b\b\b\b\b\b\b\b\b\b\b\b\b\b\b\b\b\b\r2190/2190 [==============================] - 17s 7ms/step - loss: 223.1304 - accuracy: 0.0780 - val_loss: 1501.4551 - val_accuracy: 0.0461\n",
            "Epoch 2/1000\n",
            "2190/2190 [==============================] - 13s 6ms/step - loss: 171.9570 - accuracy: 0.0891 - val_loss: 1908.2861 - val_accuracy: 0.0390\n",
            "Epoch 3/1000\n",
            "2190/2190 [==============================] - 12s 5ms/step - loss: 175.6856 - accuracy: 0.0881 - val_loss: 1923.8993 - val_accuracy: 0.0482\n",
            "Epoch 4/1000\n",
            "2190/2190 [==============================] - 13s 6ms/step - loss: 170.4404 - accuracy: 0.0874 - val_loss: 1664.6458 - val_accuracy: 0.0340\n",
            "Epoch 5/1000\n",
            "2190/2190 [==============================] - 13s 6ms/step - loss: 167.5601 - accuracy: 0.0862 - val_loss: 1681.5912 - val_accuracy: 0.0296\n",
            "Epoch 6/1000\n",
            "2190/2190 [==============================] - 12s 5ms/step - loss: 170.5343 - accuracy: 0.0857 - val_loss: 1566.2074 - val_accuracy: 0.0390\n",
            "Epoch 7/1000\n",
            "2187/2190 [============================>.] - ETA: 0s - loss: 171.9310 - accuracy: 0.0872"
          ]
        },
        {
          "output_type": "stream",
          "name": "stderr",
          "text": [
            "\u001b[34m\u001b[1mwandb\u001b[0m: Adding directory to artifact (/content/wandb/run-20230503_080838-xwbdyg7s/files/model-best)... Done. 0.0s\n"
          ]
        },
        {
          "output_type": "stream",
          "name": "stdout",
          "text": [
            "\b\b\b\b\b\b\b\b\b\b\b\b\b\b\b\b\b\b\b\b\b\b\b\b\b\b\b\b\b\b\b\b\b\b\b\b\b\b\b\b\b\b\b\b\b\b\b\b\b\b\b\b\b\b\b\b\b\b\b\b\b\b\b\b\b\b\b\b\b\b\b\b\b\b\b\b\b\b\b\b\b\b\b\b\b\b\b\b\r2190/2190 [==============================] - 14s 6ms/step - loss: 171.8754 - accuracy: 0.0871 - val_loss: 1491.4198 - val_accuracy: 0.0557\n",
            "Epoch 8/1000\n",
            "2190/2190 [==============================] - 13s 6ms/step - loss: 173.3082 - accuracy: 0.0855 - val_loss: 1969.3450 - val_accuracy: 0.0398\n",
            "Epoch 9/1000\n",
            "2190/2190 [==============================] - 12s 5ms/step - loss: 168.9623 - accuracy: 0.0861 - val_loss: 2038.0116 - val_accuracy: 0.0349\n",
            "Epoch 10/1000\n",
            "2185/2190 [============================>.] - ETA: 0s - loss: 171.4376 - accuracy: 0.0875"
          ]
        },
        {
          "output_type": "stream",
          "name": "stderr",
          "text": [
            "\u001b[34m\u001b[1mwandb\u001b[0m: Adding directory to artifact (/content/wandb/run-20230503_080838-xwbdyg7s/files/model-best)... Done. 0.0s\n"
          ]
        },
        {
          "output_type": "stream",
          "name": "stdout",
          "text": [
            "\b\b\b\b\b\b\b\b\b\b\b\b\b\b\b\b\b\b\b\b\b\b\b\b\b\b\b\b\b\b\b\b\b\b\b\b\b\b\b\b\b\b\b\b\b\b\b\b\b\b\b\b\b\b\b\b\b\b\b\b\b\b\b\b\b\b\b\b\b\b\b\b\b\b\b\b\b\b\b\b\b\b\b\b\b\b\b\b\r2190/2190 [==============================] - 14s 7ms/step - loss: 171.4713 - accuracy: 0.0875 - val_loss: 1478.4957 - val_accuracy: 0.0433\n",
            "Epoch 11/1000\n",
            "2188/2190 [============================>.] - ETA: 0s - loss: 186.5909 - accuracy: 0.0823"
          ]
        },
        {
          "output_type": "stream",
          "name": "stderr",
          "text": [
            "\u001b[34m\u001b[1mwandb\u001b[0m: Adding directory to artifact (/content/wandb/run-20230503_080838-xwbdyg7s/files/model-best)... Done. 0.0s\n"
          ]
        },
        {
          "output_type": "stream",
          "name": "stdout",
          "text": [
            "\b\b\b\b\b\b\b\b\b\b\b\b\b\b\b\b\b\b\b\b\b\b\b\b\b\b\b\b\b\b\b\b\b\b\b\b\b\b\b\b\b\b\b\b\b\b\b\b\b\b\b\b\b\b\b\b\b\b\b\b\b\b\b\b\b\b\b\b\b\b\b\b\b\b\b\b\b\b\b\b\b\b\b\b\b\b\b\b\r2190/2190 [==============================] - 14s 6ms/step - loss: 186.6935 - accuracy: 0.0823 - val_loss: 1021.5682 - val_accuracy: 0.0217\n",
            "Epoch 12/1000\n",
            "2190/2190 [==============================] - 12s 6ms/step - loss: 269.8224 - accuracy: 0.0718 - val_loss: 1819.5924 - val_accuracy: 0.0114\n",
            "Epoch 13/1000\n",
            "2190/2190 [==============================] - 13s 6ms/step - loss: 299.9608 - accuracy: 0.0717 - val_loss: 1368.3701 - val_accuracy: 0.0167\n",
            "Epoch 14/1000\n",
            "2190/2190 [==============================] - 12s 6ms/step - loss: 312.6877 - accuracy: 0.0745 - val_loss: 1201.8035 - val_accuracy: 0.0357\n",
            "Epoch 15/1000\n",
            "2190/2190 [==============================] - 12s 6ms/step - loss: 309.7203 - accuracy: 0.0739 - val_loss: 1438.9417 - val_accuracy: 0.0225\n",
            "Epoch 16/1000\n",
            "2190/2190 [==============================] - 11s 5ms/step - loss: 387.5205 - accuracy: 0.0745 - val_loss: 1424.6121 - val_accuracy: 0.0275\n",
            "Epoch 17/1000\n",
            "2190/2190 [==============================] - 12s 5ms/step - loss: 379.3911 - accuracy: 0.0751 - val_loss: 1250.5970 - val_accuracy: 0.0269\n",
            "Epoch 18/1000\n",
            "2190/2190 [==============================] - 13s 6ms/step - loss: 385.8810 - accuracy: 0.0743 - val_loss: 1441.9510 - val_accuracy: 0.0264\n",
            "Epoch 19/1000\n",
            "2190/2190 [==============================] - 12s 5ms/step - loss: 384.0664 - accuracy: 0.0739 - val_loss: 1040.0544 - val_accuracy: 0.0360\n",
            "Epoch 20/1000\n",
            "2190/2190 [==============================] - 12s 5ms/step - loss: 358.9096 - accuracy: 0.0743 - val_loss: 1370.0052 - val_accuracy: 0.0348\n",
            "Epoch 21/1000\n",
            "2190/2190 [==============================] - 12s 6ms/step - loss: 371.3893 - accuracy: 0.0740 - val_loss: 1210.7245 - val_accuracy: 0.0192\n",
            "Epoch 22/1000\n",
            "2190/2190 [==============================] - 12s 5ms/step - loss: 377.0516 - accuracy: 0.0739 - val_loss: 1393.8558 - val_accuracy: 0.0215\n",
            "Epoch 23/1000\n",
            "2190/2190 [==============================] - 12s 5ms/step - loss: 356.6480 - accuracy: 0.0736 - val_loss: 1090.4855 - val_accuracy: 0.0281\n",
            "Epoch 24/1000\n",
            "2190/2190 [==============================] - 12s 5ms/step - loss: 360.7289 - accuracy: 0.0731 - val_loss: 1078.6709 - val_accuracy: 0.0227\n",
            "Epoch 25/1000\n",
            "2190/2190 [==============================] - 13s 6ms/step - loss: 370.2661 - accuracy: 0.0745 - val_loss: 1531.0096 - val_accuracy: 0.0229\n",
            "Epoch 26/1000\n",
            "2190/2190 [==============================] - 12s 5ms/step - loss: 361.0667 - accuracy: 0.0737 - val_loss: 1232.1637 - val_accuracy: 0.0340\n",
            "Epoch 27/1000\n",
            "2190/2190 [==============================] - 13s 6ms/step - loss: 372.8520 - accuracy: 0.0744 - val_loss: 1256.8347 - val_accuracy: 0.0174\n",
            "Epoch 28/1000\n",
            "2190/2190 [==============================] - 12s 5ms/step - loss: 366.2764 - accuracy: 0.0743 - val_loss: 1221.9149 - val_accuracy: 0.0192\n",
            "Epoch 29/1000\n",
            "2190/2190 [==============================] - 13s 6ms/step - loss: 371.6078 - accuracy: 0.0737 - val_loss: 1313.4243 - val_accuracy: 0.0465\n",
            "Epoch 30/1000\n",
            "2190/2190 [==============================] - 12s 5ms/step - loss: 396.3392 - accuracy: 0.0741 - val_loss: 1698.6356 - val_accuracy: 0.0239\n",
            "Epoch 31/1000\n",
            "2190/2190 [==============================] - 12s 6ms/step - loss: 386.2847 - accuracy: 0.0739 - val_loss: 1177.0118 - val_accuracy: 0.0188\n",
            "Epoch 32/1000\n",
            "2190/2190 [==============================] - 12s 6ms/step - loss: 378.6797 - accuracy: 0.0743 - val_loss: 1320.5160 - val_accuracy: 0.0269\n"
          ]
        },
        {
          "output_type": "display_data",
          "data": {
            "text/plain": [
              "<IPython.core.display.HTML object>"
            ],
            "text/html": [
              "Waiting for W&B process to finish... <strong style=\"color:green\">(success).</strong>"
            ]
          },
          "metadata": {}
        },
        {
          "output_type": "display_data",
          "data": {
            "text/plain": [
              "VBox(children=(Label(value='1.628 MB of 1.628 MB uploaded (0.034 MB deduped)\\r'), FloatProgress(value=1.0, max…"
            ],
            "application/vnd.jupyter.widget-view+json": {
              "version_major": 2,
              "version_minor": 0,
              "model_id": "b135224c329d44aab7b4c7c1e5907751"
            }
          },
          "metadata": {}
        },
        {
          "output_type": "display_data",
          "data": {
            "text/plain": [
              "<IPython.core.display.HTML object>"
            ],
            "text/html": [
              "<style>\n",
              "    table.wandb td:nth-child(1) { padding: 0 10px; text-align: left ; width: auto;} td:nth-child(2) {text-align: left ; width: 100%}\n",
              "    .wandb-row { display: flex; flex-direction: row; flex-wrap: wrap; justify-content: flex-start; width: 100% }\n",
              "    .wandb-col { display: flex; flex-direction: column; flex-basis: 100%; flex: 1; padding: 10px; }\n",
              "    </style>\n",
              "<div class=\"wandb-row\"><div class=\"wandb-col\"><h3>Run history:</h3><br/><table class=\"wandb\"><tr><td>accuracy</td><td>▄██▇▇▇▇▇▇▇▅▁▁▂▂▂▂▂▂▂▂▂▂▂▂▂▂▂▂▂▂▂</td></tr><tr><td>epoch</td><td>▁▁▁▂▂▂▂▃▃▃▃▃▄▄▄▄▅▅▅▅▆▆▆▆▆▇▇▇▇███</td></tr><tr><td>epoch/accuracy</td><td>▄██▇▇▇▇▇▇▇▅▁▁▂▂▂▂▂▂▂▂▂▂▂▂▂▂▂▂▂▂▂</td></tr><tr><td>epoch/epoch</td><td>▁▁▁▂▂▂▂▃▃▃▃▃▄▄▄▄▅▅▅▅▆▆▆▆▆▇▇▇▇███</td></tr><tr><td>epoch/learning_rate</td><td>▁▁▁▁▁▁▁▁▁▁▁▁▁▁▁▁▁▁▁▁▁▁▁▁▁▁▁▁▁▁▁▁</td></tr><tr><td>epoch/loss</td><td>▃▁▁▁▁▁▁▁▁▁▂▄▅▅▅█▇██▇▇▇▇▇▇▇▇▇▇██▇</td></tr><tr><td>epoch/val_accuracy</td><td>▆▅▇▅▄▅█▅▅▆▃▁▂▅▃▄▃▃▅▅▂▃▄▃▃▅▂▂▇▃▂▃</td></tr><tr><td>epoch/val_loss</td><td>▄▇▇▅▆▅▄██▄▁▆▃▂▄▄▃▄▁▃▂▄▁▁▅▂▃▂▃▆▂▃</td></tr><tr><td>loss</td><td>▃▁▁▁▁▁▁▁▁▁▂▄▅▅▅█▇██▇▇▇▇▇▇▇▇▇▇██▇</td></tr><tr><td>val_accuracy</td><td>▆▅▇▅▄▅█▅▅▆▃▁▂▅▃▄▃▃▅▅▂▃▄▃▃▅▂▂▇▃▂▃</td></tr><tr><td>val_loss</td><td>▄▇▇▅▆▅▄██▄▁▆▃▂▄▄▃▄▁▃▂▄▁▁▅▂▃▂▃▆▂▃</td></tr></table><br/></div><div class=\"wandb-col\"><h3>Run summary:</h3><br/><table class=\"wandb\"><tr><td>accuracy</td><td>0.07434</td></tr><tr><td>best_epoch</td><td>10</td></tr><tr><td>best_val_loss</td><td>1021.56824</td></tr><tr><td>epoch</td><td>31</td></tr><tr><td>epoch/accuracy</td><td>0.07434</td></tr><tr><td>epoch/epoch</td><td>31</td></tr><tr><td>epoch/learning_rate</td><td>0.01</td></tr><tr><td>epoch/loss</td><td>378.67972</td></tr><tr><td>epoch/val_accuracy</td><td>0.02694</td></tr><tr><td>epoch/val_loss</td><td>1320.51599</td></tr><tr><td>loss</td><td>378.67972</td></tr><tr><td>val_accuracy</td><td>0.02694</td></tr><tr><td>val_loss</td><td>1320.51599</td></tr></table><br/></div></div>"
            ]
          },
          "metadata": {}
        },
        {
          "output_type": "display_data",
          "data": {
            "text/plain": [
              "<IPython.core.display.HTML object>"
            ],
            "text/html": [
              " View run <strong style=\"color:#cdcd00\">fallen-sweep-8</strong> at: <a href='https://wandb.ai/pilwookmoon/lstm_sweep_colab/runs/xwbdyg7s' target=\"_blank\">https://wandb.ai/pilwookmoon/lstm_sweep_colab/runs/xwbdyg7s</a><br/>Synced 5 W&B file(s), 1 media file(s), 20 artifact file(s) and 1 other file(s)"
            ]
          },
          "metadata": {}
        },
        {
          "output_type": "display_data",
          "data": {
            "text/plain": [
              "<IPython.core.display.HTML object>"
            ],
            "text/html": [
              "Find logs at: <code>./wandb/run-20230503_080838-xwbdyg7s/logs</code>"
            ]
          },
          "metadata": {}
        },
        {
          "output_type": "stream",
          "name": "stderr",
          "text": [
            "\u001b[34m\u001b[1mwandb\u001b[0m: Agent Starting Run: wxy010le with config:\n",
            "\u001b[34m\u001b[1mwandb\u001b[0m: \tactivation: relu\n",
            "\u001b[34m\u001b[1mwandb\u001b[0m: \tbatch_size: 32\n",
            "\u001b[34m\u001b[1mwandb\u001b[0m: \tdropout: 0.1\n",
            "\u001b[34m\u001b[1mwandb\u001b[0m: \tepochs: 1000\n",
            "\u001b[34m\u001b[1mwandb\u001b[0m: \thidden_layer_size: 16\n",
            "\u001b[34m\u001b[1mwandb\u001b[0m: \tlearning_rate: 0.01\n",
            "\u001b[34m\u001b[1mwandb\u001b[0m: \tlstm_layer_size: 16\n",
            "\u001b[34m\u001b[1mwandb\u001b[0m: \toptimizer: adam\n",
            "\u001b[34m\u001b[1mwandb\u001b[0m: \ttime_step: 5\n"
          ]
        },
        {
          "output_type": "display_data",
          "data": {
            "text/plain": [
              "<IPython.core.display.HTML object>"
            ],
            "text/html": [
              "Tracking run with wandb version 0.15.1"
            ]
          },
          "metadata": {}
        },
        {
          "output_type": "display_data",
          "data": {
            "text/plain": [
              "<IPython.core.display.HTML object>"
            ],
            "text/html": [
              "Run data is saved locally in <code>/content/wandb/run-20230503_081609-wxy010le</code>"
            ]
          },
          "metadata": {}
        },
        {
          "output_type": "display_data",
          "data": {
            "text/plain": [
              "<IPython.core.display.HTML object>"
            ],
            "text/html": [
              "Syncing run <strong><a href='https://wandb.ai/pilwookmoon/lstm_sweep_colab/runs/wxy010le' target=\"_blank\">stellar-sweep-9</a></strong> to <a href='https://wandb.ai/pilwookmoon/lstm_sweep_colab' target=\"_blank\">Weights & Biases</a> (<a href='https://wandb.me/run' target=\"_blank\">docs</a>)<br/>Sweep page: <a href='https://wandb.ai/pilwookmoon/lstm_sweep_colab/sweeps/9v59afe8' target=\"_blank\">https://wandb.ai/pilwookmoon/lstm_sweep_colab/sweeps/9v59afe8</a>"
            ]
          },
          "metadata": {}
        },
        {
          "output_type": "display_data",
          "data": {
            "text/plain": [
              "<IPython.core.display.HTML object>"
            ],
            "text/html": [
              " View project at <a href='https://wandb.ai/pilwookmoon/lstm_sweep_colab' target=\"_blank\">https://wandb.ai/pilwookmoon/lstm_sweep_colab</a>"
            ]
          },
          "metadata": {}
        },
        {
          "output_type": "display_data",
          "data": {
            "text/plain": [
              "<IPython.core.display.HTML object>"
            ],
            "text/html": [
              " View sweep at <a href='https://wandb.ai/pilwookmoon/lstm_sweep_colab/sweeps/9v59afe8' target=\"_blank\">https://wandb.ai/pilwookmoon/lstm_sweep_colab/sweeps/9v59afe8</a>"
            ]
          },
          "metadata": {}
        },
        {
          "output_type": "display_data",
          "data": {
            "text/plain": [
              "<IPython.core.display.HTML object>"
            ],
            "text/html": [
              " View run at <a href='https://wandb.ai/pilwookmoon/lstm_sweep_colab/runs/wxy010le' target=\"_blank\">https://wandb.ai/pilwookmoon/lstm_sweep_colab/runs/wxy010le</a>"
            ]
          },
          "metadata": {}
        },
        {
          "output_type": "stream",
          "name": "stdout",
          "text": [
            "x shape :  (70080, 5, 25)\n",
            "y shape :  (70080, 25)\n"
          ]
        },
        {
          "output_type": "stream",
          "name": "stderr",
          "text": [
            "WARNING:tensorflow:Layer lstm will not use cuDNN kernels since it doesn't meet the criteria. It will use a generic GPU kernel as fallback when running on GPU.\n"
          ]
        },
        {
          "output_type": "stream",
          "name": "stdout",
          "text": [
            "x shape :  (17520, 5, 25)\n",
            "y shape :  (17520, 25)\n"
          ]
        },
        {
          "output_type": "stream",
          "name": "stderr",
          "text": [
            "/usr/local/lib/python3.10/dist-packages/keras/optimizers/legacy/adam.py:117: UserWarning: The `lr` argument is deprecated, use `learning_rate` instead.\n",
            "  super().__init__(name, **kwargs)\n"
          ]
        },
        {
          "output_type": "stream",
          "name": "stdout",
          "text": [
            "Epoch 1/1000\n",
            "2189/2190 [============================>.] - ETA: 0s - loss: 224.0932 - accuracy: 0.0603"
          ]
        },
        {
          "output_type": "stream",
          "name": "stderr",
          "text": [
            "\u001b[34m\u001b[1mwandb\u001b[0m: Adding directory to artifact (/content/wandb/run-20230503_081609-wxy010le/files/model-best)... Done. 0.0s\n"
          ]
        },
        {
          "output_type": "stream",
          "name": "stdout",
          "text": [
            "\b\b\b\b\b\b\b\b\b\b\b\b\b\b\b\b\b\b\b\b\b\b\b\b\b\b\b\b\b\b\b\b\b\b\b\b\b\b\b\b\b\b\b\b\b\b\b\b\b\b\b\b\b\b\b\b\b\b\b\b\b\b\b\b\b\b\b\b\b\b\b\b\b\b\b\b\b\b\b\b\b\b\b\b\b\b\b\b\r2190/2190 [==============================] - 19s 8ms/step - loss: 224.0415 - accuracy: 0.0603 - val_loss: 1515.2659 - val_accuracy: 0.0355\n",
            "Epoch 2/1000\n",
            "2185/2190 [============================>.] - ETA: 0s - loss: 195.6355 - accuracy: 0.0819"
          ]
        },
        {
          "output_type": "stream",
          "name": "stderr",
          "text": [
            "\u001b[34m\u001b[1mwandb\u001b[0m: Adding directory to artifact (/content/wandb/run-20230503_081609-wxy010le/files/model-best)... Done. 0.0s\n"
          ]
        },
        {
          "output_type": "stream",
          "name": "stdout",
          "text": [
            "\b\b\b\b\b\b\b\b\b\b\b\b\b\b\b\b\b\b\b\b\b\b\b\b\b\b\b\b\b\b\b\b\b\b\b\b\b\b\b\b\b\b\b\b\b\b\b\b\b\b\b\b\b\b\b\b\b\b\b\b\b\b\b\b\b\b\b\b\b\b\b\b\b\b\b\b\b\b\b\b\b\b\b\b\b\b\b\b\r2190/2190 [==============================] - 17s 8ms/step - loss: 195.5551 - accuracy: 0.0819 - val_loss: 1462.7559 - val_accuracy: 0.0411\n",
            "Epoch 3/1000\n",
            "2190/2190 [==============================] - 17s 8ms/step - loss: 175.2132 - accuracy: 0.0835 - val_loss: 1599.3333 - val_accuracy: 0.0392\n",
            "Epoch 4/1000\n",
            "2190/2190 [==============================] - 20s 9ms/step - loss: 197.3873 - accuracy: 0.0768 - val_loss: 1727.1323 - val_accuracy: 0.0745\n",
            "Epoch 5/1000\n",
            "2190/2190 [==============================] - 15s 7ms/step - loss: 208.0645 - accuracy: 0.0784 - val_loss: 1933.2109 - val_accuracy: 0.0138\n",
            "Epoch 6/1000\n",
            "2190/2190 [==============================] - 15s 7ms/step - loss: 249.2671 - accuracy: 0.0757 - val_loss: 1650.1436 - val_accuracy: 0.0221\n",
            "Epoch 7/1000\n",
            "2190/2190 [==============================] - 15s 7ms/step - loss: 274.2180 - accuracy: 0.0761 - val_loss: 1517.4890 - val_accuracy: 0.0215\n",
            "Epoch 8/1000\n",
            "2189/2190 [============================>.] - ETA: 0s - loss: 259.4392 - accuracy: 0.0834"
          ]
        },
        {
          "output_type": "stream",
          "name": "stderr",
          "text": [
            "\u001b[34m\u001b[1mwandb\u001b[0m: Adding directory to artifact (/content/wandb/run-20230503_081609-wxy010le/files/model-best)... Done. 0.0s\n"
          ]
        },
        {
          "output_type": "stream",
          "name": "stdout",
          "text": [
            "\b\b\b\b\b\b\b\b\b\b\b\b\b\b\b\b\b\b\b\b\b\b\b\b\b\b\b\b\b\b\b\b\b\b\b\b\b\b\b\b\b\b\b\b\b\b\b\b\b\b\b\b\b\b\b\b\b\b\b\b\b\b\b\b\b\b\b\b\b\b\b\b\b\b\b\b\b\b\b\b\b\b\b\b\b\b\b\b\r2190/2190 [==============================] - 18s 8ms/step - loss: 259.4540 - accuracy: 0.0834 - val_loss: 1123.2014 - val_accuracy: 0.0298\n",
            "Epoch 9/1000\n",
            "2190/2190 [==============================] - 15s 7ms/step - loss: 270.8199 - accuracy: 0.0860 - val_loss: 1137.6364 - val_accuracy: 0.0325\n",
            "Epoch 10/1000\n",
            "2190/2190 [==============================] - 15s 7ms/step - loss: 329.3786 - accuracy: 0.0799 - val_loss: 1558.0150 - val_accuracy: 0.0182\n",
            "Epoch 11/1000\n",
            "2190/2190 [==============================] - 15s 7ms/step - loss: 355.7384 - accuracy: 0.0769 - val_loss: 1380.0864 - val_accuracy: 0.0170\n",
            "Epoch 12/1000\n",
            "2190/2190 [==============================] - 14s 6ms/step - loss: 337.2529 - accuracy: 0.0804 - val_loss: 1459.3148 - val_accuracy: 0.0364\n",
            "Epoch 13/1000\n",
            "2190/2190 [==============================] - 15s 7ms/step - loss: 356.3658 - accuracy: 0.0785 - val_loss: 1203.3256 - val_accuracy: 0.0288\n",
            "Epoch 14/1000\n",
            "2188/2190 [============================>.] - ETA: 0s - loss: 353.4072 - accuracy: 0.0761"
          ]
        },
        {
          "output_type": "stream",
          "name": "stderr",
          "text": [
            "\u001b[34m\u001b[1mwandb\u001b[0m: Adding directory to artifact (/content/wandb/run-20230503_081609-wxy010le/files/model-best)... Done. 0.0s\n"
          ]
        },
        {
          "output_type": "stream",
          "name": "stdout",
          "text": [
            "\b\b\b\b\b\b\b\b\b\b\b\b\b\b\b\b\b\b\b\b\b\b\b\b\b\b\b\b\b\b\b\b\b\b\b\b\b\b\b\b\b\b\b\b\b\b\b\b\b\b\b\b\b\b\b\b\b\b\b\b\b\b\b\b\b\b\b\b\b\b\b\b\b\b\b\b\b\b\b\b\b\b\b\b\b\b\b\b\r2190/2190 [==============================] - 17s 8ms/step - loss: 353.2679 - accuracy: 0.0761 - val_loss: 1067.8453 - val_accuracy: 0.0292\n",
            "Epoch 15/1000\n",
            "2190/2190 [==============================] - 14s 7ms/step - loss: 333.4535 - accuracy: 0.0748 - val_loss: 1266.1870 - val_accuracy: 0.0232\n",
            "Epoch 16/1000\n",
            "2184/2190 [============================>.] - ETA: 0s - loss: 314.0248 - accuracy: 0.0777"
          ]
        },
        {
          "output_type": "stream",
          "name": "stderr",
          "text": [
            "\u001b[34m\u001b[1mwandb\u001b[0m: Adding directory to artifact (/content/wandb/run-20230503_081609-wxy010le/files/model-best)... Done. 0.0s\n"
          ]
        },
        {
          "output_type": "stream",
          "name": "stdout",
          "text": [
            "\b\b\b\b\b\b\b\b\b\b\b\b\b\b\b\b\b\b\b\b\b\b\b\b\b\b\b\b\b\b\b\b\b\b\b\b\b\b\b\b\b\b\b\b\b\b\b\b\b\b\b\b\b\b\b\b\b\b\b\b\b\b\b\b\b\b\b\b\b\b\b\b\b\b\b\b\b\b\b\b\b\b\b\b\b\b\b\b\r2190/2190 [==============================] - 17s 8ms/step - loss: 313.8066 - accuracy: 0.0777 - val_loss: 1060.3984 - val_accuracy: 0.0274\n",
            "Epoch 17/1000\n",
            "2190/2190 [==============================] - 15s 7ms/step - loss: 319.8236 - accuracy: 0.0749 - val_loss: 1452.6713 - val_accuracy: 0.0267\n",
            "Epoch 18/1000\n",
            "2190/2190 [==============================] - 15s 7ms/step - loss: 317.2383 - accuracy: 0.0758 - val_loss: 1587.9510 - val_accuracy: 0.0229\n",
            "Epoch 19/1000\n",
            "2190/2190 [==============================] - 16s 7ms/step - loss: 330.7350 - accuracy: 0.0751 - val_loss: 1347.0520 - val_accuracy: 0.0248\n",
            "Epoch 20/1000\n",
            "2190/2190 [==============================] - 15s 7ms/step - loss: 345.4553 - accuracy: 0.0755 - val_loss: 1734.8773 - val_accuracy: 0.0242\n",
            "Epoch 21/1000\n",
            "2190/2190 [==============================] - 14s 7ms/step - loss: 315.3156 - accuracy: 0.0763 - val_loss: 1356.6981 - val_accuracy: 0.0207\n",
            "Epoch 22/1000\n",
            "2190/2190 [==============================] - 15s 7ms/step - loss: 310.9226 - accuracy: 0.0752 - val_loss: 1212.0312 - val_accuracy: 0.0217\n",
            "Epoch 23/1000\n",
            "2190/2190 [==============================] - 15s 7ms/step - loss: 326.6287 - accuracy: 0.0749 - val_loss: 1299.6917 - val_accuracy: 0.0250\n",
            "Epoch 24/1000\n",
            "2190/2190 [==============================] - 15s 7ms/step - loss: 322.8893 - accuracy: 0.0739 - val_loss: 1215.4730 - val_accuracy: 0.0198\n",
            "Epoch 25/1000\n",
            "2190/2190 [==============================] - 15s 7ms/step - loss: 322.7567 - accuracy: 0.0741 - val_loss: 1247.8148 - val_accuracy: 0.0233\n",
            "Epoch 26/1000\n",
            "2190/2190 [==============================] - 14s 7ms/step - loss: 329.6349 - accuracy: 0.0732 - val_loss: 1239.6576 - val_accuracy: 0.0266\n",
            "Epoch 27/1000\n",
            "2190/2190 [==============================] - 14s 7ms/step - loss: 324.2206 - accuracy: 0.0733 - val_loss: 1250.3284 - val_accuracy: 0.0231\n",
            "Epoch 28/1000\n",
            "2190/2190 [==============================] - 14s 7ms/step - loss: 298.7512 - accuracy: 0.0801 - val_loss: 1278.4244 - val_accuracy: 0.0267\n",
            "Epoch 29/1000\n",
            "2190/2190 [==============================] - 15s 7ms/step - loss: 279.5388 - accuracy: 0.0800 - val_loss: 1436.6162 - val_accuracy: 0.0265\n",
            "Epoch 30/1000\n",
            "2190/2190 [==============================] - 14s 7ms/step - loss: 284.8416 - accuracy: 0.0785 - val_loss: 1314.6145 - val_accuracy: 0.0224\n",
            "Epoch 31/1000\n",
            "2190/2190 [==============================] - 14s 7ms/step - loss: 271.2303 - accuracy: 0.0772 - val_loss: 1280.3715 - val_accuracy: 0.0220\n",
            "Epoch 32/1000\n",
            "2190/2190 [==============================] - 15s 7ms/step - loss: 253.9739 - accuracy: 0.0758 - val_loss: 1402.5559 - val_accuracy: 0.0227\n",
            "Epoch 33/1000\n",
            "2190/2190 [==============================] - 14s 7ms/step - loss: 235.0020 - accuracy: 0.0735 - val_loss: 1449.5547 - val_accuracy: 0.0183\n",
            "Epoch 34/1000\n",
            "2190/2190 [==============================] - 15s 7ms/step - loss: 270.6201 - accuracy: 0.0714 - val_loss: 1385.8364 - val_accuracy: 0.0199\n",
            "Epoch 35/1000\n",
            "2190/2190 [==============================] - 15s 7ms/step - loss: 258.7279 - accuracy: 0.0701 - val_loss: 1291.2418 - val_accuracy: 0.0225\n",
            "Epoch 36/1000\n",
            "2190/2190 [==============================] - 15s 7ms/step - loss: 303.1385 - accuracy: 0.0683 - val_loss: 1377.7603 - val_accuracy: 0.0169\n",
            "Epoch 37/1000\n",
            "2190/2190 [==============================] - 15s 7ms/step - loss: 290.2096 - accuracy: 0.0669 - val_loss: 1339.3909 - val_accuracy: 0.0166\n",
            "Epoch 38/1000\n",
            "2190/2190 [==============================] - 15s 7ms/step - loss: 269.6990 - accuracy: 0.0662 - val_loss: 1292.3489 - val_accuracy: 0.0193\n",
            "Epoch 39/1000\n",
            "2190/2190 [==============================] - 14s 7ms/step - loss: 253.2427 - accuracy: 0.0657 - val_loss: 1424.7677 - val_accuracy: 0.0203\n"
          ]
        },
        {
          "output_type": "display_data",
          "data": {
            "text/plain": [
              "<IPython.core.display.HTML object>"
            ],
            "text/html": [
              "Waiting for W&B process to finish... <strong style=\"color:green\">(success).</strong>"
            ]
          },
          "metadata": {}
        },
        {
          "output_type": "display_data",
          "data": {
            "text/plain": [
              "VBox(children=(Label(value='2.016 MB of 2.016 MB uploaded (0.046 MB deduped)\\r'), FloatProgress(value=1.0, max…"
            ],
            "application/vnd.jupyter.widget-view+json": {
              "version_major": 2,
              "version_minor": 0,
              "model_id": "c051c374c1e2421da4a9ddd769806422"
            }
          },
          "metadata": {}
        },
        {
          "output_type": "display_data",
          "data": {
            "text/plain": [
              "<IPython.core.display.HTML object>"
            ],
            "text/html": [
              "<style>\n",
              "    table.wandb td:nth-child(1) { padding: 0 10px; text-align: left ; width: auto;} td:nth-child(2) {text-align: left ; width: 100%}\n",
              "    .wandb-row { display: flex; flex-direction: row; flex-wrap: wrap; justify-content: flex-start; width: 100% }\n",
              "    .wandb-col { display: flex; flex-direction: column; flex-basis: 100%; flex: 1; padding: 10px; }\n",
              "    </style>\n",
              "<div class=\"wandb-row\"><div class=\"wandb-col\"><h3>Run history:</h3><br/><table class=\"wandb\"><tr><td>accuracy</td><td>▁▇▇▅▆▅▅▇█▆▆▆▆▅▅▆▅▅▅▅▅▅▅▅▅▅▅▆▆▆▆▅▅▄▄▃▃▃▂</td></tr><tr><td>epoch</td><td>▁▁▁▂▂▂▂▂▂▃▃▃▃▃▄▄▄▄▄▅▅▅▅▅▅▆▆▆▆▆▇▇▇▇▇▇███</td></tr><tr><td>epoch/accuracy</td><td>▁▇▇▅▆▅▅▇█▆▆▆▆▅▅▆▅▅▅▅▅▅▅▅▅▅▅▆▆▆▆▅▅▄▄▃▃▃▂</td></tr><tr><td>epoch/epoch</td><td>▁▁▁▂▂▂▂▂▂▃▃▃▃▃▄▄▄▄▄▅▅▅▅▅▅▆▆▆▆▆▇▇▇▇▇▇███</td></tr><tr><td>epoch/learning_rate</td><td>▁▁▁▁▁▁▁▁▁▁▁▁▁▁▁▁▁▁▁▁▁▁▁▁▁▁▁▁▁▁▁▁▁▁▁▁▁▁▁</td></tr><tr><td>epoch/loss</td><td>▃▂▁▂▂▄▅▄▅▇█▇██▇▆▇▆▇█▆▆▇▇▇▇▇▆▅▅▅▄▃▅▄▆▅▅▄</td></tr><tr><td>epoch/val_accuracy</td><td>▄▄▄█▁▂▂▃▃▂▁▄▃▃▂▃▂▂▂▂▂▂▂▂▂▂▂▂▂▂▂▂▂▂▂▁▁▂▂</td></tr><tr><td>epoch/val_loss</td><td>▅▄▅▆█▆▅▂▂▅▄▄▂▁▃▁▄▅▃▆▃▂▃▂▃▂▃▃▄▃▃▄▄▄▃▄▃▃▄</td></tr><tr><td>loss</td><td>▃▂▁▂▂▄▅▄▅▇█▇██▇▆▇▆▇█▆▆▇▇▇▇▇▆▅▅▅▄▃▅▄▆▅▅▄</td></tr><tr><td>val_accuracy</td><td>▄▄▄█▁▂▂▃▃▂▁▄▃▃▂▃▂▂▂▂▂▂▂▂▂▂▂▂▂▂▂▂▂▂▂▁▁▂▂</td></tr><tr><td>val_loss</td><td>▅▄▅▆█▆▅▂▂▅▄▄▂▁▃▁▄▅▃▆▃▂▃▂▃▂▃▃▄▃▃▄▄▄▃▄▃▃▄</td></tr></table><br/></div><div class=\"wandb-col\"><h3>Run summary:</h3><br/><table class=\"wandb\"><tr><td>accuracy</td><td>0.06568</td></tr><tr><td>best_epoch</td><td>15</td></tr><tr><td>best_val_loss</td><td>1060.39844</td></tr><tr><td>epoch</td><td>38</td></tr><tr><td>epoch/accuracy</td><td>0.06568</td></tr><tr><td>epoch/epoch</td><td>38</td></tr><tr><td>epoch/learning_rate</td><td>0.01</td></tr><tr><td>epoch/loss</td><td>253.24266</td></tr><tr><td>epoch/val_accuracy</td><td>0.02026</td></tr><tr><td>epoch/val_loss</td><td>1424.7677</td></tr><tr><td>loss</td><td>253.24266</td></tr><tr><td>val_accuracy</td><td>0.02026</td></tr><tr><td>val_loss</td><td>1424.7677</td></tr></table><br/></div></div>"
            ]
          },
          "metadata": {}
        },
        {
          "output_type": "display_data",
          "data": {
            "text/plain": [
              "<IPython.core.display.HTML object>"
            ],
            "text/html": [
              " View run <strong style=\"color:#cdcd00\">stellar-sweep-9</strong> at: <a href='https://wandb.ai/pilwookmoon/lstm_sweep_colab/runs/wxy010le' target=\"_blank\">https://wandb.ai/pilwookmoon/lstm_sweep_colab/runs/wxy010le</a><br/>Synced 5 W&B file(s), 1 media file(s), 25 artifact file(s) and 1 other file(s)"
            ]
          },
          "metadata": {}
        },
        {
          "output_type": "display_data",
          "data": {
            "text/plain": [
              "<IPython.core.display.HTML object>"
            ],
            "text/html": [
              "Find logs at: <code>./wandb/run-20230503_081609-wxy010le/logs</code>"
            ]
          },
          "metadata": {}
        },
        {
          "output_type": "stream",
          "name": "stderr",
          "text": [
            "\u001b[34m\u001b[1mwandb\u001b[0m: Agent Starting Run: 6yx0t7df with config:\n",
            "\u001b[34m\u001b[1mwandb\u001b[0m: \tactivation: relu\n",
            "\u001b[34m\u001b[1mwandb\u001b[0m: \tbatch_size: 32\n",
            "\u001b[34m\u001b[1mwandb\u001b[0m: \tdropout: 0.1\n",
            "\u001b[34m\u001b[1mwandb\u001b[0m: \tepochs: 1000\n",
            "\u001b[34m\u001b[1mwandb\u001b[0m: \thidden_layer_size: 16\n",
            "\u001b[34m\u001b[1mwandb\u001b[0m: \tlearning_rate: 0.01\n",
            "\u001b[34m\u001b[1mwandb\u001b[0m: \tlstm_layer_size: 32\n",
            "\u001b[34m\u001b[1mwandb\u001b[0m: \toptimizer: adam\n",
            "\u001b[34m\u001b[1mwandb\u001b[0m: \ttime_step: 1\n",
            "\u001b[34m\u001b[1mwandb\u001b[0m: W&B API key is configured. Use \u001b[1m`wandb login --relogin`\u001b[0m to force relogin\n"
          ]
        },
        {
          "output_type": "display_data",
          "data": {
            "text/plain": [
              "VBox(children=(Label(value='Waiting for wandb.init()...\\r'), FloatProgress(value=0.016668856983354394, max=1.0…"
            ],
            "application/vnd.jupyter.widget-view+json": {
              "version_major": 2,
              "version_minor": 0,
              "model_id": "c682cef2b7d54e99a7411ba5e1c428f4"
            }
          },
          "metadata": {}
        },
        {
          "output_type": "display_data",
          "data": {
            "text/plain": [
              "<IPython.core.display.HTML object>"
            ],
            "text/html": [
              "Tracking run with wandb version 0.15.1"
            ]
          },
          "metadata": {}
        },
        {
          "output_type": "display_data",
          "data": {
            "text/plain": [
              "<IPython.core.display.HTML object>"
            ],
            "text/html": [
              "Run data is saved locally in <code>/content/wandb/run-20230503_082647-6yx0t7df</code>"
            ]
          },
          "metadata": {}
        },
        {
          "output_type": "display_data",
          "data": {
            "text/plain": [
              "<IPython.core.display.HTML object>"
            ],
            "text/html": [
              "Syncing run <strong><a href='https://wandb.ai/pilwookmoon/lstm_sweep_colab/runs/6yx0t7df' target=\"_blank\">cerulean-sweep-10</a></strong> to <a href='https://wandb.ai/pilwookmoon/lstm_sweep_colab' target=\"_blank\">Weights & Biases</a> (<a href='https://wandb.me/run' target=\"_blank\">docs</a>)<br/>Sweep page: <a href='https://wandb.ai/pilwookmoon/lstm_sweep_colab/sweeps/9v59afe8' target=\"_blank\">https://wandb.ai/pilwookmoon/lstm_sweep_colab/sweeps/9v59afe8</a>"
            ]
          },
          "metadata": {}
        },
        {
          "output_type": "display_data",
          "data": {
            "text/plain": [
              "<IPython.core.display.HTML object>"
            ],
            "text/html": [
              " View project at <a href='https://wandb.ai/pilwookmoon/lstm_sweep_colab' target=\"_blank\">https://wandb.ai/pilwookmoon/lstm_sweep_colab</a>"
            ]
          },
          "metadata": {}
        },
        {
          "output_type": "display_data",
          "data": {
            "text/plain": [
              "<IPython.core.display.HTML object>"
            ],
            "text/html": [
              " View sweep at <a href='https://wandb.ai/pilwookmoon/lstm_sweep_colab/sweeps/9v59afe8' target=\"_blank\">https://wandb.ai/pilwookmoon/lstm_sweep_colab/sweeps/9v59afe8</a>"
            ]
          },
          "metadata": {}
        },
        {
          "output_type": "display_data",
          "data": {
            "text/plain": [
              "<IPython.core.display.HTML object>"
            ],
            "text/html": [
              " View run at <a href='https://wandb.ai/pilwookmoon/lstm_sweep_colab/runs/6yx0t7df' target=\"_blank\">https://wandb.ai/pilwookmoon/lstm_sweep_colab/runs/6yx0t7df</a>"
            ]
          },
          "metadata": {}
        },
        {
          "output_type": "stream",
          "name": "stdout",
          "text": [
            "x shape :  (70080, 1, 25)\n",
            "y shape :  (70080, 25)\n"
          ]
        },
        {
          "output_type": "stream",
          "name": "stderr",
          "text": [
            "WARNING:tensorflow:Layer lstm will not use cuDNN kernels since it doesn't meet the criteria. It will use a generic GPU kernel as fallback when running on GPU.\n"
          ]
        },
        {
          "output_type": "stream",
          "name": "stdout",
          "text": [
            "x shape :  (17520, 1, 25)\n",
            "y shape :  (17520, 25)\n",
            "Epoch 1/1000\n"
          ]
        },
        {
          "output_type": "stream",
          "name": "stderr",
          "text": [
            "/usr/local/lib/python3.10/dist-packages/keras/optimizers/legacy/adam.py:117: UserWarning: The `lr` argument is deprecated, use `learning_rate` instead.\n",
            "  super().__init__(name, **kwargs)\n"
          ]
        },
        {
          "output_type": "stream",
          "name": "stdout",
          "text": [
            "2189/2190 [============================>.] - ETA: 0s - loss: 191.3538 - accuracy: 0.0911"
          ]
        },
        {
          "output_type": "stream",
          "name": "stderr",
          "text": [
            "\u001b[34m\u001b[1mwandb\u001b[0m: Adding directory to artifact (/content/wandb/run-20230503_082647-6yx0t7df/files/model-best)... Done. 0.0s\n"
          ]
        },
        {
          "output_type": "stream",
          "name": "stdout",
          "text": [
            "\b\b\b\b\b\b\b\b\b\b\b\b\b\b\b\b\b\b\b\b\b\b\b\b\b\b\b\b\b\b\b\b\b\b\b\b\b\b\b\b\b\b\b\b\b\b\b\b\b\b\b\b\b\b\b\b\b\b\b\b\b\b\b\b\b\b\b\b\b\b\b\b\b\b\b\b\b\b\b\b\b\b\b\b\b\b\b\b\r2190/2190 [==============================] - 13s 6ms/step - loss: 191.3173 - accuracy: 0.0910 - val_loss: 1598.4303 - val_accuracy: 0.0337\n",
            "Epoch 2/1000\n",
            "2189/2190 [============================>.] - ETA: 0s - loss: 167.3968 - accuracy: 0.1073"
          ]
        },
        {
          "output_type": "stream",
          "name": "stderr",
          "text": [
            "\u001b[34m\u001b[1mwandb\u001b[0m: Adding directory to artifact (/content/wandb/run-20230503_082647-6yx0t7df/files/model-best)... Done. 0.0s\n"
          ]
        },
        {
          "output_type": "stream",
          "name": "stdout",
          "text": [
            "\b\b\b\b\b\b\b\b\b\b\b\b\b\b\b\b\b\b\b\b\b\b\b\b\b\b\b\b\b\b\b\b\b\b\b\b\b\b\b\b\b\b\b\b\b\b\b\b\b\b\b\b\b\b\b\b\b\b\b\b\b\b\b\b\b\b\b\b\b\b\b\b\b\b\b\b\b\b\b\b\b\b\b\b\b\b\b\b\r2190/2190 [==============================] - 14s 6ms/step - loss: 167.4478 - accuracy: 0.1073 - val_loss: 1426.2227 - val_accuracy: 0.0375\n",
            "Epoch 3/1000\n",
            "2190/2190 [==============================] - 10s 5ms/step - loss: 169.4811 - accuracy: 0.1075 - val_loss: 1610.0562 - val_accuracy: 0.0434\n",
            "Epoch 4/1000\n",
            "2190/2190 [==============================] - 9s 4ms/step - loss: 161.8467 - accuracy: 0.1065 - val_loss: 1788.6100 - val_accuracy: 0.0341\n",
            "Epoch 5/1000\n",
            "2190/2190 [==============================] - 10s 5ms/step - loss: 162.2734 - accuracy: 0.1086 - val_loss: 1820.1084 - val_accuracy: 0.0457\n",
            "Epoch 6/1000\n",
            "2190/2190 [==============================] - 10s 5ms/step - loss: 158.5292 - accuracy: 0.1090 - val_loss: 1826.5824 - val_accuracy: 0.0464\n",
            "Epoch 7/1000\n",
            "2190/2190 [==============================] - 11s 5ms/step - loss: 157.5981 - accuracy: 0.1074 - val_loss: 1921.9902 - val_accuracy: 0.0378\n",
            "Epoch 8/1000\n",
            "2190/2190 [==============================] - 9s 4ms/step - loss: 159.0227 - accuracy: 0.1075 - val_loss: 1542.6252 - val_accuracy: 0.0370\n",
            "Epoch 9/1000\n",
            "2190/2190 [==============================] - 10s 5ms/step - loss: 160.3461 - accuracy: 0.1061 - val_loss: 1614.9766 - val_accuracy: 0.0369\n",
            "Epoch 10/1000\n",
            "2190/2190 [==============================] - 10s 5ms/step - loss: 152.9395 - accuracy: 0.1098 - val_loss: 1723.3829 - val_accuracy: 0.0342\n",
            "Epoch 11/1000\n",
            "2190/2190 [==============================] - 11s 5ms/step - loss: 156.6121 - accuracy: 0.1111 - val_loss: 1629.9390 - val_accuracy: 0.0349\n",
            "Epoch 12/1000\n",
            "2066/2190 [===========================>..] - ETA: 0s - loss: 156.8118 - accuracy: 0.1099"
          ]
        }
      ]
    },
    {
      "cell_type": "code",
      "source": [],
      "metadata": {
        "id": "RIg8uig9nQGZ"
      },
      "execution_count": 6,
      "outputs": []
    }
  ]
}